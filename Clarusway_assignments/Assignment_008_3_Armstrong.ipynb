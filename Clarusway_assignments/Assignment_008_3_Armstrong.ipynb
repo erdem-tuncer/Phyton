{
  "nbformat": 4,
  "nbformat_minor": 0,
  "metadata": {
    "colab": {
      "name": "Assignment-008/3-Armstrong.ipynb",
      "provenance": [],
      "collapsed_sections": [],
      "authorship_tag": "ABX9TyN6C7i2ER2/cMAoA02y+U2u",
      "include_colab_link": true
    },
    "kernelspec": {
      "name": "python3",
      "display_name": "Python 3"
    },
    "language_info": {
      "name": "python"
    }
  },
  "cells": [
    {
      "cell_type": "markdown",
      "metadata": {
        "id": "view-in-github",
        "colab_type": "text"
      },
      "source": [
        "<a href=\"https://colab.research.google.com/github/T-Erdem/python-project/blob/main/Assignment_008_3_Armstrong.ipynb\" target=\"_parent\"><img src=\"https://colab.research.google.com/assets/colab-badge.svg\" alt=\"Open In Colab\"/></a>"
      ]
    },
    {
      "cell_type": "code",
      "metadata": {
        "id": "NFP3Gp76zTF3"
      },
      "source": [
        "while True:\n",
        "    number = input(\"enter a pos number. \")\n",
        "    digits = len(number)\n",
        "    summ = 0\n",
        "    if not number.isdigit() :  #if'i uyarı vermek için kullanıcam. True döndürmek için not koyduk\n",
        "        print(number, \"is invalid entry. \")\n",
        "    elif int(number) >=0 : #elif'ten sonrası ekstra oldu. zaten burayı döndürür\n",
        "        for i in range(digits) :\n",
        "          summ = summ + int(number[i]) ** digits\n",
        "        if summ == int(number) :\n",
        "            print(number, \"is an Armstrong Number.\")\n",
        "            break\n",
        "        else:\n",
        "            print(number, \"is not an Armstrong number.\")\n",
        "            break "
      ],
      "execution_count": null,
      "outputs": []
    }
  ]
}