{
  "nbformat": 4,
  "nbformat_minor": 0,
  "metadata": {
    "colab": {
      "name": "Assignment-008/5 (Fibonacci Numbers).ipynb",
      "provenance": [],
      "collapsed_sections": [],
      "authorship_tag": "ABX9TyOPCIcgkgyMbHIilD0VB3jk",
      "include_colab_link": true
    },
    "kernelspec": {
      "name": "python3",
      "display_name": "Python 3"
    },
    "language_info": {
      "name": "python"
    }
  },
  "cells": [
    {
      "cell_type": "markdown",
      "metadata": {
        "id": "view-in-github",
        "colab_type": "text"
      },
      "source": [
        "<a href=\"https://colab.research.google.com/github/T-Erdem/python-project/blob/main/Assignment_008_5_(Fibonacci_Numbers).ipynb\" target=\"_parent\"><img src=\"https://colab.research.google.com/assets/colab-badge.svg\" alt=\"Open In Colab\"/></a>"
      ]
    },
    {
      "cell_type": "code",
      "metadata": {
        "colab": {
          "base_uri": "https://localhost:8080/"
        },
        "id": "YHyJ0IGPEwat",
        "outputId": "711957c6-3e4f-4407-9378-ee1fc4dd3fa6"
      },
      "source": [
        "#fibonacci →  [1, 1, 2, 3, 5, 8, 13, 21, 34, 55]\n",
        "i = 1\n",
        "fibonacci = [i]\n",
        "while i < 55:\n",
        "  if i == 1:\n",
        "    fibonacci.append(i)\n",
        "    i += i\n",
        "    fibonacci.append(i)\n",
        "  else:\n",
        "    i = i + fibonacci[len(fibonacci)-2]\n",
        "    fibonacci.append(i)\n",
        "print(fibonacci)"
      ],
      "execution_count": null,
      "outputs": [
        {
          "output_type": "stream",
          "text": [
            "[1, 1, 2, 3, 5, 8, 13, 21, 34, 55]\n"
          ],
          "name": "stdout"
        }
      ]
    },
    {
      "cell_type": "code",
      "metadata": {
        "id": "gV6zZyVzG1Bv"
      },
      "source": [
        ""
      ],
      "execution_count": null,
      "outputs": []
    }
  ]
}