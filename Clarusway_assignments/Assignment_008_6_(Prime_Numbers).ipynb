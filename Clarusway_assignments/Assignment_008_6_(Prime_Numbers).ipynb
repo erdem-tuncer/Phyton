{
  "nbformat": 4,
  "nbformat_minor": 0,
  "metadata": {
    "colab": {
      "name": "Assignment-008/6 (Prime Numbers).ipynb ",
      "provenance": [],
      "collapsed_sections": [],
      "authorship_tag": "ABX9TyP0BHCT1F4prPv2/CE20m2Z",
      "include_colab_link": true
    },
    "kernelspec": {
      "name": "python3",
      "display_name": "Python 3"
    },
    "language_info": {
      "name": "python"
    }
  },
  "cells": [
    {
      "cell_type": "markdown",
      "metadata": {
        "id": "view-in-github",
        "colab_type": "text"
      },
      "source": [
        "<a href=\"https://colab.research.google.com/github/T-Erdem/python-project/blob/main/Assignment_008_6_(Prime_Numbers).ipynb\" target=\"_parent\"><img src=\"https://colab.research.google.com/assets/colab-badge.svg\" alt=\"Open In Colab\"/></a>"
      ]
    },
    {
      "cell_type": "code",
      "metadata": {
        "colab": {
          "base_uri": "https://localhost:8080/"
        },
        "id": "VdBVPmyZkcLj",
        "outputId": "c34afb18-4402-4e52-ae4e-346104196775"
      },
      "source": [
        "num = int(input(\"Enter a number to get the list of prime numbers \"))\n",
        "count = 0\n",
        "prime_list = []\n",
        "for n in range(2, num+1) :\n",
        "    for i in range(2, n+1) :\n",
        "        if n % i == 0 :\n",
        "            count += 1\n",
        "    if  count >= 2 :\n",
        "        count = 0\n",
        "    else:\n",
        "      prime_list.append(n)\n",
        "      count = 0\n",
        "print(prime_list)"
      ],
      "execution_count": 5,
      "outputs": [
        {
          "output_type": "stream",
          "text": [
            "Enter a number to get the list of prime numbers 100\n",
            "[2, 3, 5, 7, 11, 13, 17, 19, 23, 29, 31, 37, 41, 43, 47, 53, 59, 61, 67, 71, 73, 79, 83, 89, 97]\n"
          ],
          "name": "stdout"
        }
      ]
    },
    {
      "cell_type": "code",
      "metadata": {
        "id": "799VdjZuql0K"
      },
      "source": [
        ""
      ],
      "execution_count": null,
      "outputs": []
    }
  ]
}