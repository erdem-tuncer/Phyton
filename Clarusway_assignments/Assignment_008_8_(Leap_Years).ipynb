{
  "nbformat": 4,
  "nbformat_minor": 0,
  "metadata": {
    "colab": {
      "name": "Assignment-008/8 (Leap Years).ipynb",
      "provenance": [],
      "collapsed_sections": [],
      "authorship_tag": "ABX9TyMm7cyZuY8nruPPaissQR2E",
      "include_colab_link": true
    },
    "kernelspec": {
      "name": "python3",
      "display_name": "Python 3"
    },
    "language_info": {
      "name": "python"
    }
  },
  "cells": [
    {
      "cell_type": "markdown",
      "metadata": {
        "id": "view-in-github",
        "colab_type": "text"
      },
      "source": [
        "<a href=\"https://colab.research.google.com/github/T-Erdem/python-project/blob/main/Assignment_008_8_(Leap_Years).ipynb\" target=\"_parent\"><img src=\"https://colab.research.google.com/assets/colab-badge.svg\" alt=\"Open In Colab\"/></a>"
      ]
    },
    {
      "cell_type": "code",
      "metadata": {
        "colab": {
          "base_uri": "https://localhost:8080/"
        },
        "id": "3_VKMOjep54O",
        "outputId": "c119d6f3-5b9b-428c-fcc1-f0233aa61ebd"
      },
      "source": [
        "leap = int(input(\"Please write a year to see if it is a leap year or not: \"))\n",
        "if leap % 400 == 0:\n",
        "    print(leap, \"is a leap year\")\n",
        "elif leap %100 == 0:\n",
        "    print(leap, \"is not a leap year\")\n",
        "elif leap %4==0:\n",
        "    print(leap, \"is a leap year\")\n",
        "else:\n",
        "     print(leap, \"is a not leap year\")"
      ],
      "execution_count": 13,
      "outputs": [
        {
          "output_type": "stream",
          "text": [
            "Please write a year to see if it is a leap year or not: 2500\n",
            "2500 is not a leap year\n"
          ],
          "name": "stdout"
        }
      ]
    },
    {
      "cell_type": "code",
      "metadata": {
        "id": "OmqZDo8DqYBY"
      },
      "source": [
        ""
      ],
      "execution_count": null,
      "outputs": []
    }
  ]
}