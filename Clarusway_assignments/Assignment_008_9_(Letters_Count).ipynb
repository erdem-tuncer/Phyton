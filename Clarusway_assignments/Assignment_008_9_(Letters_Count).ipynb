{
  "nbformat": 4,
  "nbformat_minor": 0,
  "metadata": {
    "colab": {
      "name": "Assignment-008/9 (Letters Count).ipynb",
      "provenance": [],
      "collapsed_sections": [],
      "authorship_tag": "ABX9TyMZORppiaggrofmqaS2Rd60",
      "include_colab_link": true
    },
    "kernelspec": {
      "name": "python3",
      "display_name": "Python 3"
    },
    "language_info": {
      "name": "python"
    }
  },
  "cells": [
    {
      "cell_type": "markdown",
      "metadata": {
        "id": "view-in-github",
        "colab_type": "text"
      },
      "source": [
        "<a href=\"https://colab.research.google.com/github/T-Erdem/python-project/blob/main/Assignment_008_9_(Letters_Count).ipynb\" target=\"_parent\"><img src=\"https://colab.research.google.com/assets/colab-badge.svg\" alt=\"Open In Colab\"/></a>"
      ]
    },
    {
      "cell_type": "markdown",
      "metadata": {
        "id": "cMMO956GtzVS"
      },
      "source": [
        "Task:\n",
        "\n",
        "Count the number of each letter in a sentence.\n",
        "The department you work for undertook a project construction that makes word / text analysis. You are asked to calculate the number of letters or any chars in the sentences entered under this project.\n",
        "Write a Python program that;\n",
        "\n",
        "1. takes a sentence from the user,\n",
        "2. counts the number of each letter of the sentence,\n",
        "3. collects the letters/chars as a key and the counted numbers as a value in a dictionary."
      ]
    },
    {
      "cell_type": "code",
      "metadata": {
        "id": "cikV5_-2vOgx",
        "colab": {
          "base_uri": "https://localhost:8080/"
        },
        "outputId": "0f0aa4d6-5e43-4a49-8832-9f77d7207168"
      },
      "source": [
        "a= str(input(\"please write a sentence: \"))\n",
        "d={}\n",
        "for i in set(a):\n",
        "    d[i]=a.count(i)\n",
        "print(d)"
      ],
      "execution_count": 3,
      "outputs": [
        {
          "output_type": "stream",
          "text": [
            "please write a sentence: hippo runs to us!\n",
            "{' ': 3, 'p': 2, '!': 1, 'n': 1, 's': 2, 'o': 2, 'i': 1, 'r': 1, 'h': 1, 'u': 2, 't': 1}\n"
          ],
          "name": "stdout"
        }
      ]
    },
    {
      "cell_type": "code",
      "metadata": {
        "id": "70-rTxoo8mDd"
      },
      "source": [
        ""
      ],
      "execution_count": 3,
      "outputs": []
    }
  ]
}