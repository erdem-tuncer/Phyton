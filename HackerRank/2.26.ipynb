{
 "cells": [
  {
   "cell_type": "markdown",
   "id": "e2375597",
   "metadata": {},
   "source": [
    "PreparePythonBasic Data TypesList Comprehensions\n"
   ]
  },
  {
   "cell_type": "markdown",
   "id": "3413d3b0",
   "metadata": {},
   "source": [
    "Let's learn about list comprehensions! You are given three integers  and  representing the dimensions of a cuboid along with an integer . Print a list of all possible coordinates given by  on a 3D grid where the sum of  is not equal to . Here, . Please use list comprehensions rather than multiple loops, as a learning exercise.\n",
    "\n",
    "Example\n",
    "\n",
    "\n",
    "\n",
    "\n",
    "All permutations of  are:\n",
    ".\n",
    "\n",
    "Print an array of the elements that do not sum to .\n",
    "\n",
    "\n",
    "Input Format\n",
    "\n",
    "Four integers  and , each on a separate line.\n",
    "\n",
    "Constraints\n",
    "\n",
    "Print the list in lexicographic increasing order.\n",
    "\n",
    "Sample Input 0\n",
    "\n",
    "1\n",
    "1\n",
    "1\n",
    "2\n",
    "Sample Output 0\n",
    "\n",
    "[[0, 0, 0], [0, 0, 1], [0, 1, 0], [1, 0, 0], [1, 1, 1]]\n",
    "Explanation 0\n",
    "\n",
    "Each variable  and  will have values of  or . All permutations of lists in the form .\n",
    "Remove all arrays that sum to  to leave only the valid permutations.\n",
    "\n",
    "Sample Input 1\n",
    "\n",
    "2\n",
    "2\n",
    "2\n",
    "2\n",
    "Sample Output 1\n",
    "\n",
    "[[0, 0, 0], [0, 0, 1], [0, 1, 0], [0, 1, 2], [0, 2, 1], [0, 2, 2], [1, 0, 0], [1, 0, 2], [1, 1, 1], [1, 1, 2], [1, 2, 0], [1, 2, 1], [1, 2, 2], [2, 0, 1], [2, 0, 2], [2, 1, 0], [2, 1, 1], [2, 1, 2], [2, 2, 0], [2, 2, 1], [2, 2, 2]]"
   ]
  },
  {
   "cell_type": "code",
   "execution_count": null,
   "id": "95b5d487",
   "metadata": {},
   "outputs": [],
   "source": []
  },
  {
   "cell_type": "code",
   "execution_count": null,
   "id": "e069f6ea",
   "metadata": {},
   "outputs": [],
   "source": []
  },
  {
   "cell_type": "code",
   "execution_count": 1,
   "id": "97db1d5f",
   "metadata": {},
   "outputs": [
    {
     "name": "stdout",
     "output_type": "stream",
     "text": [
      "1\n",
      "1\n",
      "1\n",
      "2\n",
      "[[0, 0, 0], [0, 0, 1], [0, 1, 0], [1, 0, 0], [1, 1, 1]]\n"
     ]
    }
   ],
   "source": [
    "if __name__ == '__main__':\n",
    "    x = int(input())\n",
    "    y = int(input())\n",
    "    z = int(input())\n",
    "    n = int(input())\n",
    "\n",
    "    print(list([i,j,k] for i in range(x+1) for j in range(y+1) for k in range(z+1)  if i+j+k !=n))"
   ]
  },
  {
   "cell_type": "code",
   "execution_count": 8,
   "id": "91c4d8bb",
   "metadata": {},
   "outputs": [
    {
     "name": "stdout",
     "output_type": "stream",
     "text": [
      "1\n",
      "1\n",
      "1\n",
      "2\n",
      "[0, 0, 0]\n",
      "[0, 0, 1]\n",
      "[0, 1, 0]\n",
      "[1, 0, 0]\n",
      "[1, 1, 1]\n"
     ]
    }
   ],
   "source": [
    "if __name__ == '__main__':\n",
    "    x = int(input())\n",
    "    y = int(input())\n",
    "    z = int(input())\n",
    "    n = int(input())\n",
    "    \n",
    "    for i in range(x+1):\n",
    "        for j in range(y+1):\n",
    "            for k in range(z+1):\n",
    "                if i+j+k != n:\n",
    "                     print ([i,j,k])"
   ]
  },
  {
   "cell_type": "code",
   "execution_count": 6,
   "id": "8e1a59ae",
   "metadata": {},
   "outputs": [
    {
     "name": "stdout",
     "output_type": "stream",
     "text": [
      "0\n",
      "1\n"
     ]
    }
   ],
   "source": [
    "x = 1\n",
    "for i in range(x+1):\n",
    "    print (i)"
   ]
  },
  {
   "cell_type": "code",
   "execution_count": 10,
   "id": "35b062a0",
   "metadata": {},
   "outputs": [
    {
     "name": "stdout",
     "output_type": "stream",
     "text": [
      "1\n",
      "1\n",
      "1\n",
      "2\n",
      "[[0, 0, 0], [0, 0, 1], [0, 1, 0], [1, 0, 0], [1, 1, 1]]\n"
     ]
    }
   ],
   "source": [
    "if __name__ == '__main__':\n",
    "    x = int(input())\n",
    "    y = int(input())\n",
    "    z = int(input())\n",
    "    n = int(input())\n",
    "    \n",
    "    print(list([i,j,k] for i in range(x+1) for j in range(y+1) for k in range(z+1) if i+j+k != n))"
   ]
  },
  {
   "cell_type": "code",
   "execution_count": null,
   "id": "70b533f6",
   "metadata": {},
   "outputs": [],
   "source": []
  },
  {
   "cell_type": "markdown",
   "id": "be655055",
   "metadata": {},
   "source": [
    "----------------------------"
   ]
  },
  {
   "cell_type": "code",
   "execution_count": null,
   "id": "0bfacb06",
   "metadata": {},
   "outputs": [],
   "source": []
  },
  {
   "cell_type": "markdown",
   "id": "acd3aa47",
   "metadata": {},
   "source": [
    "https://www.hackerrank.com/challenges/python-lists/problem?isFullScreen=true"
   ]
  },
  {
   "cell_type": "code",
   "execution_count": 17,
   "id": "6f9713c4",
   "metadata": {},
   "outputs": [
    {
     "name": "stdout",
     "output_type": "stream",
     "text": [
      "12\n",
      "insert 0 4\n",
      "print\n",
      "[4]\n",
      "\n"
     ]
    },
    {
     "ename": "IndexError",
     "evalue": "list index out of range",
     "output_type": "error",
     "traceback": [
      "\u001b[1;31m---------------------------------------------------------------------------\u001b[0m",
      "\u001b[1;31mIndexError\u001b[0m                                Traceback (most recent call last)",
      "\u001b[1;32m~\\AppData\\Local\\Temp/ipykernel_10016/2704235612.py\u001b[0m in \u001b[0;36m<module>\u001b[1;34m\u001b[0m\n\u001b[0;32m      4\u001b[0m \u001b[1;32mfor\u001b[0m \u001b[0mi\u001b[0m \u001b[1;32min\u001b[0m \u001b[0mrange\u001b[0m\u001b[1;33m(\u001b[0m\u001b[1;36m0\u001b[0m\u001b[1;33m,\u001b[0m\u001b[0mN\u001b[0m\u001b[1;33m)\u001b[0m\u001b[1;33m:\u001b[0m\u001b[1;33m\u001b[0m\u001b[1;33m\u001b[0m\u001b[0m\n\u001b[0;32m      5\u001b[0m     \u001b[0mip\u001b[0m \u001b[1;33m=\u001b[0m \u001b[0minput\u001b[0m\u001b[1;33m(\u001b[0m\u001b[1;33m)\u001b[0m\u001b[1;33m.\u001b[0m\u001b[0msplit\u001b[0m\u001b[1;33m(\u001b[0m\u001b[1;33m)\u001b[0m\u001b[1;33m;\u001b[0m\u001b[1;33m\u001b[0m\u001b[1;33m\u001b[0m\u001b[0m\n\u001b[1;32m----> 6\u001b[1;33m     \u001b[1;32mif\u001b[0m \u001b[0mip\u001b[0m\u001b[1;33m[\u001b[0m\u001b[1;36m0\u001b[0m\u001b[1;33m]\u001b[0m \u001b[1;33m==\u001b[0m \u001b[1;34m\"print\"\u001b[0m\u001b[1;33m:\u001b[0m\u001b[1;33m\u001b[0m\u001b[1;33m\u001b[0m\u001b[0m\n\u001b[0m\u001b[0;32m      7\u001b[0m         \u001b[0mprint\u001b[0m\u001b[1;33m(\u001b[0m\u001b[0mOutput\u001b[0m\u001b[1;33m)\u001b[0m\u001b[1;33m\u001b[0m\u001b[1;33m\u001b[0m\u001b[0m\n\u001b[0;32m      8\u001b[0m     \u001b[1;32melif\u001b[0m \u001b[0mip\u001b[0m\u001b[1;33m[\u001b[0m\u001b[1;36m0\u001b[0m\u001b[1;33m]\u001b[0m \u001b[1;33m==\u001b[0m \u001b[1;34m\"insert\"\u001b[0m\u001b[1;33m:\u001b[0m\u001b[1;33m\u001b[0m\u001b[1;33m\u001b[0m\u001b[0m\n",
      "\u001b[1;31mIndexError\u001b[0m: list index out of range"
     ]
    }
   ],
   "source": [
    "\n",
    "N = int(input())\n",
    "# Lists in Python - Hacker Rank Solution START\n",
    "Output = [];\n",
    "for i in range(0,N):\n",
    "    ip = input().split();\n",
    "    if ip[0] == \"print\":\n",
    "        print(Output)\n",
    "    elif ip[0] == \"insert\":\n",
    "        Output.insert(int(ip[1]),int(ip[2]))\n",
    "    elif ip[0] == \"remove\":\n",
    "        Output.remove(int(ip[1]))\n",
    "    elif ip[0] == \"pop\":\n",
    "        Output.pop();\n",
    "    elif ip[0] == \"append\":\n",
    "        Output.append(int(ip[1]))\n",
    "    elif ip[0] == \"sort\":\n",
    "        Output.sort();\n",
    "    else:\n",
    "        Output.reverse();\n",
    "# Lists in Python - Hacker Rank Solution END\n",
    "     \n"
   ]
  },
  {
   "cell_type": "code",
   "execution_count": null,
   "id": "5ef1ed9d",
   "metadata": {},
   "outputs": [],
   "source": []
  },
  {
   "cell_type": "code",
   "execution_count": 14,
   "id": "c5b75bbd",
   "metadata": {},
   "outputs": [
    {
     "name": "stdout",
     "output_type": "stream",
     "text": [
      "print\n"
     ]
    },
    {
     "ename": "ValueError",
     "evalue": "invalid literal for int() with base 10: 'print'",
     "output_type": "error",
     "traceback": [
      "\u001b[1;31m---------------------------------------------------------------------------\u001b[0m",
      "\u001b[1;31mValueError\u001b[0m                                Traceback (most recent call last)",
      "\u001b[1;32m~\\AppData\\Local\\Temp/ipykernel_10016/4221703314.py\u001b[0m in \u001b[0;36m<module>\u001b[1;34m\u001b[0m\n\u001b[1;32m----> 1\u001b[1;33m \u001b[0mN\u001b[0m \u001b[1;33m=\u001b[0m \u001b[0mint\u001b[0m\u001b[1;33m(\u001b[0m\u001b[0minput\u001b[0m\u001b[1;33m(\u001b[0m\u001b[1;33m)\u001b[0m\u001b[1;33m)\u001b[0m\u001b[1;33m\u001b[0m\u001b[1;33m\u001b[0m\u001b[0m\n\u001b[0m\u001b[0;32m      2\u001b[0m \u001b[0mN\u001b[0m\u001b[1;33m\u001b[0m\u001b[1;33m\u001b[0m\u001b[0m\n",
      "\u001b[1;31mValueError\u001b[0m: invalid literal for int() with base 10: 'print'"
     ]
    }
   ],
   "source": [
    "N = int(input())\n",
    "N"
   ]
  },
  {
   "cell_type": "code",
   "execution_count": 20,
   "id": "f0438187",
   "metadata": {},
   "outputs": [
    {
     "name": "stdout",
     "output_type": "stream",
     "text": [
      "1\n",
      "2\n"
     ]
    }
   ],
   "source": [
    "N = int(input())\n",
    "output = []\n",
    "\n",
    "for i in range(0,N):\n",
    "    variab = input().split();\n",
    "    if variab[0] == 'insert':\n",
    "        output.insert(int(variab[1]), int(variab[2]))\n",
    "    elif variab[0] == 'print':\n",
    "        print(output)\n",
    "    elif variab[0] == 'remove':\n",
    "        output.remove(int(variab[1]))\n",
    "    elif variab[0] == 'append':\n",
    "        output.append(int(variab[1]))\n",
    "    elif variab[0] == 'sort':\n",
    "        output.sort()\n",
    "    elif variab[0] == 'pop':\n",
    "        output.pop()\n",
    "    else:\n",
    "        output.reverse()\n",
    "\n",
    "        "
   ]
  },
  {
   "cell_type": "markdown",
   "id": "2fa60bd3",
   "metadata": {},
   "source": [
    "### "
   ]
  },
  {
   "cell_type": "markdown",
   "id": "818bf95a",
   "metadata": {},
   "source": [
    "https://www.hackerrank.com/challenges/find-second-maximum-number-in-a-list/problem?isFullScreen=true"
   ]
  },
  {
   "cell_type": "code",
   "execution_count": 38,
   "id": "c654719c",
   "metadata": {},
   "outputs": [
    {
     "name": "stdout",
     "output_type": "stream",
     "text": [
      "4\n",
      "1 4 2 6\n",
      "4\n"
     ]
    }
   ],
   "source": [
    "if __name__ == '__main__':\n",
    "    n = int(input())\n",
    "    arr = map(int, input().split())\n",
    "    little_list = []\n",
    "    for i in arr:\n",
    "        little_list.append(i)\n",
    "    if sorted(little_list)[-2] < sorted(little_list)[-1]:\n",
    "        print(sorted(little_list)[-2])\n",
    "    elif sorted(little_list)[-3] < sorted(little_list)[-2]:\n",
    "        print(sorted(little_list)[-3])\n",
    "    else:\n",
    "        print(sorted(little_list)[-4])"
   ]
  },
  {
   "cell_type": "code",
   "execution_count": 42,
   "id": "7f81f8bd",
   "metadata": {},
   "outputs": [
    {
     "name": "stdout",
     "output_type": "stream",
     "text": [
      "4 \n",
      "1 4 2 7\n",
      "4\n"
     ]
    }
   ],
   "source": [
    "#solution\n",
    "# Find the Runner-Up Score! in Python - Hacker Rank Solution\n",
    "if __name__ == '__main__':\n",
    "    n = int(input())\n",
    "    arr = map(int, input().split())\n",
    "    print(sorted(list(set(arr)))[-2])\n"
   ]
  },
  {
   "cell_type": "markdown",
   "id": "322e9e19",
   "metadata": {},
   "source": [
    "https://www.hackerrank.com/challenges/nested-list/problem?isFullScreen=true&h_r=next-challenge&h_v=zen"
   ]
  },
  {
   "cell_type": "code",
   "execution_count": null,
   "id": "588c0fd3",
   "metadata": {},
   "outputs": [],
   "source": []
  },
  {
   "cell_type": "code",
   "execution_count": null,
   "id": "d39aef07",
   "metadata": {},
   "outputs": [],
   "source": [
    "Finding the percentage"
   ]
  },
  {
   "cell_type": "code",
   "execution_count": null,
   "id": "e78aee93",
   "metadata": {},
   "outputs": [],
   "source": [
    "https://www.hackerrank.com/challenges/finding-the-percentage/problem?isFullScreen=true"
   ]
  },
  {
   "cell_type": "code",
   "execution_count": null,
   "id": "1e75dcef",
   "metadata": {},
   "outputs": [],
   "source": [
    "3\n",
    "Krishna 67 68 69\n",
    "Arjun 70 98 63\n",
    "Malika 52 56 60\n",
    "Malika"
   ]
  },
  {
   "cell_type": "code",
   "execution_count": 1,
   "id": "279c7b2d",
   "metadata": {},
   "outputs": [
    {
     "name": "stdout",
     "output_type": "stream",
     "text": [
      "3\n",
      "Krishna 67 68 69\n",
      "Arjun 70 98 63\n",
      "Malika 52 56 60\n",
      "Malika\n"
     ]
    }
   ],
   "source": [
    "if __name__ == '__main__':\n",
    "    n = int(input())\n",
    "    student_marks = {}\n",
    "    for _ in range(n):\n",
    "        name, *line = input().split()\n",
    "        scores = list(map(float, line))\n",
    "        student_marks[name] = scores\n",
    "    query_name = input()\n"
   ]
  },
  {
   "cell_type": "code",
   "execution_count": 3,
   "id": "9ad79839",
   "metadata": {},
   "outputs": [
    {
     "name": "stdout",
     "output_type": "stream",
     "text": [
      "3\n",
      "Kri 30 40 20\n",
      "kol 14 14 21\n",
      "pol 123 1 23\n",
      "kol\n",
      "16.33\n"
     ]
    }
   ],
   "source": [
    "\n",
    "\n",
    "# Finding the percentage in Python - Hacker Rank Solution\n",
    "if __name__ == '__main__':\n",
    "    n = int(input())\n",
    "    student_marks = {}\n",
    "    for _ in range(n):\n",
    "        name, *line = input().split()\n",
    "        scores = list(map(float, line))\n",
    "        student_marks[name] = scores\n",
    "    query_name = input()\n",
    "\n",
    "    # Finding the percentage in Python - Hacker Rank Solution START\n",
    "    output = list(student_marks[query_name])\n",
    "    per = sum(output)/len(output);\n",
    "    print(\"%.2f\" % per);\n",
    "    # Finding the percentage in Python - Hacker Rank Solution END\n",
    "   "
   ]
  },
  {
   "cell_type": "code",
   "execution_count": 7,
   "id": "65b4deb8",
   "metadata": {},
   "outputs": [
    {
     "name": "stdout",
     "output_type": "stream",
     "text": [
      "3\n",
      "er 2 6\n",
      "gt 2 6\n",
      "yt 52 2\n",
      "er\n",
      "{'er': [2.0, 6.0], 'gt': [2.0, 6.0], 'yt': [52.0, 2.0]}\n",
      "[2.0, 6.0]\n",
      "bunun liste hali:\n",
      "[2.0, 6.0]\n",
      "4.0\n"
     ]
    }
   ],
   "source": [
    "if __name__ == '__main__':\n",
    "    n = int(input())\n",
    "    student_marks = {}\n",
    "    for _ in range(n):\n",
    "        name, *line = input().split()\n",
    "        scores = list(map(float, line))\n",
    "        student_marks[name] = scores\n",
    "    query_name = input()\n",
    "    print (student_marks)\n",
    "    print (student_marks[query_name])\n",
    "    print('bunun liste hali:')\n",
    "    print(list(student_marks[query_name]))\n",
    "    print(sum(list(student_marks[query_name]))/len(list(student_marks[query_name])))\n",
    "\n",
    "        \n",
    "    "
   ]
  },
  {
   "cell_type": "code",
   "execution_count": null,
   "id": "41bb850d",
   "metadata": {},
   "outputs": [],
   "source": [
    "#my solution:\n",
    "print(f'{sum(list(student_marks[query_name]))/len(list(student_marks[query_name])):.2f}')"
   ]
  },
  {
   "cell_type": "code",
   "execution_count": null,
   "id": "3d21780c",
   "metadata": {},
   "outputs": [],
   "source": [
    "#youtube solution:\n",
    "if __name__ == '__main__':\n",
    "    n = int(input())\n",
    "    student_marks = {}\n",
    "    for _ in range(n):\n",
    "        name, *line = input().split()\n",
    "        scores = list(map(float, line))\n",
    "        student_marks[name] = scores\n",
    "    query_name = input()\n",
    "    marks=student_marks[name]\n",
    "    #format(value, '.nf')\n",
    "    print(format(sum(marks)/3,'.2f'))"
   ]
  },
  {
   "cell_type": "code",
   "execution_count": null,
   "id": "f0e8cce0",
   "metadata": {},
   "outputs": [],
   "source": []
  },
  {
   "cell_type": "markdown",
   "id": "01d608e9",
   "metadata": {},
   "source": [
    "https://www.hackerrank.com/challenges/find-a-string/problem?isFullScreen=true&h_r=next-challenge&h_v=zen"
   ]
  },
  {
   "cell_type": "code",
   "execution_count": null,
   "id": "2005c9c2",
   "metadata": {},
   "outputs": [],
   "source": [
    "#solution 1\n",
    "def count_substring(string, sub_string):\n",
    "    c = 0\n",
    "    l=len(sub_string)\n",
    "    for i in range(len(string)):\n",
    "        s=string[i:i+l]\n",
    "        if s == sub_string:\n",
    "            c +=1\n",
    "    return c\n",
    "\n",
    "if __name__ == '__main__':"
   ]
  },
  {
   "cell_type": "code",
   "execution_count": 8,
   "id": "e12a56c4",
   "metadata": {},
   "outputs": [
    {
     "name": "stdout",
     "output_type": "stream",
     "text": [
      "4\n"
     ]
    }
   ],
   "source": [
    "s='let me explain you let me explain you let me explatin sahil'\n",
    "#solution2\n",
    "#string.find(substring,start,end)\n",
    "\n",
    "x=s.find('me')\n",
    "print(x)"
   ]
  },
  {
   "cell_type": "code",
   "execution_count": 9,
   "id": "8b27c899",
   "metadata": {},
   "outputs": [
    {
     "name": "stdout",
     "output_type": "stream",
     "text": [
      "23\n"
     ]
    }
   ],
   "source": [
    "   \n",
    "s='let me explain you let me explain you let me explatin sahil'\n",
    "#solution2\n",
    "#string.find(substring,start,end)\n",
    "#              start, end\n",
    "x=s.find('me',5,30)\n",
    "print(x)"
   ]
  },
  {
   "cell_type": "code",
   "execution_count": 11,
   "id": "c590967f",
   "metadata": {},
   "outputs": [
    {
     "name": "stdout",
     "output_type": "stream",
     "text": [
      "42\n"
     ]
    }
   ],
   "source": [
    "#rfind\n",
    "y=s.rfind('me') #right to left\n",
    "print(y)"
   ]
  },
  {
   "cell_type": "code",
   "execution_count": 14,
   "id": "a2f67f27",
   "metadata": {},
   "outputs": [
    {
     "name": "stdout",
     "output_type": "stream",
     "text": [
      "23\n"
     ]
    }
   ],
   "source": [
    "s='let me explain you let me explain you let me explatin sahil'\n",
    "#solution2\n",
    "#string.find(substring,start,end)\n",
    "#              start, end\n",
    "x=s.find('me',5,30)\n",
    "print(x)"
   ]
  },
  {
   "cell_type": "code",
   "execution_count": 12,
   "id": "7bede807",
   "metadata": {},
   "outputs": [
    {
     "name": "stdout",
     "output_type": "stream",
     "text": [
      "-1\n"
     ]
    }
   ],
   "source": [
    "   012345678901234567890123456789012345678901234567890123456789\n",
    "s='let me explain you let me explain you let me explatin sahil'\n",
    "#solution2\n",
    "#string.find(substring,start,end)\n",
    "#              start, end\n",
    "x=s.find('erd')\n",
    "print(x)"
   ]
  },
  {
   "cell_type": "code",
   "execution_count": null,
   "id": "bca744a6",
   "metadata": {},
   "outputs": [],
   "source": []
  },
  {
   "cell_type": "code",
   "execution_count": null,
   "id": "7a7c11db",
   "metadata": {},
   "outputs": [],
   "source": [
    "def count_substring(string, sub_string):\n",
    "    c = 0\n",
    "    x=-1\n",
    "    while x < len(string):\n",
    "        z = string.find(sub_string,x+1)\n",
    "        if z==-1:\n",
    "            break\n",
    "        c+=1\n",
    "        x=z\n",
    "    return c\n",
    "\n",
    "if __name__ == '__main__':"
   ]
  },
  {
   "cell_type": "code",
   "execution_count": null,
   "id": "3f341ffb",
   "metadata": {},
   "outputs": [],
   "source": []
  },
  {
   "cell_type": "markdown",
   "id": "0bb1f581",
   "metadata": {},
   "source": [
    "https://www.youtube.com/watch?v=BWSHDRRizVU&list=PLPdtS77PaSusd3XWZQSfDlK7On5B1fXXT&index=17"
   ]
  },
  {
   "cell_type": "code",
   "execution_count": null,
   "id": "52a41eac",
   "metadata": {},
   "outputs": [],
   "source": []
  },
  {
   "cell_type": "code",
   "execution_count": null,
   "id": "4abc349c",
   "metadata": {},
   "outputs": [],
   "source": []
  },
  {
   "cell_type": "code",
   "execution_count": null,
   "id": "3342d8ae",
   "metadata": {},
   "outputs": [],
   "source": []
  },
  {
   "cell_type": "code",
   "execution_count": null,
   "id": "7627fb17",
   "metadata": {},
   "outputs": [],
   "source": []
  }
 ],
 "metadata": {
  "kernelspec": {
   "display_name": "Python 3 (ipykernel)",
   "language": "python",
   "name": "python3"
  },
  "language_info": {
   "codemirror_mode": {
    "name": "ipython",
    "version": 3
   },
   "file_extension": ".py",
   "mimetype": "text/x-python",
   "name": "python",
   "nbconvert_exporter": "python",
   "pygments_lexer": "ipython3",
   "version": "3.9.7"
  }
 },
 "nbformat": 4,
 "nbformat_minor": 5
}
