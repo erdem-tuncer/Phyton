{
  "nbformat": 4,
  "nbformat_minor": 0,
  "metadata": {
    "colab": {
      "name": "U-2021-PforDS-38,39-Pandas-Text and Time Methods.ipynb",
      "provenance": []
    },
    "kernelspec": {
      "name": "python3",
      "display_name": "Python 3"
    },
    "language_info": {
      "name": "python"
    }
  },
  "cells": [
    {
      "cell_type": "code",
      "metadata": {
        "id": "3DNYwtKSfvX5"
      },
      "source": [
        "#video 38\n",
        "import numpy as np\n",
        "import pandas as pd\n"
      ],
      "execution_count": 2,
      "outputs": []
    },
    {
      "cell_type": "markdown",
      "metadata": {
        "id": "uDEpTVdCgPFV"
      },
      "source": [
        "https://pandas.pydata.org/pandas-docs/stable/user_guide/text.html"
      ]
    },
    {
      "cell_type": "code",
      "metadata": {
        "id": "7eI_sVg4f8C6"
      },
      "source": [
        "email = \"jose@email.com\""
      ],
      "execution_count": 3,
      "outputs": []
    },
    {
      "cell_type": "code",
      "metadata": {
        "colab": {
          "base_uri": "https://localhost:8080/"
        },
        "id": "AaZjLrkAgs-u",
        "outputId": "71d97785-9473-48da-f807-e91b58eb26f1"
      },
      "source": [
        "email.split(\"@\")"
      ],
      "execution_count": 4,
      "outputs": [
        {
          "output_type": "execute_result",
          "data": {
            "text/plain": [
              "['jose', 'email.com']"
            ]
          },
          "metadata": {
            "tags": []
          },
          "execution_count": 4
        }
      ]
    },
    {
      "cell_type": "code",
      "metadata": {
        "id": "DoJYyASSgx2k"
      },
      "source": [
        "names = pd.Series([\"andrew\", \"bobo\", \"claire\", \"david\", \"5\"])"
      ],
      "execution_count": 5,
      "outputs": []
    },
    {
      "cell_type": "code",
      "metadata": {
        "colab": {
          "base_uri": "https://localhost:8080/"
        },
        "id": "w5ybUizdm6ff",
        "outputId": "02951e09-add7-48ea-9e3d-35a18bf003e4"
      },
      "source": [
        "names"
      ],
      "execution_count": 6,
      "outputs": [
        {
          "output_type": "execute_result",
          "data": {
            "text/plain": [
              "0    andrew\n",
              "1      bobo\n",
              "2    claire\n",
              "3     david\n",
              "4         5\n",
              "dtype: object"
            ]
          },
          "metadata": {
            "tags": []
          },
          "execution_count": 6
        }
      ]
    },
    {
      "cell_type": "code",
      "metadata": {
        "colab": {
          "base_uri": "https://localhost:8080/"
        },
        "id": "oPd8yX2vm67E",
        "outputId": "16973d92-40c8-45b6-ec89-513b3c4c7bba"
      },
      "source": [
        "names.str.upper()"
      ],
      "execution_count": 7,
      "outputs": [
        {
          "output_type": "execute_result",
          "data": {
            "text/plain": [
              "0    ANDREW\n",
              "1      BOBO\n",
              "2    CLAIRE\n",
              "3     DAVID\n",
              "4         5\n",
              "dtype: object"
            ]
          },
          "metadata": {
            "tags": []
          },
          "execution_count": 7
        }
      ]
    },
    {
      "cell_type": "code",
      "metadata": {
        "colab": {
          "base_uri": "https://localhost:8080/"
        },
        "id": "kFqdmV6cm8k4",
        "outputId": "9459455a-2307-4cb9-97ea-99f51a98a678"
      },
      "source": [
        "names"
      ],
      "execution_count": 8,
      "outputs": [
        {
          "output_type": "execute_result",
          "data": {
            "text/plain": [
              "0    andrew\n",
              "1      bobo\n",
              "2    claire\n",
              "3     david\n",
              "4         5\n",
              "dtype: object"
            ]
          },
          "metadata": {
            "tags": []
          },
          "execution_count": 8
        }
      ]
    },
    {
      "cell_type": "code",
      "metadata": {
        "id": "EBhwEyt4nLe6"
      },
      "source": [
        ""
      ],
      "execution_count": null,
      "outputs": []
    },
    {
      "cell_type": "code",
      "metadata": {
        "colab": {
          "base_uri": "https://localhost:8080/",
          "height": 35
        },
        "id": "i7R_kXjxnG6W",
        "outputId": "ace42d4c-ff71-418f-a389-bb1fb448faee"
      },
      "source": [
        "email"
      ],
      "execution_count": 10,
      "outputs": [
        {
          "output_type": "execute_result",
          "data": {
            "application/vnd.google.colaboratory.intrinsic+json": {
              "type": "string"
            },
            "text/plain": [
              "'jose@email.com'"
            ]
          },
          "metadata": {
            "tags": []
          },
          "execution_count": 10
        }
      ]
    },
    {
      "cell_type": "code",
      "metadata": {
        "colab": {
          "base_uri": "https://localhost:8080/"
        },
        "id": "OaFT3NEZm_ex",
        "outputId": "86603b34-9f80-44e9-ed8b-3b3afd0256ba"
      },
      "source": [
        "email.isdigit()"
      ],
      "execution_count": 9,
      "outputs": [
        {
          "output_type": "execute_result",
          "data": {
            "text/plain": [
              "False"
            ]
          },
          "metadata": {
            "tags": []
          },
          "execution_count": 9
        }
      ]
    },
    {
      "cell_type": "code",
      "metadata": {
        "colab": {
          "base_uri": "https://localhost:8080/"
        },
        "id": "sa_0zTATnF9K",
        "outputId": "c8a14ecd-69b3-4096-9569-3cff449e694a"
      },
      "source": [
        "\"5\".isdigit()"
      ],
      "execution_count": 11,
      "outputs": [
        {
          "output_type": "execute_result",
          "data": {
            "text/plain": [
              "True"
            ]
          },
          "metadata": {
            "tags": []
          },
          "execution_count": 11
        }
      ]
    },
    {
      "cell_type": "code",
      "metadata": {
        "colab": {
          "base_uri": "https://localhost:8080/"
        },
        "id": "UXQtKynznLHw",
        "outputId": "4774e75e-cef6-4eca-d8f8-5cd79c8ebe96"
      },
      "source": [
        "names.str.isdigit()"
      ],
      "execution_count": 12,
      "outputs": [
        {
          "output_type": "execute_result",
          "data": {
            "text/plain": [
              "0    False\n",
              "1    False\n",
              "2    False\n",
              "3    False\n",
              "4     True\n",
              "dtype: bool"
            ]
          },
          "metadata": {
            "tags": []
          },
          "execution_count": 12
        }
      ]
    },
    {
      "cell_type": "code",
      "metadata": {
        "colab": {
          "base_uri": "https://localhost:8080/"
        },
        "id": "GkohwacFnb0s",
        "outputId": "7c1ac2ec-8000-469a-9ae2-f64a370dfe03"
      },
      "source": [
        "tech_finance = [\"GOOG,APPL,AMZN\",\"JPM,BAC,GS\"]\n",
        "len(tech_finance)"
      ],
      "execution_count": 13,
      "outputs": [
        {
          "output_type": "execute_result",
          "data": {
            "text/plain": [
              "2"
            ]
          },
          "metadata": {
            "tags": []
          },
          "execution_count": 13
        }
      ]
    },
    {
      "cell_type": "code",
      "metadata": {
        "colab": {
          "base_uri": "https://localhost:8080/"
        },
        "id": "0dgCEUEqoOwG",
        "outputId": "a4baef55-7901-42f5-c21a-02b643096e17"
      },
      "source": [
        "tickers = pd.Series(tech_finance)\n",
        "tickers"
      ],
      "execution_count": 14,
      "outputs": [
        {
          "output_type": "execute_result",
          "data": {
            "text/plain": [
              "0    GOOG,APPL,AMZN\n",
              "1        JPM,BAC,GS\n",
              "dtype: object"
            ]
          },
          "metadata": {
            "tags": []
          },
          "execution_count": 14
        }
      ]
    },
    {
      "cell_type": "code",
      "metadata": {
        "colab": {
          "base_uri": "https://localhost:8080/"
        },
        "id": "GLFAiIFEoVVK",
        "outputId": "87409a4f-7f15-45a3-e38f-6533f9673347"
      },
      "source": [
        "tickers.str.split(\",\")"
      ],
      "execution_count": 15,
      "outputs": [
        {
          "output_type": "execute_result",
          "data": {
            "text/plain": [
              "0    [GOOG, APPL, AMZN]\n",
              "1        [JPM, BAC, GS]\n",
              "dtype: object"
            ]
          },
          "metadata": {
            "tags": []
          },
          "execution_count": 15
        }
      ]
    },
    {
      "cell_type": "code",
      "metadata": {
        "id": "Z5IBJgspoY8d"
      },
      "source": [
        "tech = \"GOOG,APPL,AMZN\""
      ],
      "execution_count": 16,
      "outputs": []
    },
    {
      "cell_type": "code",
      "metadata": {
        "colab": {
          "base_uri": "https://localhost:8080/",
          "height": 35
        },
        "id": "az_tAPhsoiqA",
        "outputId": "161f8250-e7d0-47b0-c231-cc51446923c2"
      },
      "source": [
        "tech.split(\",\")[0]"
      ],
      "execution_count": 18,
      "outputs": [
        {
          "output_type": "execute_result",
          "data": {
            "application/vnd.google.colaboratory.intrinsic+json": {
              "type": "string"
            },
            "text/plain": [
              "'GOOG'"
            ]
          },
          "metadata": {
            "tags": []
          },
          "execution_count": 18
        }
      ]
    },
    {
      "cell_type": "code",
      "metadata": {
        "colab": {
          "base_uri": "https://localhost:8080/"
        },
        "id": "VYzfxW5VokCB",
        "outputId": "44b82d81-a055-47e8-d354-e47b9fbababa"
      },
      "source": [
        "tickers.str.split(\",\").str[0]"
      ],
      "execution_count": 20,
      "outputs": [
        {
          "output_type": "execute_result",
          "data": {
            "text/plain": [
              "0    GOOG\n",
              "1     JPM\n",
              "dtype: object"
            ]
          },
          "metadata": {
            "tags": []
          },
          "execution_count": 20
        }
      ]
    },
    {
      "cell_type": "code",
      "metadata": {
        "colab": {
          "base_uri": "https://localhost:8080/",
          "height": 108
        },
        "id": "P7j58usnorNf",
        "outputId": "5e1897b1-5050-4064-fbc0-6c4f195ed98c"
      },
      "source": [
        "tickers.str.split(\",\",expand=True)"
      ],
      "execution_count": 21,
      "outputs": [
        {
          "output_type": "execute_result",
          "data": {
            "text/html": [
              "<div>\n",
              "<style scoped>\n",
              "    .dataframe tbody tr th:only-of-type {\n",
              "        vertical-align: middle;\n",
              "    }\n",
              "\n",
              "    .dataframe tbody tr th {\n",
              "        vertical-align: top;\n",
              "    }\n",
              "\n",
              "    .dataframe thead th {\n",
              "        text-align: right;\n",
              "    }\n",
              "</style>\n",
              "<table border=\"1\" class=\"dataframe\">\n",
              "  <thead>\n",
              "    <tr style=\"text-align: right;\">\n",
              "      <th></th>\n",
              "      <th>0</th>\n",
              "      <th>1</th>\n",
              "      <th>2</th>\n",
              "    </tr>\n",
              "  </thead>\n",
              "  <tbody>\n",
              "    <tr>\n",
              "      <th>0</th>\n",
              "      <td>GOOG</td>\n",
              "      <td>APPL</td>\n",
              "      <td>AMZN</td>\n",
              "    </tr>\n",
              "    <tr>\n",
              "      <th>1</th>\n",
              "      <td>JPM</td>\n",
              "      <td>BAC</td>\n",
              "      <td>GS</td>\n",
              "    </tr>\n",
              "  </tbody>\n",
              "</table>\n",
              "</div>"
            ],
            "text/plain": [
              "      0     1     2\n",
              "0  GOOG  APPL  AMZN\n",
              "1   JPM   BAC    GS"
            ]
          },
          "metadata": {
            "tags": []
          },
          "execution_count": 21
        }
      ]
    },
    {
      "cell_type": "code",
      "metadata": {
        "id": "Fe6oM-F6o8wo"
      },
      "source": [
        "messy_names = pd.Series([\"andrew   \", \"bo;bo\", \"       claire      \"])"
      ],
      "execution_count": 22,
      "outputs": []
    },
    {
      "cell_type": "code",
      "metadata": {
        "colab": {
          "base_uri": "https://localhost:8080/"
        },
        "id": "HFL-PmiOpOqJ",
        "outputId": "55003287-030b-40a6-f741-7d2beaceede0"
      },
      "source": [
        "messy_names"
      ],
      "execution_count": 23,
      "outputs": [
        {
          "output_type": "execute_result",
          "data": {
            "text/plain": [
              "0              andrew   \n",
              "1                  bo;bo\n",
              "2           claire      \n",
              "dtype: object"
            ]
          },
          "metadata": {
            "tags": []
          },
          "execution_count": 23
        }
      ]
    },
    {
      "cell_type": "code",
      "metadata": {
        "colab": {
          "base_uri": "https://localhost:8080/",
          "height": 35
        },
        "id": "kjOHtO42pPZl",
        "outputId": "5ae37fd1-478d-44a5-b1c2-94004d803c94"
      },
      "source": [
        "messy_names[0]"
      ],
      "execution_count": 24,
      "outputs": [
        {
          "output_type": "execute_result",
          "data": {
            "application/vnd.google.colaboratory.intrinsic+json": {
              "type": "string"
            },
            "text/plain": [
              "'andrew   '"
            ]
          },
          "metadata": {
            "tags": []
          },
          "execution_count": 24
        }
      ]
    },
    {
      "cell_type": "code",
      "metadata": {
        "colab": {
          "base_uri": "https://localhost:8080/"
        },
        "id": "7banuHyApVhG",
        "outputId": "405a6476-1ad7-4ed3-c542-97841d7d7ada"
      },
      "source": [
        "messy_names.str.replace(\";\",\"\") # it says grab all the semicolons and replace it with an empty string, "
      ],
      "execution_count": 25,
      "outputs": [
        {
          "output_type": "execute_result",
          "data": {
            "text/plain": [
              "0              andrew   \n",
              "1                   bobo\n",
              "2           claire      \n",
              "dtype: object"
            ]
          },
          "metadata": {
            "tags": []
          },
          "execution_count": 25
        }
      ]
    },
    {
      "cell_type": "code",
      "metadata": {
        "colab": {
          "base_uri": "https://localhost:8080/"
        },
        "id": "dpZ0kGOspjE1",
        "outputId": "c255b969-4084-410e-c96e-42566a0e6424"
      },
      "source": [
        "messy_names.str.replace(\";\",\"\").str.strip() #Which is a way of just stripping out white space on both sides"
      ],
      "execution_count": 26,
      "outputs": [
        {
          "output_type": "execute_result",
          "data": {
            "text/plain": [
              "0    andrew\n",
              "1      bobo\n",
              "2    claire\n",
              "dtype: object"
            ]
          },
          "metadata": {
            "tags": []
          },
          "execution_count": 26
        }
      ]
    },
    {
      "cell_type": "code",
      "metadata": {
        "colab": {
          "base_uri": "https://localhost:8080/"
        },
        "id": "n8TWMxhkprWt",
        "outputId": "2bee0773-3742-4465-cb32-7a0437c1f85e"
      },
      "source": [
        "messy_names.str.replace(\";\",\"\").str.strip().str.capitalize()"
      ],
      "execution_count": 27,
      "outputs": [
        {
          "output_type": "execute_result",
          "data": {
            "text/plain": [
              "0    Andrew\n",
              "1      Bobo\n",
              "2    Claire\n",
              "dtype: object"
            ]
          },
          "metadata": {
            "tags": []
          },
          "execution_count": 27
        }
      ]
    },
    {
      "cell_type": "code",
      "metadata": {
        "id": "PrEFZdhVp9Mx"
      },
      "source": [
        "def cleanup(name):\n",
        "    name = name.replace(\";\",\"\")\n",
        "    name = name.strip()\n",
        "    name= name.capitalize()\n",
        "    return name"
      ],
      "execution_count": 28,
      "outputs": []
    },
    {
      "cell_type": "code",
      "metadata": {
        "colab": {
          "base_uri": "https://localhost:8080/"
        },
        "id": "CWmJ9SnxqXoP",
        "outputId": "a536d747-bbde-449c-9e69-5b3c4794ee30"
      },
      "source": [
        "messy_names"
      ],
      "execution_count": 30,
      "outputs": [
        {
          "output_type": "execute_result",
          "data": {
            "text/plain": [
              "0              andrew   \n",
              "1                  bo;bo\n",
              "2           claire      \n",
              "dtype: object"
            ]
          },
          "metadata": {
            "tags": []
          },
          "execution_count": 30
        }
      ]
    },
    {
      "cell_type": "code",
      "metadata": {
        "colab": {
          "base_uri": "https://localhost:8080/"
        },
        "id": "-1fsfqepqSzR",
        "outputId": "a89fbecb-843e-4812-8dc6-50ab50726785"
      },
      "source": [
        "messy_names.apply(cleanup)"
      ],
      "execution_count": 29,
      "outputs": [
        {
          "output_type": "execute_result",
          "data": {
            "text/plain": [
              "0    Andrew\n",
              "1      Bobo\n",
              "2    Claire\n",
              "dtype: object"
            ]
          },
          "metadata": {
            "tags": []
          },
          "execution_count": 29
        }
      ]
    },
    {
      "cell_type": "code",
      "metadata": {
        "id": "y9ZoQp47qV-E"
      },
      "source": [
        "# video 39 - Time Methods for Date and Time Data"
      ],
      "execution_count": 31,
      "outputs": []
    },
    {
      "cell_type": "code",
      "metadata": {
        "id": "DWrPuEuoq8Q1"
      },
      "source": [
        "from datetime import datetime"
      ],
      "execution_count": 32,
      "outputs": []
    },
    {
      "cell_type": "code",
      "metadata": {
        "id": "nXDFjewEth34"
      },
      "source": [
        "myyear = 2015\n",
        "mymonth = 6\n",
        "myday= 19\n",
        "myhour = 2\n",
        "mymin = 30\n",
        "mysec= 15"
      ],
      "execution_count": 33,
      "outputs": []
    },
    {
      "cell_type": "code",
      "metadata": {
        "id": "euQojWT1ttLy"
      },
      "source": [
        "mydate = datetime(myyear,mymonth,myday)"
      ],
      "execution_count": 34,
      "outputs": []
    },
    {
      "cell_type": "code",
      "metadata": {
        "colab": {
          "base_uri": "https://localhost:8080/"
        },
        "id": "143rgeJht3Hw",
        "outputId": "eb16a26c-55b7-45c6-872a-b3d9df18d2ce"
      },
      "source": [
        "mydate"
      ],
      "execution_count": 35,
      "outputs": [
        {
          "output_type": "execute_result",
          "data": {
            "text/plain": [
              "datetime.datetime(2015, 6, 19, 0, 0)"
            ]
          },
          "metadata": {
            "tags": []
          },
          "execution_count": 35
        }
      ]
    },
    {
      "cell_type": "code",
      "metadata": {
        "id": "qrnE7obGt3z-"
      },
      "source": [
        "mydatetime = datetime(myyear,mymonth,myday,myhour,mymin,mysec)"
      ],
      "execution_count": 37,
      "outputs": []
    },
    {
      "cell_type": "code",
      "metadata": {
        "colab": {
          "base_uri": "https://localhost:8080/"
        },
        "id": "k_Fcj9IEuCKd",
        "outputId": "70c0e863-17ef-4f59-ef1b-bda5f7c5997c"
      },
      "source": [
        "mydatetime"
      ],
      "execution_count": 38,
      "outputs": [
        {
          "output_type": "execute_result",
          "data": {
            "text/plain": [
              "datetime.datetime(2015, 6, 19, 2, 30, 15)"
            ]
          },
          "metadata": {
            "tags": []
          },
          "execution_count": 38
        }
      ]
    },
    {
      "cell_type": "code",
      "metadata": {
        "colab": {
          "base_uri": "https://localhost:8080/"
        },
        "id": "_JHwScUvuEoQ",
        "outputId": "ca3cb59c-db61-4d40-af3f-62be71c57c6b"
      },
      "source": [
        "mydatetime.year"
      ],
      "execution_count": 39,
      "outputs": [
        {
          "output_type": "execute_result",
          "data": {
            "text/plain": [
              "2015"
            ]
          },
          "metadata": {
            "tags": []
          },
          "execution_count": 39
        }
      ]
    },
    {
      "cell_type": "code",
      "metadata": {
        "id": "8f1_ygdNuIfe"
      },
      "source": [
        "myser = pd.Series([\"Nov 3, 1990\",\"2000-01-01\",None])"
      ],
      "execution_count": 40,
      "outputs": []
    },
    {
      "cell_type": "code",
      "metadata": {
        "colab": {
          "base_uri": "https://localhost:8080/"
        },
        "id": "H1NnMRbUucuZ",
        "outputId": "a8b53ddc-4012-4927-dce9-22065b92d31d"
      },
      "source": [
        "myser"
      ],
      "execution_count": 41,
      "outputs": [
        {
          "output_type": "execute_result",
          "data": {
            "text/plain": [
              "0    Nov 3, 1990\n",
              "1     2000-01-01\n",
              "2           None\n",
              "dtype: object"
            ]
          },
          "metadata": {
            "tags": []
          },
          "execution_count": 41
        }
      ]
    },
    {
      "cell_type": "code",
      "metadata": {
        "colab": {
          "base_uri": "https://localhost:8080/",
          "height": 35
        },
        "id": "D2djGx6SudNA",
        "outputId": "17ffc8b8-4062-4133-e116-85f3912e8d36"
      },
      "source": [
        "myser[0]"
      ],
      "execution_count": 43,
      "outputs": [
        {
          "output_type": "execute_result",
          "data": {
            "application/vnd.google.colaboratory.intrinsic+json": {
              "type": "string"
            },
            "text/plain": [
              "'Nov 3, 1990'"
            ]
          },
          "metadata": {
            "tags": []
          },
          "execution_count": 43
        }
      ]
    },
    {
      "cell_type": "code",
      "metadata": {
        "colab": {
          "base_uri": "https://localhost:8080/",
          "height": 158
        },
        "id": "rDuGAiA-u3uH",
        "outputId": "e24a1a5d-d0d3-4a04-fe4e-ef871cfcc95b"
      },
      "source": [
        "myser[0].year"
      ],
      "execution_count": 44,
      "outputs": [
        {
          "output_type": "error",
          "ename": "AttributeError",
          "evalue": "ignored",
          "traceback": [
            "\u001b[0;31m---------------------------------------------------------------------------\u001b[0m",
            "\u001b[0;31mAttributeError\u001b[0m                            Traceback (most recent call last)",
            "\u001b[0;32m<ipython-input-44-48a9817b80e5>\u001b[0m in \u001b[0;36m<module>\u001b[0;34m()\u001b[0m\n\u001b[0;32m----> 1\u001b[0;31m \u001b[0mmyser\u001b[0m\u001b[0;34m[\u001b[0m\u001b[0;36m0\u001b[0m\u001b[0;34m]\u001b[0m\u001b[0;34m.\u001b[0m\u001b[0myear\u001b[0m\u001b[0;34m\u001b[0m\u001b[0;34m\u001b[0m\u001b[0m\n\u001b[0m",
            "\u001b[0;31mAttributeError\u001b[0m: 'str' object has no attribute 'year'"
          ]
        }
      ]
    },
    {
      "cell_type": "code",
      "metadata": {
        "colab": {
          "base_uri": "https://localhost:8080/"
        },
        "id": "dOMY7x4Nu7t4",
        "outputId": "feb5b555-3352-4dd6-92af-a319ba92f85b"
      },
      "source": [
        "pd.to_datetime(myser)"
      ],
      "execution_count": 45,
      "outputs": [
        {
          "output_type": "execute_result",
          "data": {
            "text/plain": [
              "0   1990-11-03\n",
              "1   2000-01-01\n",
              "2          NaT\n",
              "dtype: datetime64[ns]"
            ]
          },
          "metadata": {
            "tags": []
          },
          "execution_count": 45
        }
      ]
    },
    {
      "cell_type": "code",
      "metadata": {
        "colab": {
          "base_uri": "https://localhost:8080/"
        },
        "id": "ns6xLa5VvCgV",
        "outputId": "edb3a8e9-7704-497e-e051-84238fa66e4e"
      },
      "source": [
        "timeser = pd.to_datetime(myser)\n",
        "timeser  #type NanoSecond"
      ],
      "execution_count": 46,
      "outputs": [
        {
          "output_type": "execute_result",
          "data": {
            "text/plain": [
              "0   1990-11-03\n",
              "1   2000-01-01\n",
              "2          NaT\n",
              "dtype: datetime64[ns]"
            ]
          },
          "metadata": {
            "tags": []
          },
          "execution_count": 46
        }
      ]
    },
    {
      "cell_type": "code",
      "metadata": {
        "colab": {
          "base_uri": "https://localhost:8080/"
        },
        "id": "7NHTKqcrvMZm",
        "outputId": "3bc5f759-cf3a-437d-9b49-8bbb89023c59"
      },
      "source": [
        "timeser[0].year"
      ],
      "execution_count": 49,
      "outputs": [
        {
          "output_type": "execute_result",
          "data": {
            "text/plain": [
              "1990"
            ]
          },
          "metadata": {
            "tags": []
          },
          "execution_count": 49
        }
      ]
    },
    {
      "cell_type": "code",
      "metadata": {
        "id": "nCYPpl8IvPlU"
      },
      "source": [
        "obvi_euro_date = \"31-12-2000\"  #euro type "
      ],
      "execution_count": 50,
      "outputs": []
    },
    {
      "cell_type": "code",
      "metadata": {
        "colab": {
          "base_uri": "https://localhost:8080/"
        },
        "id": "XDebtSBPveiU",
        "outputId": "5871260a-c63b-4031-f04e-b340d3edb62a"
      },
      "source": [
        "pd.to_datetime(obvi_euro_date)"
      ],
      "execution_count": 51,
      "outputs": [
        {
          "output_type": "execute_result",
          "data": {
            "text/plain": [
              "Timestamp('2000-12-31 00:00:00')"
            ]
          },
          "metadata": {
            "tags": []
          },
          "execution_count": 51
        }
      ]
    },
    {
      "cell_type": "code",
      "metadata": {
        "id": "uVOJGVxpvhmI"
      },
      "source": [
        "euro_date = \"10-12-2000\" #10 dec- but americans 12 oct"
      ],
      "execution_count": 52,
      "outputs": []
    },
    {
      "cell_type": "code",
      "metadata": {
        "colab": {
          "base_uri": "https://localhost:8080/"
        },
        "id": "S9tYUGquvp0m",
        "outputId": "3e53762a-d272-4975-a89d-f61b138100b6"
      },
      "source": [
        "pd.to_datetime(euro_date)"
      ],
      "execution_count": 54,
      "outputs": [
        {
          "output_type": "execute_result",
          "data": {
            "text/plain": [
              "Timestamp('2000-10-12 00:00:00')"
            ]
          },
          "metadata": {
            "tags": []
          },
          "execution_count": 54
        }
      ]
    },
    {
      "cell_type": "code",
      "metadata": {
        "colab": {
          "base_uri": "https://localhost:8080/"
        },
        "id": "hThY5loGvyZV",
        "outputId": "44aa857d-54a2-4abc-ec9f-cf403d640d2c"
      },
      "source": [
        "pd.to_datetime(euro_date,dayfirst=True)"
      ],
      "execution_count": 55,
      "outputs": [
        {
          "output_type": "execute_result",
          "data": {
            "text/plain": [
              "Timestamp('2000-12-10 00:00:00')"
            ]
          },
          "metadata": {
            "tags": []
          },
          "execution_count": 55
        }
      ]
    },
    {
      "cell_type": "code",
      "metadata": {
        "id": "dsJHUPpzwNtt"
      },
      "source": [
        "#########3"
      ],
      "execution_count": null,
      "outputs": []
    },
    {
      "cell_type": "code",
      "metadata": {
        "id": "0jCvKYPGv5MH"
      },
      "source": [
        "style_date = \"12--Dec--2000\""
      ],
      "execution_count": 56,
      "outputs": []
    },
    {
      "cell_type": "code",
      "metadata": {
        "colab": {
          "base_uri": "https://localhost:8080/"
        },
        "id": "QB4s2THEwMpT",
        "outputId": "d57fd330-a9a5-4ff0-e0d6-a752c88d4da6"
      },
      "source": [
        "pd.to_datetime(style_date,format=\"%d--%b--%Y\")  #check these things from the table"
      ],
      "execution_count": 57,
      "outputs": [
        {
          "output_type": "execute_result",
          "data": {
            "text/plain": [
              "Timestamp('2000-12-12 00:00:00')"
            ]
          },
          "metadata": {
            "tags": []
          },
          "execution_count": 57
        }
      ]
    },
    {
      "cell_type": "code",
      "metadata": {
        "id": "_8T1DIbLw0H2"
      },
      "source": [
        "custom_date = \"12th of Dec 2000\""
      ],
      "execution_count": 58,
      "outputs": []
    },
    {
      "cell_type": "code",
      "metadata": {
        "colab": {
          "base_uri": "https://localhost:8080/"
        },
        "id": "Ksrn07DxxJNl",
        "outputId": "acddf3e9-f149-42ef-8ee8-c7a738e926ba"
      },
      "source": [
        "pd.to_datetime(custom_date)"
      ],
      "execution_count": 59,
      "outputs": [
        {
          "output_type": "execute_result",
          "data": {
            "text/plain": [
              "Timestamp('2000-12-12 00:00:00')"
            ]
          },
          "metadata": {
            "tags": []
          },
          "execution_count": 59
        }
      ]
    },
    {
      "cell_type": "code",
      "metadata": {
        "id": "MxqPRk3exMj-"
      },
      "source": [
        "sales = pd.read_csv(\"RetailSales_BeerWineLiquor.csv\")"
      ],
      "execution_count": 60,
      "outputs": []
    },
    {
      "cell_type": "code",
      "metadata": {
        "colab": {
          "base_uri": "https://localhost:8080/",
          "height": 408
        },
        "id": "IpDO3XFnxioS",
        "outputId": "71691bd7-36ea-4075-a166-b27a109c135d"
      },
      "source": [
        "sales"
      ],
      "execution_count": 61,
      "outputs": [
        {
          "output_type": "execute_result",
          "data": {
            "text/html": [
              "<div>\n",
              "<style scoped>\n",
              "    .dataframe tbody tr th:only-of-type {\n",
              "        vertical-align: middle;\n",
              "    }\n",
              "\n",
              "    .dataframe tbody tr th {\n",
              "        vertical-align: top;\n",
              "    }\n",
              "\n",
              "    .dataframe thead th {\n",
              "        text-align: right;\n",
              "    }\n",
              "</style>\n",
              "<table border=\"1\" class=\"dataframe\">\n",
              "  <thead>\n",
              "    <tr style=\"text-align: right;\">\n",
              "      <th></th>\n",
              "      <th>DATE</th>\n",
              "      <th>MRTSSM4453USN</th>\n",
              "    </tr>\n",
              "  </thead>\n",
              "  <tbody>\n",
              "    <tr>\n",
              "      <th>0</th>\n",
              "      <td>1992-01-01</td>\n",
              "      <td>1509</td>\n",
              "    </tr>\n",
              "    <tr>\n",
              "      <th>1</th>\n",
              "      <td>1992-02-01</td>\n",
              "      <td>1541</td>\n",
              "    </tr>\n",
              "    <tr>\n",
              "      <th>2</th>\n",
              "      <td>1992-03-01</td>\n",
              "      <td>1597</td>\n",
              "    </tr>\n",
              "    <tr>\n",
              "      <th>3</th>\n",
              "      <td>1992-04-01</td>\n",
              "      <td>1675</td>\n",
              "    </tr>\n",
              "    <tr>\n",
              "      <th>4</th>\n",
              "      <td>1992-05-01</td>\n",
              "      <td>1822</td>\n",
              "    </tr>\n",
              "    <tr>\n",
              "      <th>...</th>\n",
              "      <td>...</td>\n",
              "      <td>...</td>\n",
              "    </tr>\n",
              "    <tr>\n",
              "      <th>335</th>\n",
              "      <td>2019-12-01</td>\n",
              "      <td>6630</td>\n",
              "    </tr>\n",
              "    <tr>\n",
              "      <th>336</th>\n",
              "      <td>2020-01-01</td>\n",
              "      <td>4388</td>\n",
              "    </tr>\n",
              "    <tr>\n",
              "      <th>337</th>\n",
              "      <td>2020-02-01</td>\n",
              "      <td>4533</td>\n",
              "    </tr>\n",
              "    <tr>\n",
              "      <th>338</th>\n",
              "      <td>2020-03-01</td>\n",
              "      <td>5562</td>\n",
              "    </tr>\n",
              "    <tr>\n",
              "      <th>339</th>\n",
              "      <td>2020-04-01</td>\n",
              "      <td>5207</td>\n",
              "    </tr>\n",
              "  </tbody>\n",
              "</table>\n",
              "<p>340 rows × 2 columns</p>\n",
              "</div>"
            ],
            "text/plain": [
              "           DATE  MRTSSM4453USN\n",
              "0    1992-01-01           1509\n",
              "1    1992-02-01           1541\n",
              "2    1992-03-01           1597\n",
              "3    1992-04-01           1675\n",
              "4    1992-05-01           1822\n",
              "..          ...            ...\n",
              "335  2019-12-01           6630\n",
              "336  2020-01-01           4388\n",
              "337  2020-02-01           4533\n",
              "338  2020-03-01           5562\n",
              "339  2020-04-01           5207\n",
              "\n",
              "[340 rows x 2 columns]"
            ]
          },
          "metadata": {
            "tags": []
          },
          "execution_count": 61
        }
      ]
    },
    {
      "cell_type": "code",
      "metadata": {
        "id": "Y3T1ibOfxjkq"
      },
      "source": [
        "sales[\"DATE\"] = pd.to_datetime(sales[\"DATE\"])"
      ],
      "execution_count": 63,
      "outputs": []
    },
    {
      "cell_type": "code",
      "metadata": {
        "colab": {
          "base_uri": "https://localhost:8080/"
        },
        "id": "dTm2C60Mxpx1",
        "outputId": "b489804b-b5ce-4819-c2e9-8d6a6829eca2"
      },
      "source": [
        "sales[\"DATE\"] #type datetime"
      ],
      "execution_count": 65,
      "outputs": [
        {
          "output_type": "execute_result",
          "data": {
            "text/plain": [
              "0     1992-01-01\n",
              "1     1992-02-01\n",
              "2     1992-03-01\n",
              "3     1992-04-01\n",
              "4     1992-05-01\n",
              "         ...    \n",
              "335   2019-12-01\n",
              "336   2020-01-01\n",
              "337   2020-02-01\n",
              "338   2020-03-01\n",
              "339   2020-04-01\n",
              "Name: DATE, Length: 340, dtype: datetime64[ns]"
            ]
          },
          "metadata": {
            "tags": []
          },
          "execution_count": 65
        }
      ]
    },
    {
      "cell_type": "code",
      "metadata": {
        "colab": {
          "base_uri": "https://localhost:8080/"
        },
        "id": "ukJb2-gsxwoS",
        "outputId": "fa4a3298-e0be-44e5-ca98-26d330ab41ca"
      },
      "source": [
        "sales[\"DATE\"][0].year"
      ],
      "execution_count": 67,
      "outputs": [
        {
          "output_type": "execute_result",
          "data": {
            "text/plain": [
              "1992"
            ]
          },
          "metadata": {
            "tags": []
          },
          "execution_count": 67
        }
      ]
    },
    {
      "cell_type": "code",
      "metadata": {
        "colab": {
          "base_uri": "https://localhost:8080/",
          "height": 200
        },
        "id": "XlBIK7LGyN2K",
        "outputId": "6d2c4c83-55f9-4b3c-960d-094f1eed7ef5"
      },
      "source": [
        "sales.head()"
      ],
      "execution_count": 69,
      "outputs": [
        {
          "output_type": "execute_result",
          "data": {
            "text/html": [
              "<div>\n",
              "<style scoped>\n",
              "    .dataframe tbody tr th:only-of-type {\n",
              "        vertical-align: middle;\n",
              "    }\n",
              "\n",
              "    .dataframe tbody tr th {\n",
              "        vertical-align: top;\n",
              "    }\n",
              "\n",
              "    .dataframe thead th {\n",
              "        text-align: right;\n",
              "    }\n",
              "</style>\n",
              "<table border=\"1\" class=\"dataframe\">\n",
              "  <thead>\n",
              "    <tr style=\"text-align: right;\">\n",
              "      <th></th>\n",
              "      <th>DATE</th>\n",
              "      <th>MRTSSM4453USN</th>\n",
              "    </tr>\n",
              "  </thead>\n",
              "  <tbody>\n",
              "    <tr>\n",
              "      <th>0</th>\n",
              "      <td>1992-01-01</td>\n",
              "      <td>1509</td>\n",
              "    </tr>\n",
              "    <tr>\n",
              "      <th>1</th>\n",
              "      <td>1992-02-01</td>\n",
              "      <td>1541</td>\n",
              "    </tr>\n",
              "    <tr>\n",
              "      <th>2</th>\n",
              "      <td>1992-03-01</td>\n",
              "      <td>1597</td>\n",
              "    </tr>\n",
              "    <tr>\n",
              "      <th>3</th>\n",
              "      <td>1992-04-01</td>\n",
              "      <td>1675</td>\n",
              "    </tr>\n",
              "    <tr>\n",
              "      <th>4</th>\n",
              "      <td>1992-05-01</td>\n",
              "      <td>1822</td>\n",
              "    </tr>\n",
              "  </tbody>\n",
              "</table>\n",
              "</div>"
            ],
            "text/plain": [
              "         DATE  MRTSSM4453USN\n",
              "0  1992-01-01           1509\n",
              "1  1992-02-01           1541\n",
              "2  1992-03-01           1597\n",
              "3  1992-04-01           1675\n",
              "4  1992-05-01           1822"
            ]
          },
          "metadata": {
            "tags": []
          },
          "execution_count": 69
        }
      ]
    },
    {
      "cell_type": "code",
      "metadata": {
        "id": "YmiipOZhx6lq"
      },
      "source": [
        "sales = pd.read_csv(\"RetailSales_BeerWineLiquor.csv\", parse_dates=[0]) # you can do with this pare_dates command"
      ],
      "execution_count": 70,
      "outputs": []
    },
    {
      "cell_type": "code",
      "metadata": {
        "colab": {
          "base_uri": "https://localhost:8080/"
        },
        "id": "S9sAosdeyDvQ",
        "outputId": "ed3ffaeb-c4d4-4406-b627-ec48ac2aa462"
      },
      "source": [
        "sales[\"DATE\"]"
      ],
      "execution_count": 72,
      "outputs": [
        {
          "output_type": "execute_result",
          "data": {
            "text/plain": [
              "0     1992-01-01\n",
              "1     1992-02-01\n",
              "2     1992-03-01\n",
              "3     1992-04-01\n",
              "4     1992-05-01\n",
              "         ...    \n",
              "335   2019-12-01\n",
              "336   2020-01-01\n",
              "337   2020-02-01\n",
              "338   2020-03-01\n",
              "339   2020-04-01\n",
              "Name: DATE, Length: 340, dtype: datetime64[ns]"
            ]
          },
          "metadata": {
            "tags": []
          },
          "execution_count": 72
        }
      ]
    },
    {
      "cell_type": "code",
      "metadata": {
        "id": "TuKPwymyyS94"
      },
      "source": [
        "sales = sales.set_index(\"DATE\")"
      ],
      "execution_count": 73,
      "outputs": []
    },
    {
      "cell_type": "code",
      "metadata": {
        "colab": {
          "base_uri": "https://localhost:8080/",
          "height": 440
        },
        "id": "lbTRtGHEygE6",
        "outputId": "87112418-a8fa-449c-b9e0-c2cab3876591"
      },
      "source": [
        "sales"
      ],
      "execution_count": 74,
      "outputs": [
        {
          "output_type": "execute_result",
          "data": {
            "text/html": [
              "<div>\n",
              "<style scoped>\n",
              "    .dataframe tbody tr th:only-of-type {\n",
              "        vertical-align: middle;\n",
              "    }\n",
              "\n",
              "    .dataframe tbody tr th {\n",
              "        vertical-align: top;\n",
              "    }\n",
              "\n",
              "    .dataframe thead th {\n",
              "        text-align: right;\n",
              "    }\n",
              "</style>\n",
              "<table border=\"1\" class=\"dataframe\">\n",
              "  <thead>\n",
              "    <tr style=\"text-align: right;\">\n",
              "      <th></th>\n",
              "      <th>MRTSSM4453USN</th>\n",
              "    </tr>\n",
              "    <tr>\n",
              "      <th>DATE</th>\n",
              "      <th></th>\n",
              "    </tr>\n",
              "  </thead>\n",
              "  <tbody>\n",
              "    <tr>\n",
              "      <th>1992-01-01</th>\n",
              "      <td>1509</td>\n",
              "    </tr>\n",
              "    <tr>\n",
              "      <th>1992-02-01</th>\n",
              "      <td>1541</td>\n",
              "    </tr>\n",
              "    <tr>\n",
              "      <th>1992-03-01</th>\n",
              "      <td>1597</td>\n",
              "    </tr>\n",
              "    <tr>\n",
              "      <th>1992-04-01</th>\n",
              "      <td>1675</td>\n",
              "    </tr>\n",
              "    <tr>\n",
              "      <th>1992-05-01</th>\n",
              "      <td>1822</td>\n",
              "    </tr>\n",
              "    <tr>\n",
              "      <th>...</th>\n",
              "      <td>...</td>\n",
              "    </tr>\n",
              "    <tr>\n",
              "      <th>2019-12-01</th>\n",
              "      <td>6630</td>\n",
              "    </tr>\n",
              "    <tr>\n",
              "      <th>2020-01-01</th>\n",
              "      <td>4388</td>\n",
              "    </tr>\n",
              "    <tr>\n",
              "      <th>2020-02-01</th>\n",
              "      <td>4533</td>\n",
              "    </tr>\n",
              "    <tr>\n",
              "      <th>2020-03-01</th>\n",
              "      <td>5562</td>\n",
              "    </tr>\n",
              "    <tr>\n",
              "      <th>2020-04-01</th>\n",
              "      <td>5207</td>\n",
              "    </tr>\n",
              "  </tbody>\n",
              "</table>\n",
              "<p>340 rows × 1 columns</p>\n",
              "</div>"
            ],
            "text/plain": [
              "            MRTSSM4453USN\n",
              "DATE                     \n",
              "1992-01-01           1509\n",
              "1992-02-01           1541\n",
              "1992-03-01           1597\n",
              "1992-04-01           1675\n",
              "1992-05-01           1822\n",
              "...                   ...\n",
              "2019-12-01           6630\n",
              "2020-01-01           4388\n",
              "2020-02-01           4533\n",
              "2020-03-01           5562\n",
              "2020-04-01           5207\n",
              "\n",
              "[340 rows x 1 columns]"
            ]
          },
          "metadata": {
            "tags": []
          },
          "execution_count": 74
        }
      ]
    },
    {
      "cell_type": "code",
      "metadata": {
        "colab": {
          "base_uri": "https://localhost:8080/",
          "height": 955
        },
        "id": "tR6RTEf1yi1R",
        "outputId": "a788bc4d-8494-4055-8c12-e11fe3e013c7"
      },
      "source": [
        "sales.resample(rule=\"A\").mean() #rule A is from the table : https://pandas.pydata.org/pandas-docs/version/0.22/timeseries.html#timeseries-offset-aliases \n",
        "#you can actually think of it as just group by. But in this case, because it's a specialized timestamp object, we can say something like group by the year or group by the month."
      ],
      "execution_count": 75,
      "outputs": [
        {
          "output_type": "execute_result",
          "data": {
            "text/html": [
              "<div>\n",
              "<style scoped>\n",
              "    .dataframe tbody tr th:only-of-type {\n",
              "        vertical-align: middle;\n",
              "    }\n",
              "\n",
              "    .dataframe tbody tr th {\n",
              "        vertical-align: top;\n",
              "    }\n",
              "\n",
              "    .dataframe thead th {\n",
              "        text-align: right;\n",
              "    }\n",
              "</style>\n",
              "<table border=\"1\" class=\"dataframe\">\n",
              "  <thead>\n",
              "    <tr style=\"text-align: right;\">\n",
              "      <th></th>\n",
              "      <th>MRTSSM4453USN</th>\n",
              "    </tr>\n",
              "    <tr>\n",
              "      <th>DATE</th>\n",
              "      <th></th>\n",
              "    </tr>\n",
              "  </thead>\n",
              "  <tbody>\n",
              "    <tr>\n",
              "      <th>1992-12-31</th>\n",
              "      <td>1807.250000</td>\n",
              "    </tr>\n",
              "    <tr>\n",
              "      <th>1993-12-31</th>\n",
              "      <td>1794.833333</td>\n",
              "    </tr>\n",
              "    <tr>\n",
              "      <th>1994-12-31</th>\n",
              "      <td>1841.750000</td>\n",
              "    </tr>\n",
              "    <tr>\n",
              "      <th>1995-12-31</th>\n",
              "      <td>1833.916667</td>\n",
              "    </tr>\n",
              "    <tr>\n",
              "      <th>1996-12-31</th>\n",
              "      <td>1929.750000</td>\n",
              "    </tr>\n",
              "    <tr>\n",
              "      <th>1997-12-31</th>\n",
              "      <td>2006.750000</td>\n",
              "    </tr>\n",
              "    <tr>\n",
              "      <th>1998-12-31</th>\n",
              "      <td>2115.166667</td>\n",
              "    </tr>\n",
              "    <tr>\n",
              "      <th>1999-12-31</th>\n",
              "      <td>2206.333333</td>\n",
              "    </tr>\n",
              "    <tr>\n",
              "      <th>2000-12-31</th>\n",
              "      <td>2375.583333</td>\n",
              "    </tr>\n",
              "    <tr>\n",
              "      <th>2001-12-31</th>\n",
              "      <td>2468.416667</td>\n",
              "    </tr>\n",
              "    <tr>\n",
              "      <th>2002-12-31</th>\n",
              "      <td>2491.166667</td>\n",
              "    </tr>\n",
              "    <tr>\n",
              "      <th>2003-12-31</th>\n",
              "      <td>2539.083333</td>\n",
              "    </tr>\n",
              "    <tr>\n",
              "      <th>2004-12-31</th>\n",
              "      <td>2682.416667</td>\n",
              "    </tr>\n",
              "    <tr>\n",
              "      <th>2005-12-31</th>\n",
              "      <td>2797.250000</td>\n",
              "    </tr>\n",
              "    <tr>\n",
              "      <th>2006-12-31</th>\n",
              "      <td>3001.333333</td>\n",
              "    </tr>\n",
              "    <tr>\n",
              "      <th>2007-12-31</th>\n",
              "      <td>3177.333333</td>\n",
              "    </tr>\n",
              "    <tr>\n",
              "      <th>2008-12-31</th>\n",
              "      <td>3292.000000</td>\n",
              "    </tr>\n",
              "    <tr>\n",
              "      <th>2009-12-31</th>\n",
              "      <td>3353.750000</td>\n",
              "    </tr>\n",
              "    <tr>\n",
              "      <th>2010-12-31</th>\n",
              "      <td>3450.083333</td>\n",
              "    </tr>\n",
              "    <tr>\n",
              "      <th>2011-12-31</th>\n",
              "      <td>3532.666667</td>\n",
              "    </tr>\n",
              "    <tr>\n",
              "      <th>2012-12-31</th>\n",
              "      <td>3697.083333</td>\n",
              "    </tr>\n",
              "    <tr>\n",
              "      <th>2013-12-31</th>\n",
              "      <td>3839.666667</td>\n",
              "    </tr>\n",
              "    <tr>\n",
              "      <th>2014-12-31</th>\n",
              "      <td>4023.833333</td>\n",
              "    </tr>\n",
              "    <tr>\n",
              "      <th>2015-12-31</th>\n",
              "      <td>4212.500000</td>\n",
              "    </tr>\n",
              "    <tr>\n",
              "      <th>2016-12-31</th>\n",
              "      <td>4434.416667</td>\n",
              "    </tr>\n",
              "    <tr>\n",
              "      <th>2017-12-31</th>\n",
              "      <td>4602.666667</td>\n",
              "    </tr>\n",
              "    <tr>\n",
              "      <th>2018-12-31</th>\n",
              "      <td>4830.666667</td>\n",
              "    </tr>\n",
              "    <tr>\n",
              "      <th>2019-12-31</th>\n",
              "      <td>4972.750000</td>\n",
              "    </tr>\n",
              "    <tr>\n",
              "      <th>2020-12-31</th>\n",
              "      <td>4922.500000</td>\n",
              "    </tr>\n",
              "  </tbody>\n",
              "</table>\n",
              "</div>"
            ],
            "text/plain": [
              "            MRTSSM4453USN\n",
              "DATE                     \n",
              "1992-12-31    1807.250000\n",
              "1993-12-31    1794.833333\n",
              "1994-12-31    1841.750000\n",
              "1995-12-31    1833.916667\n",
              "1996-12-31    1929.750000\n",
              "1997-12-31    2006.750000\n",
              "1998-12-31    2115.166667\n",
              "1999-12-31    2206.333333\n",
              "2000-12-31    2375.583333\n",
              "2001-12-31    2468.416667\n",
              "2002-12-31    2491.166667\n",
              "2003-12-31    2539.083333\n",
              "2004-12-31    2682.416667\n",
              "2005-12-31    2797.250000\n",
              "2006-12-31    3001.333333\n",
              "2007-12-31    3177.333333\n",
              "2008-12-31    3292.000000\n",
              "2009-12-31    3353.750000\n",
              "2010-12-31    3450.083333\n",
              "2011-12-31    3532.666667\n",
              "2012-12-31    3697.083333\n",
              "2013-12-31    3839.666667\n",
              "2014-12-31    4023.833333\n",
              "2015-12-31    4212.500000\n",
              "2016-12-31    4434.416667\n",
              "2017-12-31    4602.666667\n",
              "2018-12-31    4830.666667\n",
              "2019-12-31    4972.750000\n",
              "2020-12-31    4922.500000"
            ]
          },
          "metadata": {
            "tags": []
          },
          "execution_count": 75
        }
      ]
    },
    {
      "cell_type": "code",
      "metadata": {
        "id": "UbwkoaHyyzwk"
      },
      "source": [
        ""
      ],
      "execution_count": null,
      "outputs": []
    }
  ]
}