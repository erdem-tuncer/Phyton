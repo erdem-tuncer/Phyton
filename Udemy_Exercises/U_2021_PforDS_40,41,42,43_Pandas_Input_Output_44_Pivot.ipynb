{
  "nbformat": 4,
  "nbformat_minor": 0,
  "metadata": {
    "colab": {
      "name": "U-2021-PforDS-40,41,42,43-Pandas-Input Output|44-Pivot.ipynb",
      "provenance": []
    },
    "kernelspec": {
      "name": "python3",
      "display_name": "Python 3"
    },
    "language_info": {
      "name": "python"
    }
  },
  "cells": [
    {
      "cell_type": "code",
      "metadata": {
        "id": "fmJpvCUcCytp"
      },
      "source": [
        "import numpy as np\n",
        "import pandas as pd\n"
      ],
      "execution_count": 1,
      "outputs": []
    },
    {
      "cell_type": "markdown",
      "metadata": {
        "id": "v2lOJ9l1D0zo"
      },
      "source": [
        "(https://pandas.pydata.org/pandas-docs/stable/user_guide/io.html)"
      ]
    },
    {
      "cell_type": "code",
      "metadata": {
        "colab": {
          "base_uri": "https://localhost:8080/",
          "height": 35
        },
        "id": "mW3XLwvODZlo",
        "outputId": "f399d20f-bb3a-4f9d-cf14-d6a00b71987c"
      },
      "source": [
        "pwd"
      ],
      "execution_count": 2,
      "outputs": [
        {
          "output_type": "execute_result",
          "data": {
            "application/vnd.google.colaboratory.intrinsic+json": {
              "type": "string"
            },
            "text/plain": [
              "'/content'"
            ]
          },
          "metadata": {
            "tags": []
          },
          "execution_count": 2
        }
      ]
    },
    {
      "cell_type": "code",
      "metadata": {
        "colab": {
          "base_uri": "https://localhost:8080/"
        },
        "id": "XUpjn34PERHi",
        "outputId": "4d86b6f5-20b0-42ab-9896-3148a1a08b39"
      },
      "source": [
        "ls"
      ],
      "execution_count": 3,
      "outputs": [
        {
          "output_type": "stream",
          "text": [
            "\u001b[0m\u001b[01;34msample_data\u001b[0m/\n"
          ],
          "name": "stdout"
        }
      ]
    },
    {
      "cell_type": "code",
      "metadata": {
        "id": "4ScFYPxoEcgn"
      },
      "source": [
        "import os"
      ],
      "execution_count": 4,
      "outputs": []
    },
    {
      "cell_type": "code",
      "metadata": {
        "colab": {
          "base_uri": "https://localhost:8080/",
          "height": 35
        },
        "id": "ReV1XbsnEfk_",
        "outputId": "96f79ff4-c372-4825-eccd-07b2dec41efb"
      },
      "source": [
        "os.getcwd()"
      ],
      "execution_count": 5,
      "outputs": [
        {
          "output_type": "execute_result",
          "data": {
            "application/vnd.google.colaboratory.intrinsic+json": {
              "type": "string"
            },
            "text/plain": [
              "'/content'"
            ]
          },
          "metadata": {
            "tags": []
          },
          "execution_count": 5
        }
      ]
    },
    {
      "cell_type": "code",
      "metadata": {
        "colab": {
          "base_uri": "https://localhost:8080/",
          "height": 170
        },
        "id": "-xyQUOBeEkMl",
        "outputId": "edab0616-b2f8-43a4-f008-632960079ba4"
      },
      "source": [
        "pd.read_csv(\"example.csv\")"
      ],
      "execution_count": 6,
      "outputs": [
        {
          "output_type": "execute_result",
          "data": {
            "text/html": [
              "<div>\n",
              "<style scoped>\n",
              "    .dataframe tbody tr th:only-of-type {\n",
              "        vertical-align: middle;\n",
              "    }\n",
              "\n",
              "    .dataframe tbody tr th {\n",
              "        vertical-align: top;\n",
              "    }\n",
              "\n",
              "    .dataframe thead th {\n",
              "        text-align: right;\n",
              "    }\n",
              "</style>\n",
              "<table border=\"1\" class=\"dataframe\">\n",
              "  <thead>\n",
              "    <tr style=\"text-align: right;\">\n",
              "      <th></th>\n",
              "      <th>a</th>\n",
              "      <th>b</th>\n",
              "      <th>c</th>\n",
              "      <th>d</th>\n",
              "    </tr>\n",
              "  </thead>\n",
              "  <tbody>\n",
              "    <tr>\n",
              "      <th>0</th>\n",
              "      <td>0</td>\n",
              "      <td>1</td>\n",
              "      <td>2</td>\n",
              "      <td>3</td>\n",
              "    </tr>\n",
              "    <tr>\n",
              "      <th>1</th>\n",
              "      <td>4</td>\n",
              "      <td>5</td>\n",
              "      <td>6</td>\n",
              "      <td>7</td>\n",
              "    </tr>\n",
              "    <tr>\n",
              "      <th>2</th>\n",
              "      <td>8</td>\n",
              "      <td>9</td>\n",
              "      <td>10</td>\n",
              "      <td>11</td>\n",
              "    </tr>\n",
              "    <tr>\n",
              "      <th>3</th>\n",
              "      <td>12</td>\n",
              "      <td>13</td>\n",
              "      <td>14</td>\n",
              "      <td>15</td>\n",
              "    </tr>\n",
              "  </tbody>\n",
              "</table>\n",
              "</div>"
            ],
            "text/plain": [
              "    a   b   c   d\n",
              "0   0   1   2   3\n",
              "1   4   5   6   7\n",
              "2   8   9  10  11\n",
              "3  12  13  14  15"
            ]
          },
          "metadata": {
            "tags": []
          },
          "execution_count": 6
        }
      ]
    },
    {
      "cell_type": "code",
      "metadata": {
        "colab": {
          "base_uri": "https://localhost:8080/",
          "height": 200
        },
        "id": "wqU-7GCEE0-W",
        "outputId": "7295c03f-cee5-4a39-884f-4ec3508c200a"
      },
      "source": [
        "pd.read_csv(\"example.csv\", header=None) # If you don't want it to be the header and you actually want that to be a row instead of calling names, you can say header is equal to none."
      ],
      "execution_count": 7,
      "outputs": [
        {
          "output_type": "execute_result",
          "data": {
            "text/html": [
              "<div>\n",
              "<style scoped>\n",
              "    .dataframe tbody tr th:only-of-type {\n",
              "        vertical-align: middle;\n",
              "    }\n",
              "\n",
              "    .dataframe tbody tr th {\n",
              "        vertical-align: top;\n",
              "    }\n",
              "\n",
              "    .dataframe thead th {\n",
              "        text-align: right;\n",
              "    }\n",
              "</style>\n",
              "<table border=\"1\" class=\"dataframe\">\n",
              "  <thead>\n",
              "    <tr style=\"text-align: right;\">\n",
              "      <th></th>\n",
              "      <th>0</th>\n",
              "      <th>1</th>\n",
              "      <th>2</th>\n",
              "      <th>3</th>\n",
              "    </tr>\n",
              "  </thead>\n",
              "  <tbody>\n",
              "    <tr>\n",
              "      <th>0</th>\n",
              "      <td>a</td>\n",
              "      <td>b</td>\n",
              "      <td>c</td>\n",
              "      <td>d</td>\n",
              "    </tr>\n",
              "    <tr>\n",
              "      <th>1</th>\n",
              "      <td>0</td>\n",
              "      <td>1</td>\n",
              "      <td>2</td>\n",
              "      <td>3</td>\n",
              "    </tr>\n",
              "    <tr>\n",
              "      <th>2</th>\n",
              "      <td>4</td>\n",
              "      <td>5</td>\n",
              "      <td>6</td>\n",
              "      <td>7</td>\n",
              "    </tr>\n",
              "    <tr>\n",
              "      <th>3</th>\n",
              "      <td>8</td>\n",
              "      <td>9</td>\n",
              "      <td>10</td>\n",
              "      <td>11</td>\n",
              "    </tr>\n",
              "    <tr>\n",
              "      <th>4</th>\n",
              "      <td>12</td>\n",
              "      <td>13</td>\n",
              "      <td>14</td>\n",
              "      <td>15</td>\n",
              "    </tr>\n",
              "  </tbody>\n",
              "</table>\n",
              "</div>"
            ],
            "text/plain": [
              "    0   1   2   3\n",
              "0   a   b   c   d\n",
              "1   0   1   2   3\n",
              "2   4   5   6   7\n",
              "3   8   9  10  11\n",
              "4  12  13  14  15"
            ]
          },
          "metadata": {
            "tags": []
          },
          "execution_count": 7
        }
      ]
    },
    {
      "cell_type": "code",
      "metadata": {
        "colab": {
          "base_uri": "https://localhost:8080/",
          "height": 170
        },
        "id": "ZAnG-KxIE43g",
        "outputId": "aa3f6983-33aa-4ce8-9f9e-d2a396b64f79"
      },
      "source": [
        "df = pd.read_csv(\"example.csv\")\n",
        "df"
      ],
      "execution_count": 9,
      "outputs": [
        {
          "output_type": "execute_result",
          "data": {
            "text/html": [
              "<div>\n",
              "<style scoped>\n",
              "    .dataframe tbody tr th:only-of-type {\n",
              "        vertical-align: middle;\n",
              "    }\n",
              "\n",
              "    .dataframe tbody tr th {\n",
              "        vertical-align: top;\n",
              "    }\n",
              "\n",
              "    .dataframe thead th {\n",
              "        text-align: right;\n",
              "    }\n",
              "</style>\n",
              "<table border=\"1\" class=\"dataframe\">\n",
              "  <thead>\n",
              "    <tr style=\"text-align: right;\">\n",
              "      <th></th>\n",
              "      <th>a</th>\n",
              "      <th>b</th>\n",
              "      <th>c</th>\n",
              "      <th>d</th>\n",
              "    </tr>\n",
              "  </thead>\n",
              "  <tbody>\n",
              "    <tr>\n",
              "      <th>0</th>\n",
              "      <td>0</td>\n",
              "      <td>1</td>\n",
              "      <td>2</td>\n",
              "      <td>3</td>\n",
              "    </tr>\n",
              "    <tr>\n",
              "      <th>1</th>\n",
              "      <td>4</td>\n",
              "      <td>5</td>\n",
              "      <td>6</td>\n",
              "      <td>7</td>\n",
              "    </tr>\n",
              "    <tr>\n",
              "      <th>2</th>\n",
              "      <td>8</td>\n",
              "      <td>9</td>\n",
              "      <td>10</td>\n",
              "      <td>11</td>\n",
              "    </tr>\n",
              "    <tr>\n",
              "      <th>3</th>\n",
              "      <td>12</td>\n",
              "      <td>13</td>\n",
              "      <td>14</td>\n",
              "      <td>15</td>\n",
              "    </tr>\n",
              "  </tbody>\n",
              "</table>\n",
              "</div>"
            ],
            "text/plain": [
              "    a   b   c   d\n",
              "0   0   1   2   3\n",
              "1   4   5   6   7\n",
              "2   8   9  10  11\n",
              "3  12  13  14  15"
            ]
          },
          "metadata": {
            "tags": []
          },
          "execution_count": 9
        }
      ]
    },
    {
      "cell_type": "code",
      "metadata": {
        "id": "FIYLa1BjFHfP"
      },
      "source": [
        "df = pd.read_csv(\"example.csv\", index_col=0) # And that just says use the zero index column as my actual index in the data frame.\n"
      ],
      "execution_count": 11,
      "outputs": []
    },
    {
      "cell_type": "code",
      "metadata": {
        "colab": {
          "base_uri": "https://localhost:8080/",
          "height": 200
        },
        "id": "Kysq4k_tFVfb",
        "outputId": "03ec5a06-6da8-4bb2-9797-9e85b51548a3"
      },
      "source": [
        "df"
      ],
      "execution_count": 12,
      "outputs": [
        {
          "output_type": "execute_result",
          "data": {
            "text/html": [
              "<div>\n",
              "<style scoped>\n",
              "    .dataframe tbody tr th:only-of-type {\n",
              "        vertical-align: middle;\n",
              "    }\n",
              "\n",
              "    .dataframe tbody tr th {\n",
              "        vertical-align: top;\n",
              "    }\n",
              "\n",
              "    .dataframe thead th {\n",
              "        text-align: right;\n",
              "    }\n",
              "</style>\n",
              "<table border=\"1\" class=\"dataframe\">\n",
              "  <thead>\n",
              "    <tr style=\"text-align: right;\">\n",
              "      <th></th>\n",
              "      <th>b</th>\n",
              "      <th>c</th>\n",
              "      <th>d</th>\n",
              "    </tr>\n",
              "    <tr>\n",
              "      <th>a</th>\n",
              "      <th></th>\n",
              "      <th></th>\n",
              "      <th></th>\n",
              "    </tr>\n",
              "  </thead>\n",
              "  <tbody>\n",
              "    <tr>\n",
              "      <th>0</th>\n",
              "      <td>1</td>\n",
              "      <td>2</td>\n",
              "      <td>3</td>\n",
              "    </tr>\n",
              "    <tr>\n",
              "      <th>4</th>\n",
              "      <td>5</td>\n",
              "      <td>6</td>\n",
              "      <td>7</td>\n",
              "    </tr>\n",
              "    <tr>\n",
              "      <th>8</th>\n",
              "      <td>9</td>\n",
              "      <td>10</td>\n",
              "      <td>11</td>\n",
              "    </tr>\n",
              "    <tr>\n",
              "      <th>12</th>\n",
              "      <td>13</td>\n",
              "      <td>14</td>\n",
              "      <td>15</td>\n",
              "    </tr>\n",
              "  </tbody>\n",
              "</table>\n",
              "</div>"
            ],
            "text/plain": [
              "     b   c   d\n",
              "a             \n",
              "0    1   2   3\n",
              "4    5   6   7\n",
              "8    9  10  11\n",
              "12  13  14  15"
            ]
          },
          "metadata": {
            "tags": []
          },
          "execution_count": 12
        }
      ]
    },
    {
      "cell_type": "code",
      "metadata": {
        "colab": {
          "base_uri": "https://localhost:8080/",
          "height": 35
        },
        "id": "3Ec8zUfRFtWZ",
        "outputId": "07576ae9-703f-4615-edb0-fc461b318373"
      },
      "source": [
        "pwd"
      ],
      "execution_count": 13,
      "outputs": [
        {
          "output_type": "execute_result",
          "data": {
            "application/vnd.google.colaboratory.intrinsic+json": {
              "type": "string"
            },
            "text/plain": [
              "'/content'"
            ]
          },
          "metadata": {
            "tags": []
          },
          "execution_count": 13
        }
      ]
    },
    {
      "cell_type": "code",
      "metadata": {
        "id": "76Wpm0EhFl4p"
      },
      "source": [
        "df.to_csv(\"newfile.csv\", index=False)"
      ],
      "execution_count": 16,
      "outputs": []
    },
    {
      "cell_type": "code",
      "metadata": {
        "colab": {
          "base_uri": "https://localhost:8080/",
          "height": 170
        },
        "id": "pQ1App27F01k",
        "outputId": "fd75ae61-9299-47a7-9663-776d22dcbaf7"
      },
      "source": [
        "new = pd.read_csv(\"newfile.csv\")\n",
        "new"
      ],
      "execution_count": 17,
      "outputs": [
        {
          "output_type": "execute_result",
          "data": {
            "text/html": [
              "<div>\n",
              "<style scoped>\n",
              "    .dataframe tbody tr th:only-of-type {\n",
              "        vertical-align: middle;\n",
              "    }\n",
              "\n",
              "    .dataframe tbody tr th {\n",
              "        vertical-align: top;\n",
              "    }\n",
              "\n",
              "    .dataframe thead th {\n",
              "        text-align: right;\n",
              "    }\n",
              "</style>\n",
              "<table border=\"1\" class=\"dataframe\">\n",
              "  <thead>\n",
              "    <tr style=\"text-align: right;\">\n",
              "      <th></th>\n",
              "      <th>b</th>\n",
              "      <th>c</th>\n",
              "      <th>d</th>\n",
              "    </tr>\n",
              "  </thead>\n",
              "  <tbody>\n",
              "    <tr>\n",
              "      <th>0</th>\n",
              "      <td>1</td>\n",
              "      <td>2</td>\n",
              "      <td>3</td>\n",
              "    </tr>\n",
              "    <tr>\n",
              "      <th>1</th>\n",
              "      <td>5</td>\n",
              "      <td>6</td>\n",
              "      <td>7</td>\n",
              "    </tr>\n",
              "    <tr>\n",
              "      <th>2</th>\n",
              "      <td>9</td>\n",
              "      <td>10</td>\n",
              "      <td>11</td>\n",
              "    </tr>\n",
              "    <tr>\n",
              "      <th>3</th>\n",
              "      <td>13</td>\n",
              "      <td>14</td>\n",
              "      <td>15</td>\n",
              "    </tr>\n",
              "  </tbody>\n",
              "</table>\n",
              "</div>"
            ],
            "text/plain": [
              "    b   c   d\n",
              "0   1   2   3\n",
              "1   5   6   7\n",
              "2   9  10  11\n",
              "3  13  14  15"
            ]
          },
          "metadata": {
            "tags": []
          },
          "execution_count": 17
        }
      ]
    },
    {
      "cell_type": "markdown",
      "metadata": {
        "id": "5XHxna54GUcf"
      },
      "source": [
        "# Video 41. Pandas Input and Output - HTML Tables"
      ]
    },
    {
      "cell_type": "code",
      "metadata": {
        "colab": {
          "base_uri": "https://localhost:8080/"
        },
        "id": "R4cGPYu6GEG1",
        "outputId": "63eb2a28-3588-4545-c1ba-d9c57537e3f8"
      },
      "source": [
        "pip install lxml"
      ],
      "execution_count": 19,
      "outputs": [
        {
          "output_type": "stream",
          "text": [
            "Requirement already satisfied: lxml in /usr/local/lib/python3.7/dist-packages (4.2.6)\n"
          ],
          "name": "stdout"
        }
      ]
    },
    {
      "cell_type": "code",
      "metadata": {
        "id": "j-ECUPioHI9D"
      },
      "source": [
        "url = \"https://en.wikipedia.org/wiki/World_population\""
      ],
      "execution_count": 20,
      "outputs": []
    },
    {
      "cell_type": "code",
      "metadata": {
        "id": "_qiUKBBNHhHc"
      },
      "source": [
        "tables = pd.read_html(url)"
      ],
      "execution_count": 22,
      "outputs": []
    },
    {
      "cell_type": "code",
      "metadata": {
        "colab": {
          "base_uri": "https://localhost:8080/"
        },
        "id": "YzcjxtN0HjRO",
        "outputId": "0396b5d2-4fba-4a6f-fc99-faae105709ac"
      },
      "source": [
        "len(tables) # open source and search \"<table\""
      ],
      "execution_count": 23,
      "outputs": [
        {
          "output_type": "execute_result",
          "data": {
            "text/plain": [
              "27"
            ]
          },
          "metadata": {
            "tags": []
          },
          "execution_count": 23
        }
      ]
    },
    {
      "cell_type": "code",
      "metadata": {
        "colab": {
          "base_uri": "https://localhost:8080/",
          "height": 473
        },
        "id": "dxhhf2eoHz4I",
        "outputId": "7ee59033-30bf-4123-a594-69f59b921a9e"
      },
      "source": [
        "tables[0]"
      ],
      "execution_count": 24,
      "outputs": [
        {
          "output_type": "execute_result",
          "data": {
            "text/html": [
              "<div>\n",
              "<style scoped>\n",
              "    .dataframe tbody tr th:only-of-type {\n",
              "        vertical-align: middle;\n",
              "    }\n",
              "\n",
              "    .dataframe tbody tr th {\n",
              "        vertical-align: top;\n",
              "    }\n",
              "\n",
              "    .dataframe thead tr th {\n",
              "        text-align: left;\n",
              "    }\n",
              "</style>\n",
              "<table border=\"1\" class=\"dataframe\">\n",
              "  <thead>\n",
              "    <tr>\n",
              "      <th></th>\n",
              "      <th colspan=\"5\" halign=\"left\">World population (millions, UN estimates)[15]</th>\n",
              "    </tr>\n",
              "    <tr>\n",
              "      <th></th>\n",
              "      <th>#</th>\n",
              "      <th>Top ten most populous countries</th>\n",
              "      <th>2000</th>\n",
              "      <th>2015</th>\n",
              "      <th>2030[A]</th>\n",
              "    </tr>\n",
              "  </thead>\n",
              "  <tbody>\n",
              "    <tr>\n",
              "      <th>0</th>\n",
              "      <td>1</td>\n",
              "      <td>China[B]</td>\n",
              "      <td>1270</td>\n",
              "      <td>1376</td>\n",
              "      <td>1416</td>\n",
              "    </tr>\n",
              "    <tr>\n",
              "      <th>1</th>\n",
              "      <td>2</td>\n",
              "      <td>India</td>\n",
              "      <td>1053</td>\n",
              "      <td>1311</td>\n",
              "      <td>1528</td>\n",
              "    </tr>\n",
              "    <tr>\n",
              "      <th>2</th>\n",
              "      <td>3</td>\n",
              "      <td>United States</td>\n",
              "      <td>283</td>\n",
              "      <td>322</td>\n",
              "      <td>356</td>\n",
              "    </tr>\n",
              "    <tr>\n",
              "      <th>3</th>\n",
              "      <td>4</td>\n",
              "      <td>Indonesia</td>\n",
              "      <td>212</td>\n",
              "      <td>258</td>\n",
              "      <td>295</td>\n",
              "    </tr>\n",
              "    <tr>\n",
              "      <th>4</th>\n",
              "      <td>5</td>\n",
              "      <td>Pakistan</td>\n",
              "      <td>136</td>\n",
              "      <td>208</td>\n",
              "      <td>245</td>\n",
              "    </tr>\n",
              "    <tr>\n",
              "      <th>5</th>\n",
              "      <td>6</td>\n",
              "      <td>Brazil</td>\n",
              "      <td>176</td>\n",
              "      <td>206</td>\n",
              "      <td>228</td>\n",
              "    </tr>\n",
              "    <tr>\n",
              "      <th>6</th>\n",
              "      <td>7</td>\n",
              "      <td>Nigeria</td>\n",
              "      <td>123</td>\n",
              "      <td>182</td>\n",
              "      <td>263</td>\n",
              "    </tr>\n",
              "    <tr>\n",
              "      <th>7</th>\n",
              "      <td>8</td>\n",
              "      <td>Bangladesh</td>\n",
              "      <td>131</td>\n",
              "      <td>161</td>\n",
              "      <td>186</td>\n",
              "    </tr>\n",
              "    <tr>\n",
              "      <th>8</th>\n",
              "      <td>9</td>\n",
              "      <td>Russia</td>\n",
              "      <td>146</td>\n",
              "      <td>146</td>\n",
              "      <td>149</td>\n",
              "    </tr>\n",
              "    <tr>\n",
              "      <th>9</th>\n",
              "      <td>10</td>\n",
              "      <td>Mexico</td>\n",
              "      <td>103</td>\n",
              "      <td>127</td>\n",
              "      <td>148</td>\n",
              "    </tr>\n",
              "    <tr>\n",
              "      <th>10</th>\n",
              "      <td>NaN</td>\n",
              "      <td>World total</td>\n",
              "      <td>6127</td>\n",
              "      <td>7349</td>\n",
              "      <td>8501</td>\n",
              "    </tr>\n",
              "    <tr>\n",
              "      <th>11</th>\n",
              "      <td>Notes: .mw-parser-output .reflist{font-size:90...</td>\n",
              "      <td>Notes: .mw-parser-output .reflist{font-size:90...</td>\n",
              "      <td>Notes: .mw-parser-output .reflist{font-size:90...</td>\n",
              "      <td>Notes: .mw-parser-output .reflist{font-size:90...</td>\n",
              "      <td>Notes: .mw-parser-output .reflist{font-size:90...</td>\n",
              "    </tr>\n",
              "  </tbody>\n",
              "</table>\n",
              "</div>"
            ],
            "text/plain": [
              "        World population (millions, UN estimates)[15]  ...                                                   \n",
              "                                                    #  ...                                            2030[A]\n",
              "0                                                   1  ...                                               1416\n",
              "1                                                   2  ...                                               1528\n",
              "2                                                   3  ...                                                356\n",
              "3                                                   4  ...                                                295\n",
              "4                                                   5  ...                                                245\n",
              "5                                                   6  ...                                                228\n",
              "6                                                   7  ...                                                263\n",
              "7                                                   8  ...                                                186\n",
              "8                                                   9  ...                                                149\n",
              "9                                                  10  ...                                                148\n",
              "10                                                NaN  ...                                               8501\n",
              "11  Notes: .mw-parser-output .reflist{font-size:90...  ...  Notes: .mw-parser-output .reflist{font-size:90...\n",
              "\n",
              "[12 rows x 5 columns]"
            ]
          },
          "metadata": {
            "tags": []
          },
          "execution_count": 24
        }
      ]
    },
    {
      "cell_type": "code",
      "metadata": {
        "colab": {
          "base_uri": "https://localhost:8080/"
        },
        "id": "7AhV-CncH8LH",
        "outputId": "b08262a8-118e-414f-d0a7-9e34db9a3dbd"
      },
      "source": [
        "tables[0].columns"
      ],
      "execution_count": 25,
      "outputs": [
        {
          "output_type": "execute_result",
          "data": {
            "text/plain": [
              "MultiIndex([('World population (millions, UN estimates)[15]', ...),\n",
              "            ('World population (millions, UN estimates)[15]', ...),\n",
              "            ('World population (millions, UN estimates)[15]', ...),\n",
              "            ('World population (millions, UN estimates)[15]', ...),\n",
              "            ('World population (millions, UN estimates)[15]', ...)],\n",
              "           )"
            ]
          },
          "metadata": {
            "tags": []
          },
          "execution_count": 25
        }
      ]
    },
    {
      "cell_type": "code",
      "metadata": {
        "id": "FRlvvio3Ii5x"
      },
      "source": [
        "world_topten = tables[0]"
      ],
      "execution_count": 38,
      "outputs": []
    },
    {
      "cell_type": "code",
      "metadata": {
        "colab": {
          "base_uri": "https://localhost:8080/",
          "height": 443
        },
        "id": "k85UsCvWInWK",
        "outputId": "a804c3e6-479d-4878-f56e-d1758eef8ce7"
      },
      "source": [
        "world_top = world_topten[\"World population (millions, UN estimates)[15]\"]\n",
        "world_top"
      ],
      "execution_count": 39,
      "outputs": [
        {
          "output_type": "execute_result",
          "data": {
            "text/html": [
              "<div>\n",
              "<style scoped>\n",
              "    .dataframe tbody tr th:only-of-type {\n",
              "        vertical-align: middle;\n",
              "    }\n",
              "\n",
              "    .dataframe tbody tr th {\n",
              "        vertical-align: top;\n",
              "    }\n",
              "\n",
              "    .dataframe thead th {\n",
              "        text-align: right;\n",
              "    }\n",
              "</style>\n",
              "<table border=\"1\" class=\"dataframe\">\n",
              "  <thead>\n",
              "    <tr style=\"text-align: right;\">\n",
              "      <th></th>\n",
              "      <th>#</th>\n",
              "      <th>Top ten most populous countries</th>\n",
              "      <th>2000</th>\n",
              "      <th>2015</th>\n",
              "      <th>2030[A]</th>\n",
              "    </tr>\n",
              "  </thead>\n",
              "  <tbody>\n",
              "    <tr>\n",
              "      <th>0</th>\n",
              "      <td>1</td>\n",
              "      <td>China[B]</td>\n",
              "      <td>1270</td>\n",
              "      <td>1376</td>\n",
              "      <td>1416</td>\n",
              "    </tr>\n",
              "    <tr>\n",
              "      <th>1</th>\n",
              "      <td>2</td>\n",
              "      <td>India</td>\n",
              "      <td>1053</td>\n",
              "      <td>1311</td>\n",
              "      <td>1528</td>\n",
              "    </tr>\n",
              "    <tr>\n",
              "      <th>2</th>\n",
              "      <td>3</td>\n",
              "      <td>United States</td>\n",
              "      <td>283</td>\n",
              "      <td>322</td>\n",
              "      <td>356</td>\n",
              "    </tr>\n",
              "    <tr>\n",
              "      <th>3</th>\n",
              "      <td>4</td>\n",
              "      <td>Indonesia</td>\n",
              "      <td>212</td>\n",
              "      <td>258</td>\n",
              "      <td>295</td>\n",
              "    </tr>\n",
              "    <tr>\n",
              "      <th>4</th>\n",
              "      <td>5</td>\n",
              "      <td>Pakistan</td>\n",
              "      <td>136</td>\n",
              "      <td>208</td>\n",
              "      <td>245</td>\n",
              "    </tr>\n",
              "    <tr>\n",
              "      <th>5</th>\n",
              "      <td>6</td>\n",
              "      <td>Brazil</td>\n",
              "      <td>176</td>\n",
              "      <td>206</td>\n",
              "      <td>228</td>\n",
              "    </tr>\n",
              "    <tr>\n",
              "      <th>6</th>\n",
              "      <td>7</td>\n",
              "      <td>Nigeria</td>\n",
              "      <td>123</td>\n",
              "      <td>182</td>\n",
              "      <td>263</td>\n",
              "    </tr>\n",
              "    <tr>\n",
              "      <th>7</th>\n",
              "      <td>8</td>\n",
              "      <td>Bangladesh</td>\n",
              "      <td>131</td>\n",
              "      <td>161</td>\n",
              "      <td>186</td>\n",
              "    </tr>\n",
              "    <tr>\n",
              "      <th>8</th>\n",
              "      <td>9</td>\n",
              "      <td>Russia</td>\n",
              "      <td>146</td>\n",
              "      <td>146</td>\n",
              "      <td>149</td>\n",
              "    </tr>\n",
              "    <tr>\n",
              "      <th>9</th>\n",
              "      <td>10</td>\n",
              "      <td>Mexico</td>\n",
              "      <td>103</td>\n",
              "      <td>127</td>\n",
              "      <td>148</td>\n",
              "    </tr>\n",
              "    <tr>\n",
              "      <th>10</th>\n",
              "      <td>NaN</td>\n",
              "      <td>World total</td>\n",
              "      <td>6127</td>\n",
              "      <td>7349</td>\n",
              "      <td>8501</td>\n",
              "    </tr>\n",
              "    <tr>\n",
              "      <th>11</th>\n",
              "      <td>Notes: .mw-parser-output .reflist{font-size:90...</td>\n",
              "      <td>Notes: .mw-parser-output .reflist{font-size:90...</td>\n",
              "      <td>Notes: .mw-parser-output .reflist{font-size:90...</td>\n",
              "      <td>Notes: .mw-parser-output .reflist{font-size:90...</td>\n",
              "      <td>Notes: .mw-parser-output .reflist{font-size:90...</td>\n",
              "    </tr>\n",
              "  </tbody>\n",
              "</table>\n",
              "</div>"
            ],
            "text/plain": [
              "                                                    #  ...                                            2030[A]\n",
              "0                                                   1  ...                                               1416\n",
              "1                                                   2  ...                                               1528\n",
              "2                                                   3  ...                                                356\n",
              "3                                                   4  ...                                                295\n",
              "4                                                   5  ...                                                245\n",
              "5                                                   6  ...                                                228\n",
              "6                                                   7  ...                                                263\n",
              "7                                                   8  ...                                                186\n",
              "8                                                   9  ...                                                149\n",
              "9                                                  10  ...                                                148\n",
              "10                                                NaN  ...                                               8501\n",
              "11  Notes: .mw-parser-output .reflist{font-size:90...  ...  Notes: .mw-parser-output .reflist{font-size:90...\n",
              "\n",
              "[12 rows x 5 columns]"
            ]
          },
          "metadata": {
            "tags": []
          },
          "execution_count": 39
        }
      ]
    },
    {
      "cell_type": "code",
      "metadata": {
        "colab": {
          "base_uri": "https://localhost:8080/"
        },
        "id": "leVEb-uvIyT7",
        "outputId": "b4120806-e3b9-4f74-e3df-764e7b8e0ba5"
      },
      "source": [
        "world_top.iloc[11]"
      ],
      "execution_count": 43,
      "outputs": [
        {
          "output_type": "execute_result",
          "data": {
            "text/plain": [
              "#                                  Notes: .mw-parser-output .reflist{font-size:90...\n",
              "Top ten most populous countries    Notes: .mw-parser-output .reflist{font-size:90...\n",
              "2000                               Notes: .mw-parser-output .reflist{font-size:90...\n",
              "2015                               Notes: .mw-parser-output .reflist{font-size:90...\n",
              "2030[A]                            Notes: .mw-parser-output .reflist{font-size:90...\n",
              "Name: 11, dtype: object"
            ]
          },
          "metadata": {
            "tags": []
          },
          "execution_count": 43
        }
      ]
    },
    {
      "cell_type": "code",
      "metadata": {
        "id": "pkyl2nVjJAI8"
      },
      "source": [
        "world_top = world_top.drop(11,axis=0)"
      ],
      "execution_count": 44,
      "outputs": []
    },
    {
      "cell_type": "code",
      "metadata": {
        "colab": {
          "base_uri": "https://localhost:8080/",
          "height": 381
        },
        "id": "Cr1HP-XUJm_C",
        "outputId": "318e6fe3-6943-4db6-94b4-b8b1017803ee"
      },
      "source": [
        "world_top"
      ],
      "execution_count": 45,
      "outputs": [
        {
          "output_type": "execute_result",
          "data": {
            "text/html": [
              "<div>\n",
              "<style scoped>\n",
              "    .dataframe tbody tr th:only-of-type {\n",
              "        vertical-align: middle;\n",
              "    }\n",
              "\n",
              "    .dataframe tbody tr th {\n",
              "        vertical-align: top;\n",
              "    }\n",
              "\n",
              "    .dataframe thead th {\n",
              "        text-align: right;\n",
              "    }\n",
              "</style>\n",
              "<table border=\"1\" class=\"dataframe\">\n",
              "  <thead>\n",
              "    <tr style=\"text-align: right;\">\n",
              "      <th></th>\n",
              "      <th>#</th>\n",
              "      <th>Top ten most populous countries</th>\n",
              "      <th>2000</th>\n",
              "      <th>2015</th>\n",
              "      <th>2030[A]</th>\n",
              "    </tr>\n",
              "  </thead>\n",
              "  <tbody>\n",
              "    <tr>\n",
              "      <th>0</th>\n",
              "      <td>1</td>\n",
              "      <td>China[B]</td>\n",
              "      <td>1270</td>\n",
              "      <td>1376</td>\n",
              "      <td>1416</td>\n",
              "    </tr>\n",
              "    <tr>\n",
              "      <th>1</th>\n",
              "      <td>2</td>\n",
              "      <td>India</td>\n",
              "      <td>1053</td>\n",
              "      <td>1311</td>\n",
              "      <td>1528</td>\n",
              "    </tr>\n",
              "    <tr>\n",
              "      <th>2</th>\n",
              "      <td>3</td>\n",
              "      <td>United States</td>\n",
              "      <td>283</td>\n",
              "      <td>322</td>\n",
              "      <td>356</td>\n",
              "    </tr>\n",
              "    <tr>\n",
              "      <th>3</th>\n",
              "      <td>4</td>\n",
              "      <td>Indonesia</td>\n",
              "      <td>212</td>\n",
              "      <td>258</td>\n",
              "      <td>295</td>\n",
              "    </tr>\n",
              "    <tr>\n",
              "      <th>4</th>\n",
              "      <td>5</td>\n",
              "      <td>Pakistan</td>\n",
              "      <td>136</td>\n",
              "      <td>208</td>\n",
              "      <td>245</td>\n",
              "    </tr>\n",
              "    <tr>\n",
              "      <th>5</th>\n",
              "      <td>6</td>\n",
              "      <td>Brazil</td>\n",
              "      <td>176</td>\n",
              "      <td>206</td>\n",
              "      <td>228</td>\n",
              "    </tr>\n",
              "    <tr>\n",
              "      <th>6</th>\n",
              "      <td>7</td>\n",
              "      <td>Nigeria</td>\n",
              "      <td>123</td>\n",
              "      <td>182</td>\n",
              "      <td>263</td>\n",
              "    </tr>\n",
              "    <tr>\n",
              "      <th>7</th>\n",
              "      <td>8</td>\n",
              "      <td>Bangladesh</td>\n",
              "      <td>131</td>\n",
              "      <td>161</td>\n",
              "      <td>186</td>\n",
              "    </tr>\n",
              "    <tr>\n",
              "      <th>8</th>\n",
              "      <td>9</td>\n",
              "      <td>Russia</td>\n",
              "      <td>146</td>\n",
              "      <td>146</td>\n",
              "      <td>149</td>\n",
              "    </tr>\n",
              "    <tr>\n",
              "      <th>9</th>\n",
              "      <td>10</td>\n",
              "      <td>Mexico</td>\n",
              "      <td>103</td>\n",
              "      <td>127</td>\n",
              "      <td>148</td>\n",
              "    </tr>\n",
              "    <tr>\n",
              "      <th>10</th>\n",
              "      <td>NaN</td>\n",
              "      <td>World total</td>\n",
              "      <td>6127</td>\n",
              "      <td>7349</td>\n",
              "      <td>8501</td>\n",
              "    </tr>\n",
              "  </tbody>\n",
              "</table>\n",
              "</div>"
            ],
            "text/plain": [
              "      # Top ten most populous countries  2000  2015 2030[A]\n",
              "0     1                        China[B]  1270  1376    1416\n",
              "1     2                           India  1053  1311    1528\n",
              "2     3                   United States   283   322     356\n",
              "3     4                       Indonesia   212   258     295\n",
              "4     5                        Pakistan   136   208     245\n",
              "5     6                          Brazil   176   206     228\n",
              "6     7                         Nigeria   123   182     263\n",
              "7     8                      Bangladesh   131   161     186\n",
              "8     9                          Russia   146   146     149\n",
              "9    10                          Mexico   103   127     148\n",
              "10  NaN                     World total  6127  7349    8501"
            ]
          },
          "metadata": {
            "tags": []
          },
          "execution_count": 45
        }
      ]
    },
    {
      "cell_type": "code",
      "metadata": {
        "id": "mrmil-2lJo7L"
      },
      "source": [
        "world_top = world_top.drop(\"#\", axis=1)"
      ],
      "execution_count": 46,
      "outputs": []
    },
    {
      "cell_type": "code",
      "metadata": {
        "colab": {
          "base_uri": "https://localhost:8080/",
          "height": 381
        },
        "id": "w6c5tnlKJwk_",
        "outputId": "a1461c5f-b915-4a91-e562-7719cf3d05d4"
      },
      "source": [
        "world_top"
      ],
      "execution_count": 47,
      "outputs": [
        {
          "output_type": "execute_result",
          "data": {
            "text/html": [
              "<div>\n",
              "<style scoped>\n",
              "    .dataframe tbody tr th:only-of-type {\n",
              "        vertical-align: middle;\n",
              "    }\n",
              "\n",
              "    .dataframe tbody tr th {\n",
              "        vertical-align: top;\n",
              "    }\n",
              "\n",
              "    .dataframe thead th {\n",
              "        text-align: right;\n",
              "    }\n",
              "</style>\n",
              "<table border=\"1\" class=\"dataframe\">\n",
              "  <thead>\n",
              "    <tr style=\"text-align: right;\">\n",
              "      <th></th>\n",
              "      <th>Top ten most populous countries</th>\n",
              "      <th>2000</th>\n",
              "      <th>2015</th>\n",
              "      <th>2030[A]</th>\n",
              "    </tr>\n",
              "  </thead>\n",
              "  <tbody>\n",
              "    <tr>\n",
              "      <th>0</th>\n",
              "      <td>China[B]</td>\n",
              "      <td>1270</td>\n",
              "      <td>1376</td>\n",
              "      <td>1416</td>\n",
              "    </tr>\n",
              "    <tr>\n",
              "      <th>1</th>\n",
              "      <td>India</td>\n",
              "      <td>1053</td>\n",
              "      <td>1311</td>\n",
              "      <td>1528</td>\n",
              "    </tr>\n",
              "    <tr>\n",
              "      <th>2</th>\n",
              "      <td>United States</td>\n",
              "      <td>283</td>\n",
              "      <td>322</td>\n",
              "      <td>356</td>\n",
              "    </tr>\n",
              "    <tr>\n",
              "      <th>3</th>\n",
              "      <td>Indonesia</td>\n",
              "      <td>212</td>\n",
              "      <td>258</td>\n",
              "      <td>295</td>\n",
              "    </tr>\n",
              "    <tr>\n",
              "      <th>4</th>\n",
              "      <td>Pakistan</td>\n",
              "      <td>136</td>\n",
              "      <td>208</td>\n",
              "      <td>245</td>\n",
              "    </tr>\n",
              "    <tr>\n",
              "      <th>5</th>\n",
              "      <td>Brazil</td>\n",
              "      <td>176</td>\n",
              "      <td>206</td>\n",
              "      <td>228</td>\n",
              "    </tr>\n",
              "    <tr>\n",
              "      <th>6</th>\n",
              "      <td>Nigeria</td>\n",
              "      <td>123</td>\n",
              "      <td>182</td>\n",
              "      <td>263</td>\n",
              "    </tr>\n",
              "    <tr>\n",
              "      <th>7</th>\n",
              "      <td>Bangladesh</td>\n",
              "      <td>131</td>\n",
              "      <td>161</td>\n",
              "      <td>186</td>\n",
              "    </tr>\n",
              "    <tr>\n",
              "      <th>8</th>\n",
              "      <td>Russia</td>\n",
              "      <td>146</td>\n",
              "      <td>146</td>\n",
              "      <td>149</td>\n",
              "    </tr>\n",
              "    <tr>\n",
              "      <th>9</th>\n",
              "      <td>Mexico</td>\n",
              "      <td>103</td>\n",
              "      <td>127</td>\n",
              "      <td>148</td>\n",
              "    </tr>\n",
              "    <tr>\n",
              "      <th>10</th>\n",
              "      <td>World total</td>\n",
              "      <td>6127</td>\n",
              "      <td>7349</td>\n",
              "      <td>8501</td>\n",
              "    </tr>\n",
              "  </tbody>\n",
              "</table>\n",
              "</div>"
            ],
            "text/plain": [
              "   Top ten most populous countries  2000  2015 2030[A]\n",
              "0                         China[B]  1270  1376    1416\n",
              "1                            India  1053  1311    1528\n",
              "2                    United States   283   322     356\n",
              "3                        Indonesia   212   258     295\n",
              "4                         Pakistan   136   208     245\n",
              "5                           Brazil   176   206     228\n",
              "6                          Nigeria   123   182     263\n",
              "7                       Bangladesh   131   161     186\n",
              "8                           Russia   146   146     149\n",
              "9                           Mexico   103   127     148\n",
              "10                     World total  6127  7349    8501"
            ]
          },
          "metadata": {
            "tags": []
          },
          "execution_count": 47
        }
      ]
    },
    {
      "cell_type": "code",
      "metadata": {
        "colab": {
          "base_uri": "https://localhost:8080/",
          "height": 381
        },
        "id": "t0NZteROJw6m",
        "outputId": "32bede13-ee95-4312-8ddd-a90b7aa25b65"
      },
      "source": [
        "world_top.columns = [\"Country\", \"2000\", \"2015\", \"2030 Est.\"]\n",
        "world_top"
      ],
      "execution_count": 48,
      "outputs": [
        {
          "output_type": "execute_result",
          "data": {
            "text/html": [
              "<div>\n",
              "<style scoped>\n",
              "    .dataframe tbody tr th:only-of-type {\n",
              "        vertical-align: middle;\n",
              "    }\n",
              "\n",
              "    .dataframe tbody tr th {\n",
              "        vertical-align: top;\n",
              "    }\n",
              "\n",
              "    .dataframe thead th {\n",
              "        text-align: right;\n",
              "    }\n",
              "</style>\n",
              "<table border=\"1\" class=\"dataframe\">\n",
              "  <thead>\n",
              "    <tr style=\"text-align: right;\">\n",
              "      <th></th>\n",
              "      <th>Country</th>\n",
              "      <th>2000</th>\n",
              "      <th>2015</th>\n",
              "      <th>2030 Est.</th>\n",
              "    </tr>\n",
              "  </thead>\n",
              "  <tbody>\n",
              "    <tr>\n",
              "      <th>0</th>\n",
              "      <td>China[B]</td>\n",
              "      <td>1270</td>\n",
              "      <td>1376</td>\n",
              "      <td>1416</td>\n",
              "    </tr>\n",
              "    <tr>\n",
              "      <th>1</th>\n",
              "      <td>India</td>\n",
              "      <td>1053</td>\n",
              "      <td>1311</td>\n",
              "      <td>1528</td>\n",
              "    </tr>\n",
              "    <tr>\n",
              "      <th>2</th>\n",
              "      <td>United States</td>\n",
              "      <td>283</td>\n",
              "      <td>322</td>\n",
              "      <td>356</td>\n",
              "    </tr>\n",
              "    <tr>\n",
              "      <th>3</th>\n",
              "      <td>Indonesia</td>\n",
              "      <td>212</td>\n",
              "      <td>258</td>\n",
              "      <td>295</td>\n",
              "    </tr>\n",
              "    <tr>\n",
              "      <th>4</th>\n",
              "      <td>Pakistan</td>\n",
              "      <td>136</td>\n",
              "      <td>208</td>\n",
              "      <td>245</td>\n",
              "    </tr>\n",
              "    <tr>\n",
              "      <th>5</th>\n",
              "      <td>Brazil</td>\n",
              "      <td>176</td>\n",
              "      <td>206</td>\n",
              "      <td>228</td>\n",
              "    </tr>\n",
              "    <tr>\n",
              "      <th>6</th>\n",
              "      <td>Nigeria</td>\n",
              "      <td>123</td>\n",
              "      <td>182</td>\n",
              "      <td>263</td>\n",
              "    </tr>\n",
              "    <tr>\n",
              "      <th>7</th>\n",
              "      <td>Bangladesh</td>\n",
              "      <td>131</td>\n",
              "      <td>161</td>\n",
              "      <td>186</td>\n",
              "    </tr>\n",
              "    <tr>\n",
              "      <th>8</th>\n",
              "      <td>Russia</td>\n",
              "      <td>146</td>\n",
              "      <td>146</td>\n",
              "      <td>149</td>\n",
              "    </tr>\n",
              "    <tr>\n",
              "      <th>9</th>\n",
              "      <td>Mexico</td>\n",
              "      <td>103</td>\n",
              "      <td>127</td>\n",
              "      <td>148</td>\n",
              "    </tr>\n",
              "    <tr>\n",
              "      <th>10</th>\n",
              "      <td>World total</td>\n",
              "      <td>6127</td>\n",
              "      <td>7349</td>\n",
              "      <td>8501</td>\n",
              "    </tr>\n",
              "  </tbody>\n",
              "</table>\n",
              "</div>"
            ],
            "text/plain": [
              "          Country  2000  2015 2030 Est.\n",
              "0        China[B]  1270  1376      1416\n",
              "1           India  1053  1311      1528\n",
              "2   United States   283   322       356\n",
              "3       Indonesia   212   258       295\n",
              "4        Pakistan   136   208       245\n",
              "5          Brazil   176   206       228\n",
              "6         Nigeria   123   182       263\n",
              "7      Bangladesh   131   161       186\n",
              "8          Russia   146   146       149\n",
              "9          Mexico   103   127       148\n",
              "10    World total  6127  7349      8501"
            ]
          },
          "metadata": {
            "tags": []
          },
          "execution_count": 48
        }
      ]
    },
    {
      "cell_type": "code",
      "metadata": {
        "colab": {
          "base_uri": "https://localhost:8080/",
          "height": 351
        },
        "id": "o_U4vVBXJ7Yy",
        "outputId": "2a84f6b4-1abb-4729-d9ee-2d7fb6306261"
      },
      "source": [
        "tables[6]"
      ],
      "execution_count": 49,
      "outputs": [
        {
          "output_type": "execute_result",
          "data": {
            "text/html": [
              "<div>\n",
              "<style scoped>\n",
              "    .dataframe tbody tr th:only-of-type {\n",
              "        vertical-align: middle;\n",
              "    }\n",
              "\n",
              "    .dataframe tbody tr th {\n",
              "        vertical-align: top;\n",
              "    }\n",
              "\n",
              "    .dataframe thead th {\n",
              "        text-align: right;\n",
              "    }\n",
              "</style>\n",
              "<table border=\"1\" class=\"dataframe\">\n",
              "  <thead>\n",
              "    <tr style=\"text-align: right;\">\n",
              "      <th></th>\n",
              "      <th>Rank</th>\n",
              "      <th>Country</th>\n",
              "      <th>Population</th>\n",
              "      <th>Area(km2)</th>\n",
              "      <th>Density(pop/km2)</th>\n",
              "      <th>Population trend</th>\n",
              "    </tr>\n",
              "  </thead>\n",
              "  <tbody>\n",
              "    <tr>\n",
              "      <th>0</th>\n",
              "      <td>1</td>\n",
              "      <td>India</td>\n",
              "      <td>1378370000</td>\n",
              "      <td>3287240</td>\n",
              "      <td>419</td>\n",
              "      <td>Growing</td>\n",
              "    </tr>\n",
              "    <tr>\n",
              "      <th>1</th>\n",
              "      <td>2</td>\n",
              "      <td>Pakistan</td>\n",
              "      <td>224020000</td>\n",
              "      <td>803940</td>\n",
              "      <td>279</td>\n",
              "      <td>Growing</td>\n",
              "    </tr>\n",
              "    <tr>\n",
              "      <th>2</th>\n",
              "      <td>3</td>\n",
              "      <td>Bangladesh</td>\n",
              "      <td>170860000</td>\n",
              "      <td>143998</td>\n",
              "      <td>1187</td>\n",
              "      <td>Rapidly growing</td>\n",
              "    </tr>\n",
              "    <tr>\n",
              "      <th>3</th>\n",
              "      <td>4</td>\n",
              "      <td>Japan</td>\n",
              "      <td>126010000</td>\n",
              "      <td>377873</td>\n",
              "      <td>333</td>\n",
              "      <td>Declining[99]</td>\n",
              "    </tr>\n",
              "    <tr>\n",
              "      <th>4</th>\n",
              "      <td>5</td>\n",
              "      <td>Philippines</td>\n",
              "      <td>110380000</td>\n",
              "      <td>300000</td>\n",
              "      <td>368</td>\n",
              "      <td>Growing</td>\n",
              "    </tr>\n",
              "    <tr>\n",
              "      <th>5</th>\n",
              "      <td>6</td>\n",
              "      <td>Vietnam</td>\n",
              "      <td>96209000</td>\n",
              "      <td>331689</td>\n",
              "      <td>290</td>\n",
              "      <td>Growing</td>\n",
              "    </tr>\n",
              "    <tr>\n",
              "      <th>6</th>\n",
              "      <td>7</td>\n",
              "      <td>United Kingdom</td>\n",
              "      <td>66436000</td>\n",
              "      <td>243610</td>\n",
              "      <td>273</td>\n",
              "      <td>Steady</td>\n",
              "    </tr>\n",
              "    <tr>\n",
              "      <th>7</th>\n",
              "      <td>8</td>\n",
              "      <td>South Korea</td>\n",
              "      <td>51781000</td>\n",
              "      <td>99538</td>\n",
              "      <td>520</td>\n",
              "      <td>Steady</td>\n",
              "    </tr>\n",
              "    <tr>\n",
              "      <th>8</th>\n",
              "      <td>9</td>\n",
              "      <td>Taiwan</td>\n",
              "      <td>23604000</td>\n",
              "      <td>36193</td>\n",
              "      <td>652</td>\n",
              "      <td>Steady</td>\n",
              "    </tr>\n",
              "    <tr>\n",
              "      <th>9</th>\n",
              "      <td>10</td>\n",
              "      <td>Sri Lanka</td>\n",
              "      <td>21803000</td>\n",
              "      <td>65610</td>\n",
              "      <td>332</td>\n",
              "      <td>Growing</td>\n",
              "    </tr>\n",
              "  </tbody>\n",
              "</table>\n",
              "</div>"
            ],
            "text/plain": [
              "   Rank         Country  ...  Density(pop/km2)  Population trend\n",
              "0     1           India  ...               419           Growing\n",
              "1     2        Pakistan  ...               279           Growing\n",
              "2     3      Bangladesh  ...              1187   Rapidly growing\n",
              "3     4           Japan  ...               333     Declining[99]\n",
              "4     5     Philippines  ...               368           Growing\n",
              "5     6         Vietnam  ...               290           Growing\n",
              "6     7  United Kingdom  ...               273            Steady\n",
              "7     8     South Korea  ...               520            Steady\n",
              "8     9          Taiwan  ...               652            Steady\n",
              "9    10       Sri Lanka  ...               332           Growing\n",
              "\n",
              "[10 rows x 6 columns]"
            ]
          },
          "metadata": {
            "tags": []
          },
          "execution_count": 49
        }
      ]
    },
    {
      "cell_type": "code",
      "metadata": {
        "colab": {
          "base_uri": "https://localhost:8080/",
          "height": 381
        },
        "id": "h-lPzVirKBGs",
        "outputId": "a3d6b3a3-8ba0-4bc1-a95d-b302a6d9cd0a"
      },
      "source": [
        "tables[6].set_index(\"Rank\")"
      ],
      "execution_count": 51,
      "outputs": [
        {
          "output_type": "execute_result",
          "data": {
            "text/html": [
              "<div>\n",
              "<style scoped>\n",
              "    .dataframe tbody tr th:only-of-type {\n",
              "        vertical-align: middle;\n",
              "    }\n",
              "\n",
              "    .dataframe tbody tr th {\n",
              "        vertical-align: top;\n",
              "    }\n",
              "\n",
              "    .dataframe thead th {\n",
              "        text-align: right;\n",
              "    }\n",
              "</style>\n",
              "<table border=\"1\" class=\"dataframe\">\n",
              "  <thead>\n",
              "    <tr style=\"text-align: right;\">\n",
              "      <th></th>\n",
              "      <th>Country</th>\n",
              "      <th>Population</th>\n",
              "      <th>Area(km2)</th>\n",
              "      <th>Density(pop/km2)</th>\n",
              "      <th>Population trend</th>\n",
              "    </tr>\n",
              "    <tr>\n",
              "      <th>Rank</th>\n",
              "      <th></th>\n",
              "      <th></th>\n",
              "      <th></th>\n",
              "      <th></th>\n",
              "      <th></th>\n",
              "    </tr>\n",
              "  </thead>\n",
              "  <tbody>\n",
              "    <tr>\n",
              "      <th>1</th>\n",
              "      <td>India</td>\n",
              "      <td>1378370000</td>\n",
              "      <td>3287240</td>\n",
              "      <td>419</td>\n",
              "      <td>Growing</td>\n",
              "    </tr>\n",
              "    <tr>\n",
              "      <th>2</th>\n",
              "      <td>Pakistan</td>\n",
              "      <td>224020000</td>\n",
              "      <td>803940</td>\n",
              "      <td>279</td>\n",
              "      <td>Growing</td>\n",
              "    </tr>\n",
              "    <tr>\n",
              "      <th>3</th>\n",
              "      <td>Bangladesh</td>\n",
              "      <td>170860000</td>\n",
              "      <td>143998</td>\n",
              "      <td>1187</td>\n",
              "      <td>Rapidly growing</td>\n",
              "    </tr>\n",
              "    <tr>\n",
              "      <th>4</th>\n",
              "      <td>Japan</td>\n",
              "      <td>126010000</td>\n",
              "      <td>377873</td>\n",
              "      <td>333</td>\n",
              "      <td>Declining[99]</td>\n",
              "    </tr>\n",
              "    <tr>\n",
              "      <th>5</th>\n",
              "      <td>Philippines</td>\n",
              "      <td>110380000</td>\n",
              "      <td>300000</td>\n",
              "      <td>368</td>\n",
              "      <td>Growing</td>\n",
              "    </tr>\n",
              "    <tr>\n",
              "      <th>6</th>\n",
              "      <td>Vietnam</td>\n",
              "      <td>96209000</td>\n",
              "      <td>331689</td>\n",
              "      <td>290</td>\n",
              "      <td>Growing</td>\n",
              "    </tr>\n",
              "    <tr>\n",
              "      <th>7</th>\n",
              "      <td>United Kingdom</td>\n",
              "      <td>66436000</td>\n",
              "      <td>243610</td>\n",
              "      <td>273</td>\n",
              "      <td>Steady</td>\n",
              "    </tr>\n",
              "    <tr>\n",
              "      <th>8</th>\n",
              "      <td>South Korea</td>\n",
              "      <td>51781000</td>\n",
              "      <td>99538</td>\n",
              "      <td>520</td>\n",
              "      <td>Steady</td>\n",
              "    </tr>\n",
              "    <tr>\n",
              "      <th>9</th>\n",
              "      <td>Taiwan</td>\n",
              "      <td>23604000</td>\n",
              "      <td>36193</td>\n",
              "      <td>652</td>\n",
              "      <td>Steady</td>\n",
              "    </tr>\n",
              "    <tr>\n",
              "      <th>10</th>\n",
              "      <td>Sri Lanka</td>\n",
              "      <td>21803000</td>\n",
              "      <td>65610</td>\n",
              "      <td>332</td>\n",
              "      <td>Growing</td>\n",
              "    </tr>\n",
              "  </tbody>\n",
              "</table>\n",
              "</div>"
            ],
            "text/plain": [
              "             Country  Population  Area(km2)  Density(pop/km2) Population trend\n",
              "Rank                                                                          \n",
              "1              India  1378370000    3287240               419          Growing\n",
              "2           Pakistan   224020000     803940               279          Growing\n",
              "3         Bangladesh   170860000     143998              1187  Rapidly growing\n",
              "4              Japan   126010000     377873               333    Declining[99]\n",
              "5        Philippines   110380000     300000               368          Growing\n",
              "6            Vietnam    96209000     331689               290          Growing\n",
              "7     United Kingdom    66436000     243610               273           Steady\n",
              "8        South Korea    51781000      99538               520           Steady\n",
              "9             Taiwan    23604000      36193               652           Steady\n",
              "10         Sri Lanka    21803000      65610               332          Growing"
            ]
          },
          "metadata": {
            "tags": []
          },
          "execution_count": 51
        }
      ]
    },
    {
      "cell_type": "code",
      "metadata": {
        "id": "sHmf7cj8KHyk"
      },
      "source": [
        "world_top.to_html(\"sample_table.html\", index=False)"
      ],
      "execution_count": 53,
      "outputs": []
    },
    {
      "cell_type": "code",
      "metadata": {
        "colab": {
          "base_uri": "https://localhost:8080/"
        },
        "id": "fMwFdbToKaxc",
        "outputId": "69314be1-29a3-4d7a-a8aa-eee6a06cb33e"
      },
      "source": [
        "ls"
      ],
      "execution_count": 54,
      "outputs": [
        {
          "output_type": "stream",
          "text": [
            "'\\content'$'\\n''ewfile.csv'   newfile.csv          sample_table.html\n",
            " example.csv                  \u001b[0m\u001b[01;34msample_data\u001b[0m/\n",
            " example.xlsx                 sample_table.hhtml\n"
          ],
          "name": "stdout"
        }
      ]
    },
    {
      "cell_type": "markdown",
      "metadata": {
        "id": "1JfWIUYiKzNs"
      },
      "source": [
        "## Video 42. Pandas Input and Output - Excel Files"
      ]
    },
    {
      "cell_type": "markdown",
      "metadata": {
        "id": "x7sP20xcRb3j"
      },
      "source": [
        "Pandas can read and write to Microsoft Excel files, but a really important note here is that pandas can only read and write in the raw data.\n",
        "\n",
        "If you have a more advanced Excel spreadsheet that has macros or visualizations or specific formulas created inside the spreadsheet, PANDAS is not going to be able to read in those relationships.\n",
        "\n",
        "It's just going to grab the actual value in the cell and then read it in as a data frame."
      ]
    },
    {
      "cell_type": "markdown",
      "metadata": {
        "id": "LPgye4iVSCrt"
      },
      "source": [
        "(https://www.python-excel.org/)"
      ]
    },
    {
      "cell_type": "code",
      "metadata": {
        "id": "9QuZjZaGKeWz"
      },
      "source": [
        "df = pd.read_excel(\"my_excel_file.xlsx\", sheet_name=\"First_Sheet\")"
      ],
      "execution_count": 55,
      "outputs": []
    },
    {
      "cell_type": "code",
      "metadata": {
        "colab": {
          "base_uri": "https://localhost:8080/",
          "height": 170
        },
        "id": "9oHF3mUoSmvO",
        "outputId": "90f53658-f773-4020-fe21-51289052b858"
      },
      "source": [
        "df"
      ],
      "execution_count": 56,
      "outputs": [
        {
          "output_type": "execute_result",
          "data": {
            "text/html": [
              "<div>\n",
              "<style scoped>\n",
              "    .dataframe tbody tr th:only-of-type {\n",
              "        vertical-align: middle;\n",
              "    }\n",
              "\n",
              "    .dataframe tbody tr th {\n",
              "        vertical-align: top;\n",
              "    }\n",
              "\n",
              "    .dataframe thead th {\n",
              "        text-align: right;\n",
              "    }\n",
              "</style>\n",
              "<table border=\"1\" class=\"dataframe\">\n",
              "  <thead>\n",
              "    <tr style=\"text-align: right;\">\n",
              "      <th></th>\n",
              "      <th>a</th>\n",
              "      <th>b</th>\n",
              "      <th>c</th>\n",
              "      <th>d</th>\n",
              "    </tr>\n",
              "  </thead>\n",
              "  <tbody>\n",
              "    <tr>\n",
              "      <th>0</th>\n",
              "      <td>0</td>\n",
              "      <td>1</td>\n",
              "      <td>2</td>\n",
              "      <td>3</td>\n",
              "    </tr>\n",
              "    <tr>\n",
              "      <th>1</th>\n",
              "      <td>4</td>\n",
              "      <td>5</td>\n",
              "      <td>6</td>\n",
              "      <td>7</td>\n",
              "    </tr>\n",
              "    <tr>\n",
              "      <th>2</th>\n",
              "      <td>8</td>\n",
              "      <td>9</td>\n",
              "      <td>10</td>\n",
              "      <td>11</td>\n",
              "    </tr>\n",
              "    <tr>\n",
              "      <th>3</th>\n",
              "      <td>12</td>\n",
              "      <td>13</td>\n",
              "      <td>14</td>\n",
              "      <td>15</td>\n",
              "    </tr>\n",
              "  </tbody>\n",
              "</table>\n",
              "</div>"
            ],
            "text/plain": [
              "    a   b   c   d\n",
              "0   0   1   2   3\n",
              "1   4   5   6   7\n",
              "2   8   9  10  11\n",
              "3  12  13  14  15"
            ]
          },
          "metadata": {
            "tags": []
          },
          "execution_count": 56
        }
      ]
    },
    {
      "cell_type": "code",
      "metadata": {
        "id": "LhXxzCC0SnMI"
      },
      "source": [
        "# if I do not know shhet names?\n",
        "wb = pd.ExcelFile(\"my_excel_file.xlsx\")"
      ],
      "execution_count": 57,
      "outputs": []
    },
    {
      "cell_type": "code",
      "metadata": {
        "colab": {
          "base_uri": "https://localhost:8080/"
        },
        "id": "XuxdA9-mSzkp",
        "outputId": "38924397-62d8-4eca-c179-3be01e530025"
      },
      "source": [
        "wb.sheet_names"
      ],
      "execution_count": 58,
      "outputs": [
        {
          "output_type": "execute_result",
          "data": {
            "text/plain": [
              "['First_Sheet']"
            ]
          },
          "metadata": {
            "tags": []
          },
          "execution_count": 58
        }
      ]
    },
    {
      "cell_type": "code",
      "metadata": {
        "id": "352Sp0mYS2LH"
      },
      "source": [
        "excel_sheet_dict = pd.read_excel(\"my_excel_file.xlsx\", sheet_name=None)"
      ],
      "execution_count": 59,
      "outputs": []
    },
    {
      "cell_type": "code",
      "metadata": {
        "colab": {
          "base_uri": "https://localhost:8080/"
        },
        "id": "pRMaX4aTTFXH",
        "outputId": "9c810ed7-b45c-436f-dc69-105d9691b347"
      },
      "source": [
        "type(excel_sheet_dict)"
      ],
      "execution_count": 60,
      "outputs": [
        {
          "output_type": "execute_result",
          "data": {
            "text/plain": [
              "dict"
            ]
          },
          "metadata": {
            "tags": []
          },
          "execution_count": 60
        }
      ]
    },
    {
      "cell_type": "code",
      "metadata": {
        "colab": {
          "base_uri": "https://localhost:8080/"
        },
        "id": "SJog-oBqTHLm",
        "outputId": "dad68536-671c-4044-f975-f37bed873aae"
      },
      "source": [
        "excel_sheet_dict.keys()"
      ],
      "execution_count": 61,
      "outputs": [
        {
          "output_type": "execute_result",
          "data": {
            "text/plain": [
              "dict_keys(['First_Sheet'])"
            ]
          },
          "metadata": {
            "tags": []
          },
          "execution_count": 61
        }
      ]
    },
    {
      "cell_type": "code",
      "metadata": {
        "colab": {
          "base_uri": "https://localhost:8080/",
          "height": 170
        },
        "id": "7MCgcA3bTJqw",
        "outputId": "c564d4c8-d6fb-4f8c-e42c-e330155988b6"
      },
      "source": [
        "excel_sheet_dict[\"First_Sheet\"]"
      ],
      "execution_count": 62,
      "outputs": [
        {
          "output_type": "execute_result",
          "data": {
            "text/html": [
              "<div>\n",
              "<style scoped>\n",
              "    .dataframe tbody tr th:only-of-type {\n",
              "        vertical-align: middle;\n",
              "    }\n",
              "\n",
              "    .dataframe tbody tr th {\n",
              "        vertical-align: top;\n",
              "    }\n",
              "\n",
              "    .dataframe thead th {\n",
              "        text-align: right;\n",
              "    }\n",
              "</style>\n",
              "<table border=\"1\" class=\"dataframe\">\n",
              "  <thead>\n",
              "    <tr style=\"text-align: right;\">\n",
              "      <th></th>\n",
              "      <th>a</th>\n",
              "      <th>b</th>\n",
              "      <th>c</th>\n",
              "      <th>d</th>\n",
              "    </tr>\n",
              "  </thead>\n",
              "  <tbody>\n",
              "    <tr>\n",
              "      <th>0</th>\n",
              "      <td>0</td>\n",
              "      <td>1</td>\n",
              "      <td>2</td>\n",
              "      <td>3</td>\n",
              "    </tr>\n",
              "    <tr>\n",
              "      <th>1</th>\n",
              "      <td>4</td>\n",
              "      <td>5</td>\n",
              "      <td>6</td>\n",
              "      <td>7</td>\n",
              "    </tr>\n",
              "    <tr>\n",
              "      <th>2</th>\n",
              "      <td>8</td>\n",
              "      <td>9</td>\n",
              "      <td>10</td>\n",
              "      <td>11</td>\n",
              "    </tr>\n",
              "    <tr>\n",
              "      <th>3</th>\n",
              "      <td>12</td>\n",
              "      <td>13</td>\n",
              "      <td>14</td>\n",
              "      <td>15</td>\n",
              "    </tr>\n",
              "  </tbody>\n",
              "</table>\n",
              "</div>"
            ],
            "text/plain": [
              "    a   b   c   d\n",
              "0   0   1   2   3\n",
              "1   4   5   6   7\n",
              "2   8   9  10  11\n",
              "3  12  13  14  15"
            ]
          },
          "metadata": {
            "tags": []
          },
          "execution_count": 62
        }
      ]
    },
    {
      "cell_type": "code",
      "metadata": {
        "colab": {
          "base_uri": "https://localhost:8080/"
        },
        "id": "MXe8phLLTNZP",
        "outputId": "528cf26d-32b6-4f66-fc3c-e8c75fbd6298"
      },
      "source": [
        "excel_sheet_dict"
      ],
      "execution_count": 63,
      "outputs": [
        {
          "output_type": "execute_result",
          "data": {
            "text/plain": [
              "{'First_Sheet':     a   b   c   d\n",
              " 0   0   1   2   3\n",
              " 1   4   5   6   7\n",
              " 2   8   9  10  11\n",
              " 3  12  13  14  15}"
            ]
          },
          "metadata": {
            "tags": []
          },
          "execution_count": 63
        }
      ]
    },
    {
      "cell_type": "code",
      "metadata": {
        "id": "BdrVw8jMTOrd"
      },
      "source": [
        "# how to write\n",
        "our_df = excel_sheet_dict[\"First_Sheet\"]\n",
        "\n"
      ],
      "execution_count": 64,
      "outputs": []
    },
    {
      "cell_type": "code",
      "metadata": {
        "id": "nNmPmdAfTbfc"
      },
      "source": [
        "our_df.to_excel(\"examplemın.xlsx\", sheet_name=\"First_Sheet\", index=False)"
      ],
      "execution_count": 65,
      "outputs": []
    },
    {
      "cell_type": "code",
      "metadata": {
        "colab": {
          "base_uri": "https://localhost:8080/"
        },
        "id": "J0v-8dzmTmCB",
        "outputId": "5f13f4e0-b03c-4c0a-8312-ebceee7d7967"
      },
      "source": [
        "ls"
      ],
      "execution_count": 66,
      "outputs": [
        {
          "output_type": "stream",
          "text": [
            "'\\content'$'\\n''ewfile.csv'   example.xlsx         \u001b[0m\u001b[01;34msample_data\u001b[0m/\n",
            " example.csv                  my_excel_file.xlsx   sample_table.hhtml\n",
            " examplemın.xlsx              newfile.csv          sample_table.html\n"
          ],
          "name": "stdout"
        }
      ]
    },
    {
      "cell_type": "markdown",
      "metadata": {
        "id": "NV5hYz2ST0hc"
      },
      "source": [
        "# Video 43. Pandas Input and Output - SQL Databases"
      ]
    },
    {
      "cell_type": "markdown",
      "metadata": {
        "id": "R_rxt2b9UkDf"
      },
      "source": [
        "Step number one is to figure out what sequel engine you're actually connecting to for just a few examples.\n",
        "\n",
        "This could be something like PostgreSQL, my sequel, Ms.SQL Server, Oracle databases, etc."
      ]
    },
    {
      "cell_type": "markdown",
      "metadata": {
        "id": "zboLp4kWU2rp"
      },
      "source": [
        "Step two is that then install the appropriate Python driver library, and often this just requires a quick Google search.\n",
        "\n",
        "So you would just Google search PostgreSQL plus Python and you would quickly find that the appropriate Python driver for that is Psycho PJI two or MySQL is PI.\n",
        "\n",
        "MySQL or a mythical server is pyodbc"
      ]
    },
    {
      "cell_type": "markdown",
      "metadata": {
        "id": "M_efQHehVRXi"
      },
      "source": [
        "Step three is where you use SQL Alchemy Library to actually connect your SQL database with the driver.\n",
        "\n",
        "https://docs.sqlalchemy.org/en/14/dialects/index.html"
      ]
    },
    {
      "cell_type": "markdown",
      "metadata": {
        "id": "2P4vIiqaWNfr"
      },
      "source": [
        "use that skill alchemy, driver connection with the pantless read skill method to essentially just pass in that connection as a parameter into the street school."
      ]
    },
    {
      "cell_type": "code",
      "metadata": {
        "colab": {
          "base_uri": "https://localhost:8080/"
        },
        "id": "5g8mwI4MTmg4",
        "outputId": "95835775-d06b-4117-818a-575a5362c87d"
      },
      "source": [
        "pip install sqlalchemy"
      ],
      "execution_count": 67,
      "outputs": [
        {
          "output_type": "stream",
          "text": [
            "Requirement already satisfied: sqlalchemy in /usr/local/lib/python3.7/dist-packages (1.4.18)\n",
            "Requirement already satisfied: importlib-metadata; python_version < \"3.8\" in /usr/local/lib/python3.7/dist-packages (from sqlalchemy) (4.5.0)\n",
            "Requirement already satisfied: greenlet!=0.4.17; python_version >= \"3\" in /usr/local/lib/python3.7/dist-packages (from sqlalchemy) (1.1.0)\n",
            "Requirement already satisfied: zipp>=0.5 in /usr/local/lib/python3.7/dist-packages (from importlib-metadata; python_version < \"3.8\"->sqlalchemy) (3.4.1)\n",
            "Requirement already satisfied: typing-extensions>=3.6.4; python_version < \"3.8\" in /usr/local/lib/python3.7/dist-packages (from importlib-metadata; python_version < \"3.8\"->sqlalchemy) (3.7.4.3)\n"
          ],
          "name": "stdout"
        }
      ]
    },
    {
      "cell_type": "code",
      "metadata": {
        "id": "T6AKX_koWwpN"
      },
      "source": [
        "from sqlalchemy import create_engine"
      ],
      "execution_count": 68,
      "outputs": []
    },
    {
      "cell_type": "code",
      "metadata": {
        "id": "U2dKHwbBXrZQ"
      },
      "source": [
        "temp_db = create_engine(\"sqlite:///:memory:\")"
      ],
      "execution_count": 69,
      "outputs": []
    },
    {
      "cell_type": "code",
      "metadata": {
        "id": "Adfb-i9FXwYf"
      },
      "source": [
        "df = pd.DataFrame(data=np.random.randint(low=0,high=100,size=(4,4)),columns=[\"a\",\"b\",\"c\",\"d\"])"
      ],
      "execution_count": 73,
      "outputs": []
    },
    {
      "cell_type": "code",
      "metadata": {
        "colab": {
          "base_uri": "https://localhost:8080/",
          "height": 170
        },
        "id": "ZHeebmgFZ4s2",
        "outputId": "d3798566-5c0d-4544-d277-081d4b3bb25d"
      },
      "source": [
        "df"
      ],
      "execution_count": 74,
      "outputs": [
        {
          "output_type": "execute_result",
          "data": {
            "text/html": [
              "<div>\n",
              "<style scoped>\n",
              "    .dataframe tbody tr th:only-of-type {\n",
              "        vertical-align: middle;\n",
              "    }\n",
              "\n",
              "    .dataframe tbody tr th {\n",
              "        vertical-align: top;\n",
              "    }\n",
              "\n",
              "    .dataframe thead th {\n",
              "        text-align: right;\n",
              "    }\n",
              "</style>\n",
              "<table border=\"1\" class=\"dataframe\">\n",
              "  <thead>\n",
              "    <tr style=\"text-align: right;\">\n",
              "      <th></th>\n",
              "      <th>a</th>\n",
              "      <th>b</th>\n",
              "      <th>c</th>\n",
              "      <th>d</th>\n",
              "    </tr>\n",
              "  </thead>\n",
              "  <tbody>\n",
              "    <tr>\n",
              "      <th>0</th>\n",
              "      <td>78</td>\n",
              "      <td>35</td>\n",
              "      <td>9</td>\n",
              "      <td>66</td>\n",
              "    </tr>\n",
              "    <tr>\n",
              "      <th>1</th>\n",
              "      <td>69</td>\n",
              "      <td>69</td>\n",
              "      <td>13</td>\n",
              "      <td>69</td>\n",
              "    </tr>\n",
              "    <tr>\n",
              "      <th>2</th>\n",
              "      <td>42</td>\n",
              "      <td>70</td>\n",
              "      <td>62</td>\n",
              "      <td>75</td>\n",
              "    </tr>\n",
              "    <tr>\n",
              "      <th>3</th>\n",
              "      <td>31</td>\n",
              "      <td>23</td>\n",
              "      <td>39</td>\n",
              "      <td>50</td>\n",
              "    </tr>\n",
              "  </tbody>\n",
              "</table>\n",
              "</div>"
            ],
            "text/plain": [
              "    a   b   c   d\n",
              "0  78  35   9  66\n",
              "1  69  69  13  69\n",
              "2  42  70  62  75\n",
              "3  31  23  39  50"
            ]
          },
          "metadata": {
            "tags": []
          },
          "execution_count": 74
        }
      ]
    },
    {
      "cell_type": "code",
      "metadata": {
        "id": "70yLsRINbZcg"
      },
      "source": [
        "df.to_sql(name=\"new_table\", con=temp_db)  #indexyeri burası"
      ],
      "execution_count": 76,
      "outputs": []
    },
    {
      "cell_type": "code",
      "metadata": {
        "colab": {
          "base_uri": "https://localhost:8080/",
          "height": 296
        },
        "id": "TWDQ2nFwbovI",
        "outputId": "967f193b-58d7-4f14-9fe4-bc291d0f5c17"
      },
      "source": [
        "df.to_sql(name=\"new_table\", con=temp_db) # ValueError: Table 'new_table' already exists."
      ],
      "execution_count": 77,
      "outputs": [
        {
          "output_type": "error",
          "ename": "ValueError",
          "evalue": "ignored",
          "traceback": [
            "\u001b[0;31m---------------------------------------------------------------------------\u001b[0m",
            "\u001b[0;31mValueError\u001b[0m                                Traceback (most recent call last)",
            "\u001b[0;32m<ipython-input-77-4e2723a3fc05>\u001b[0m in \u001b[0;36m<module>\u001b[0;34m()\u001b[0m\n\u001b[0;32m----> 1\u001b[0;31m \u001b[0mdf\u001b[0m\u001b[0;34m.\u001b[0m\u001b[0mto_sql\u001b[0m\u001b[0;34m(\u001b[0m\u001b[0mname\u001b[0m\u001b[0;34m=\u001b[0m\u001b[0;34m\"new_table\"\u001b[0m\u001b[0;34m,\u001b[0m \u001b[0mcon\u001b[0m\u001b[0;34m=\u001b[0m\u001b[0mtemp_db\u001b[0m\u001b[0;34m)\u001b[0m\u001b[0;34m\u001b[0m\u001b[0;34m\u001b[0m\u001b[0m\n\u001b[0m",
            "\u001b[0;32m/usr/local/lib/python3.7/dist-packages/pandas/core/generic.py\u001b[0m in \u001b[0;36mto_sql\u001b[0;34m(self, name, con, schema, if_exists, index, index_label, chunksize, dtype, method)\u001b[0m\n\u001b[1;32m   2613\u001b[0m             \u001b[0mchunksize\u001b[0m\u001b[0;34m=\u001b[0m\u001b[0mchunksize\u001b[0m\u001b[0;34m,\u001b[0m\u001b[0;34m\u001b[0m\u001b[0;34m\u001b[0m\u001b[0m\n\u001b[1;32m   2614\u001b[0m             \u001b[0mdtype\u001b[0m\u001b[0;34m=\u001b[0m\u001b[0mdtype\u001b[0m\u001b[0;34m,\u001b[0m\u001b[0;34m\u001b[0m\u001b[0;34m\u001b[0m\u001b[0m\n\u001b[0;32m-> 2615\u001b[0;31m             \u001b[0mmethod\u001b[0m\u001b[0;34m=\u001b[0m\u001b[0mmethod\u001b[0m\u001b[0;34m,\u001b[0m\u001b[0;34m\u001b[0m\u001b[0;34m\u001b[0m\u001b[0m\n\u001b[0m\u001b[1;32m   2616\u001b[0m         )\n\u001b[1;32m   2617\u001b[0m \u001b[0;34m\u001b[0m\u001b[0m\n",
            "\u001b[0;32m/usr/local/lib/python3.7/dist-packages/pandas/io/sql.py\u001b[0m in \u001b[0;36mto_sql\u001b[0;34m(frame, name, con, schema, if_exists, index, index_label, chunksize, dtype, method)\u001b[0m\n\u001b[1;32m    596\u001b[0m         \u001b[0mchunksize\u001b[0m\u001b[0;34m=\u001b[0m\u001b[0mchunksize\u001b[0m\u001b[0;34m,\u001b[0m\u001b[0;34m\u001b[0m\u001b[0;34m\u001b[0m\u001b[0m\n\u001b[1;32m    597\u001b[0m         \u001b[0mdtype\u001b[0m\u001b[0;34m=\u001b[0m\u001b[0mdtype\u001b[0m\u001b[0;34m,\u001b[0m\u001b[0;34m\u001b[0m\u001b[0;34m\u001b[0m\u001b[0m\n\u001b[0;32m--> 598\u001b[0;31m         \u001b[0mmethod\u001b[0m\u001b[0;34m=\u001b[0m\u001b[0mmethod\u001b[0m\u001b[0;34m,\u001b[0m\u001b[0;34m\u001b[0m\u001b[0;34m\u001b[0m\u001b[0m\n\u001b[0m\u001b[1;32m    599\u001b[0m     )\n\u001b[1;32m    600\u001b[0m \u001b[0;34m\u001b[0m\u001b[0m\n",
            "\u001b[0;32m/usr/local/lib/python3.7/dist-packages/pandas/io/sql.py\u001b[0m in \u001b[0;36mto_sql\u001b[0;34m(self, frame, name, if_exists, index, index_label, schema, chunksize, dtype, method)\u001b[0m\n\u001b[1;32m   1391\u001b[0m             \u001b[0mdtype\u001b[0m\u001b[0;34m=\u001b[0m\u001b[0mdtype\u001b[0m\u001b[0;34m,\u001b[0m\u001b[0;34m\u001b[0m\u001b[0;34m\u001b[0m\u001b[0m\n\u001b[1;32m   1392\u001b[0m         )\n\u001b[0;32m-> 1393\u001b[0;31m         \u001b[0mtable\u001b[0m\u001b[0;34m.\u001b[0m\u001b[0mcreate\u001b[0m\u001b[0;34m(\u001b[0m\u001b[0;34m)\u001b[0m\u001b[0;34m\u001b[0m\u001b[0;34m\u001b[0m\u001b[0m\n\u001b[0m\u001b[1;32m   1394\u001b[0m \u001b[0;34m\u001b[0m\u001b[0m\n\u001b[1;32m   1395\u001b[0m         \u001b[0;32mfrom\u001b[0m \u001b[0msqlalchemy\u001b[0m \u001b[0;32mimport\u001b[0m \u001b[0mexc\u001b[0m\u001b[0;34m\u001b[0m\u001b[0;34m\u001b[0m\u001b[0m\n",
            "\u001b[0;32m/usr/local/lib/python3.7/dist-packages/pandas/io/sql.py\u001b[0m in \u001b[0;36mcreate\u001b[0;34m(self)\u001b[0m\n\u001b[1;32m    721\u001b[0m         \u001b[0;32mif\u001b[0m \u001b[0mself\u001b[0m\u001b[0;34m.\u001b[0m\u001b[0mexists\u001b[0m\u001b[0;34m(\u001b[0m\u001b[0;34m)\u001b[0m\u001b[0;34m:\u001b[0m\u001b[0;34m\u001b[0m\u001b[0;34m\u001b[0m\u001b[0m\n\u001b[1;32m    722\u001b[0m             \u001b[0;32mif\u001b[0m \u001b[0mself\u001b[0m\u001b[0;34m.\u001b[0m\u001b[0mif_exists\u001b[0m \u001b[0;34m==\u001b[0m \u001b[0;34m\"fail\"\u001b[0m\u001b[0;34m:\u001b[0m\u001b[0;34m\u001b[0m\u001b[0;34m\u001b[0m\u001b[0m\n\u001b[0;32m--> 723\u001b[0;31m                 \u001b[0;32mraise\u001b[0m \u001b[0mValueError\u001b[0m\u001b[0;34m(\u001b[0m\u001b[0;34mf\"Table '{self.name}' already exists.\"\u001b[0m\u001b[0;34m)\u001b[0m\u001b[0;34m\u001b[0m\u001b[0;34m\u001b[0m\u001b[0m\n\u001b[0m\u001b[1;32m    724\u001b[0m             \u001b[0;32melif\u001b[0m \u001b[0mself\u001b[0m\u001b[0;34m.\u001b[0m\u001b[0mif_exists\u001b[0m \u001b[0;34m==\u001b[0m \u001b[0;34m\"replace\"\u001b[0m\u001b[0;34m:\u001b[0m\u001b[0;34m\u001b[0m\u001b[0;34m\u001b[0m\u001b[0m\n\u001b[1;32m    725\u001b[0m                 \u001b[0mself\u001b[0m\u001b[0;34m.\u001b[0m\u001b[0mpd_sql\u001b[0m\u001b[0;34m.\u001b[0m\u001b[0mdrop_table\u001b[0m\u001b[0;34m(\u001b[0m\u001b[0mself\u001b[0m\u001b[0;34m.\u001b[0m\u001b[0mname\u001b[0m\u001b[0;34m,\u001b[0m \u001b[0mself\u001b[0m\u001b[0;34m.\u001b[0m\u001b[0mschema\u001b[0m\u001b[0;34m)\u001b[0m\u001b[0;34m\u001b[0m\u001b[0;34m\u001b[0m\u001b[0m\n",
            "\u001b[0;31mValueError\u001b[0m: Table 'new_table' already exists."
          ]
        }
      ]
    },
    {
      "cell_type": "code",
      "metadata": {
        "id": "vWitQ7qDbu6y"
      },
      "source": [
        "new_df = pd.read_sql(sql=\"new_table\",con=temp_db)"
      ],
      "execution_count": 78,
      "outputs": []
    },
    {
      "cell_type": "code",
      "metadata": {
        "colab": {
          "base_uri": "https://localhost:8080/",
          "height": 170
        },
        "id": "OrGTiCgtcSuy",
        "outputId": "2482ce80-a454-469e-e52b-b64ebf0322a6"
      },
      "source": [
        "new_df #iki üstte index = False yapılırsa index çıkmazdı "
      ],
      "execution_count": 79,
      "outputs": [
        {
          "output_type": "execute_result",
          "data": {
            "text/html": [
              "<div>\n",
              "<style scoped>\n",
              "    .dataframe tbody tr th:only-of-type {\n",
              "        vertical-align: middle;\n",
              "    }\n",
              "\n",
              "    .dataframe tbody tr th {\n",
              "        vertical-align: top;\n",
              "    }\n",
              "\n",
              "    .dataframe thead th {\n",
              "        text-align: right;\n",
              "    }\n",
              "</style>\n",
              "<table border=\"1\" class=\"dataframe\">\n",
              "  <thead>\n",
              "    <tr style=\"text-align: right;\">\n",
              "      <th></th>\n",
              "      <th>index</th>\n",
              "      <th>a</th>\n",
              "      <th>b</th>\n",
              "      <th>c</th>\n",
              "      <th>d</th>\n",
              "    </tr>\n",
              "  </thead>\n",
              "  <tbody>\n",
              "    <tr>\n",
              "      <th>0</th>\n",
              "      <td>0</td>\n",
              "      <td>78</td>\n",
              "      <td>35</td>\n",
              "      <td>9</td>\n",
              "      <td>66</td>\n",
              "    </tr>\n",
              "    <tr>\n",
              "      <th>1</th>\n",
              "      <td>1</td>\n",
              "      <td>69</td>\n",
              "      <td>69</td>\n",
              "      <td>13</td>\n",
              "      <td>69</td>\n",
              "    </tr>\n",
              "    <tr>\n",
              "      <th>2</th>\n",
              "      <td>2</td>\n",
              "      <td>42</td>\n",
              "      <td>70</td>\n",
              "      <td>62</td>\n",
              "      <td>75</td>\n",
              "    </tr>\n",
              "    <tr>\n",
              "      <th>3</th>\n",
              "      <td>3</td>\n",
              "      <td>31</td>\n",
              "      <td>23</td>\n",
              "      <td>39</td>\n",
              "      <td>50</td>\n",
              "    </tr>\n",
              "  </tbody>\n",
              "</table>\n",
              "</div>"
            ],
            "text/plain": [
              "   index   a   b   c   d\n",
              "0      0  78  35   9  66\n",
              "1      1  69  69  13  69\n",
              "2      2  42  70  62  75\n",
              "3      3  31  23  39  50"
            ]
          },
          "metadata": {
            "tags": []
          },
          "execution_count": 79
        }
      ]
    },
    {
      "cell_type": "code",
      "metadata": {
        "colab": {
          "base_uri": "https://localhost:8080/",
          "height": 170
        },
        "id": "PPBIFEWecTV6",
        "outputId": "98f967b6-3b97-4f49-e238-a96a3fd076a0"
      },
      "source": [
        "result = pd.read_sql_query(sql=\"SELECT a ,c FROM new_table\",con=temp_db) #sql formatı çalıştırıldı\n",
        "result"
      ],
      "execution_count": 80,
      "outputs": [
        {
          "output_type": "execute_result",
          "data": {
            "text/html": [
              "<div>\n",
              "<style scoped>\n",
              "    .dataframe tbody tr th:only-of-type {\n",
              "        vertical-align: middle;\n",
              "    }\n",
              "\n",
              "    .dataframe tbody tr th {\n",
              "        vertical-align: top;\n",
              "    }\n",
              "\n",
              "    .dataframe thead th {\n",
              "        text-align: right;\n",
              "    }\n",
              "</style>\n",
              "<table border=\"1\" class=\"dataframe\">\n",
              "  <thead>\n",
              "    <tr style=\"text-align: right;\">\n",
              "      <th></th>\n",
              "      <th>a</th>\n",
              "      <th>c</th>\n",
              "    </tr>\n",
              "  </thead>\n",
              "  <tbody>\n",
              "    <tr>\n",
              "      <th>0</th>\n",
              "      <td>78</td>\n",
              "      <td>9</td>\n",
              "    </tr>\n",
              "    <tr>\n",
              "      <th>1</th>\n",
              "      <td>69</td>\n",
              "      <td>13</td>\n",
              "    </tr>\n",
              "    <tr>\n",
              "      <th>2</th>\n",
              "      <td>42</td>\n",
              "      <td>62</td>\n",
              "    </tr>\n",
              "    <tr>\n",
              "      <th>3</th>\n",
              "      <td>31</td>\n",
              "      <td>39</td>\n",
              "    </tr>\n",
              "  </tbody>\n",
              "</table>\n",
              "</div>"
            ],
            "text/plain": [
              "    a   c\n",
              "0  78   9\n",
              "1  69  13\n",
              "2  42  62\n",
              "3  31  39"
            ]
          },
          "metadata": {
            "tags": []
          },
          "execution_count": 80
        }
      ]
    },
    {
      "cell_type": "markdown",
      "metadata": {
        "id": "RvRcgFO-dJcr"
      },
      "source": [
        "# Video 44. Pandas Pivot Tables"
      ]
    },
    {
      "cell_type": "markdown",
      "metadata": {
        "id": "SN0razxieohc"
      },
      "source": [
        "Does it actually need a pivot method call in order to achieve that data frame?\n",
        "\n",
        "So, again, what do you want that resulting pivot to look like and that resulting data frame?\n",
        "\n",
        "And does that actually answer your question?"
      ]
    },
    {
      "cell_type": "code",
      "metadata": {
        "colab": {
          "base_uri": "https://localhost:8080/",
          "height": 562
        },
        "id": "V9T7ddKec6WO",
        "outputId": "f235679a-1722-4096-9270-6b6c9889e9cb"
      },
      "source": [
        "df = pd.read_csv(\"Sales_Funnel_CRM.csv\")\n",
        "df"
      ],
      "execution_count": 83,
      "outputs": [
        {
          "output_type": "execute_result",
          "data": {
            "text/html": [
              "<div>\n",
              "<style scoped>\n",
              "    .dataframe tbody tr th:only-of-type {\n",
              "        vertical-align: middle;\n",
              "    }\n",
              "\n",
              "    .dataframe tbody tr th {\n",
              "        vertical-align: top;\n",
              "    }\n",
              "\n",
              "    .dataframe thead th {\n",
              "        text-align: right;\n",
              "    }\n",
              "</style>\n",
              "<table border=\"1\" class=\"dataframe\">\n",
              "  <thead>\n",
              "    <tr style=\"text-align: right;\">\n",
              "      <th></th>\n",
              "      <th>Account Number</th>\n",
              "      <th>Company</th>\n",
              "      <th>Contact</th>\n",
              "      <th>Account Manager</th>\n",
              "      <th>Product</th>\n",
              "      <th>Licenses</th>\n",
              "      <th>Sale Price</th>\n",
              "      <th>Status</th>\n",
              "    </tr>\n",
              "  </thead>\n",
              "  <tbody>\n",
              "    <tr>\n",
              "      <th>0</th>\n",
              "      <td>2123398</td>\n",
              "      <td>Google</td>\n",
              "      <td>Larry Pager</td>\n",
              "      <td>Edward Thorp</td>\n",
              "      <td>Analytics</td>\n",
              "      <td>150</td>\n",
              "      <td>2100000</td>\n",
              "      <td>Presented</td>\n",
              "    </tr>\n",
              "    <tr>\n",
              "      <th>1</th>\n",
              "      <td>2123398</td>\n",
              "      <td>Google</td>\n",
              "      <td>Larry Pager</td>\n",
              "      <td>Edward Thorp</td>\n",
              "      <td>Prediction</td>\n",
              "      <td>150</td>\n",
              "      <td>700000</td>\n",
              "      <td>Presented</td>\n",
              "    </tr>\n",
              "    <tr>\n",
              "      <th>2</th>\n",
              "      <td>2123398</td>\n",
              "      <td>Google</td>\n",
              "      <td>Larry Pager</td>\n",
              "      <td>Edward Thorp</td>\n",
              "      <td>Tracking</td>\n",
              "      <td>300</td>\n",
              "      <td>350000</td>\n",
              "      <td>Under Review</td>\n",
              "    </tr>\n",
              "    <tr>\n",
              "      <th>3</th>\n",
              "      <td>2192650</td>\n",
              "      <td>BOBO</td>\n",
              "      <td>Larry Pager</td>\n",
              "      <td>Edward Thorp</td>\n",
              "      <td>Analytics</td>\n",
              "      <td>150</td>\n",
              "      <td>2450000</td>\n",
              "      <td>Lost</td>\n",
              "    </tr>\n",
              "    <tr>\n",
              "      <th>4</th>\n",
              "      <td>420496</td>\n",
              "      <td>IKEA</td>\n",
              "      <td>Elon Tusk</td>\n",
              "      <td>Edward Thorp</td>\n",
              "      <td>Analytics</td>\n",
              "      <td>300</td>\n",
              "      <td>4550000</td>\n",
              "      <td>Won</td>\n",
              "    </tr>\n",
              "    <tr>\n",
              "      <th>5</th>\n",
              "      <td>636685</td>\n",
              "      <td>Tesla Inc.</td>\n",
              "      <td>Elon Tusk</td>\n",
              "      <td>Edward Thorp</td>\n",
              "      <td>Analytics</td>\n",
              "      <td>300</td>\n",
              "      <td>2800000</td>\n",
              "      <td>Under Review</td>\n",
              "    </tr>\n",
              "    <tr>\n",
              "      <th>6</th>\n",
              "      <td>636685</td>\n",
              "      <td>Tesla Inc.</td>\n",
              "      <td>Elon Tusk</td>\n",
              "      <td>Edward Thorp</td>\n",
              "      <td>Prediction</td>\n",
              "      <td>150</td>\n",
              "      <td>700000</td>\n",
              "      <td>Presented</td>\n",
              "    </tr>\n",
              "    <tr>\n",
              "      <th>7</th>\n",
              "      <td>1216870</td>\n",
              "      <td>Microsoft</td>\n",
              "      <td>Will Grates</td>\n",
              "      <td>Edward Thorp</td>\n",
              "      <td>Tracking</td>\n",
              "      <td>300</td>\n",
              "      <td>350000</td>\n",
              "      <td>Under Review</td>\n",
              "    </tr>\n",
              "    <tr>\n",
              "      <th>8</th>\n",
              "      <td>2200450</td>\n",
              "      <td>Walmart</td>\n",
              "      <td>Will Grates</td>\n",
              "      <td>Edward Thorp</td>\n",
              "      <td>Analytics</td>\n",
              "      <td>150</td>\n",
              "      <td>2450000</td>\n",
              "      <td>Lost</td>\n",
              "    </tr>\n",
              "    <tr>\n",
              "      <th>9</th>\n",
              "      <td>405886</td>\n",
              "      <td>Apple</td>\n",
              "      <td>Cindy Phoner</td>\n",
              "      <td>Claude Shannon</td>\n",
              "      <td>Analytics</td>\n",
              "      <td>300</td>\n",
              "      <td>4550000</td>\n",
              "      <td>Won</td>\n",
              "    </tr>\n",
              "    <tr>\n",
              "      <th>10</th>\n",
              "      <td>470248</td>\n",
              "      <td>Exxon Mobile</td>\n",
              "      <td>Cindy Phoner</td>\n",
              "      <td>Claude Shannon</td>\n",
              "      <td>Analytics</td>\n",
              "      <td>150</td>\n",
              "      <td>2100000</td>\n",
              "      <td>Presented</td>\n",
              "    </tr>\n",
              "    <tr>\n",
              "      <th>11</th>\n",
              "      <td>698032</td>\n",
              "      <td>ATT</td>\n",
              "      <td>Cindy Phoner</td>\n",
              "      <td>Claude Shannon</td>\n",
              "      <td>Tracking</td>\n",
              "      <td>150</td>\n",
              "      <td>350000</td>\n",
              "      <td>Under Review</td>\n",
              "    </tr>\n",
              "    <tr>\n",
              "      <th>12</th>\n",
              "      <td>698032</td>\n",
              "      <td>ATT</td>\n",
              "      <td>Cindy Phoner</td>\n",
              "      <td>Claude Shannon</td>\n",
              "      <td>Prediction</td>\n",
              "      <td>150</td>\n",
              "      <td>700000</td>\n",
              "      <td>Presented</td>\n",
              "    </tr>\n",
              "    <tr>\n",
              "      <th>13</th>\n",
              "      <td>902797</td>\n",
              "      <td>CVS Health</td>\n",
              "      <td>Emma Gordian</td>\n",
              "      <td>Claude Shannon</td>\n",
              "      <td>Tracking</td>\n",
              "      <td>450</td>\n",
              "      <td>490000</td>\n",
              "      <td>Won</td>\n",
              "    </tr>\n",
              "    <tr>\n",
              "      <th>14</th>\n",
              "      <td>2046943</td>\n",
              "      <td>Salesforce</td>\n",
              "      <td>Emma Gordian</td>\n",
              "      <td>Claude Shannon</td>\n",
              "      <td>Analytics</td>\n",
              "      <td>750</td>\n",
              "      <td>7000000</td>\n",
              "      <td>Won</td>\n",
              "    </tr>\n",
              "    <tr>\n",
              "      <th>15</th>\n",
              "      <td>2169499</td>\n",
              "      <td>Cisco</td>\n",
              "      <td>Emma Gordian</td>\n",
              "      <td>Claude Shannon</td>\n",
              "      <td>Analytics</td>\n",
              "      <td>300</td>\n",
              "      <td>4550000</td>\n",
              "      <td>Lost</td>\n",
              "    </tr>\n",
              "    <tr>\n",
              "      <th>16</th>\n",
              "      <td>2169499</td>\n",
              "      <td>Cisco</td>\n",
              "      <td>Emma Gordian</td>\n",
              "      <td>Claude Shannon</td>\n",
              "      <td>GPS Positioning</td>\n",
              "      <td>300</td>\n",
              "      <td>350000</td>\n",
              "      <td>Presented</td>\n",
              "    </tr>\n",
              "  </tbody>\n",
              "</table>\n",
              "</div>"
            ],
            "text/plain": [
              "    Account Number       Company  ... Sale Price        Status\n",
              "0          2123398        Google  ...    2100000     Presented\n",
              "1          2123398        Google  ...     700000     Presented\n",
              "2          2123398        Google  ...     350000  Under Review\n",
              "3          2192650          BOBO  ...    2450000          Lost\n",
              "4           420496          IKEA  ...    4550000           Won\n",
              "5           636685    Tesla Inc.  ...    2800000  Under Review\n",
              "6           636685    Tesla Inc.  ...     700000     Presented\n",
              "7          1216870     Microsoft  ...     350000  Under Review\n",
              "8          2200450       Walmart  ...    2450000          Lost\n",
              "9           405886         Apple  ...    4550000           Won\n",
              "10          470248  Exxon Mobile  ...    2100000     Presented\n",
              "11          698032           ATT  ...     350000  Under Review\n",
              "12          698032           ATT  ...     700000     Presented\n",
              "13          902797    CVS Health  ...     490000           Won\n",
              "14         2046943    Salesforce  ...    7000000           Won\n",
              "15         2169499         Cisco  ...    4550000          Lost\n",
              "16         2169499         Cisco  ...     350000     Presented\n",
              "\n",
              "[17 rows x 8 columns]"
            ]
          },
          "metadata": {
            "tags": []
          },
          "execution_count": 83
        }
      ]
    },
    {
      "cell_type": "code",
      "metadata": {
        "colab": {
          "base_uri": "https://localhost:8080/"
        },
        "id": "oYPUa3YyfBHO",
        "outputId": "5fdedfe1-526a-4b3e-dfe3-bfb072b0b348"
      },
      "source": [
        "help(pd.pivot)"
      ],
      "execution_count": 84,
      "outputs": [
        {
          "output_type": "stream",
          "text": [
            "Help on function pivot in module pandas.core.reshape.pivot:\n",
            "\n",
            "pivot(data: 'DataFrame', index: Union[Hashable, NoneType, Sequence[Union[Hashable, NoneType]]] = None, columns: Union[Hashable, NoneType, Sequence[Union[Hashable, NoneType]]] = None, values: Union[Hashable, NoneType, Sequence[Union[Hashable, NoneType]]] = None) -> 'DataFrame'\n",
            "    Return reshaped DataFrame organized by given index / column values.\n",
            "    \n",
            "    Reshape data (produce a \"pivot\" table) based on column values. Uses\n",
            "    unique values from specified `index` / `columns` to form axes of the\n",
            "    resulting DataFrame. This function does not support data\n",
            "    aggregation, multiple values will result in a MultiIndex in the\n",
            "    columns. See the :ref:`User Guide <reshaping>` for more on reshaping.\n",
            "    \n",
            "    Parameters\n",
            "    ----------\n",
            "    data : DataFrame\n",
            "    index : str or object or a list of str, optional\n",
            "        Column to use to make new frame's index. If None, uses\n",
            "        existing index.\n",
            "    \n",
            "        .. versionchanged:: 1.1.0\n",
            "           Also accept list of index names.\n",
            "    \n",
            "    columns : str or object or a list of str\n",
            "        Column to use to make new frame's columns.\n",
            "    \n",
            "        .. versionchanged:: 1.1.0\n",
            "           Also accept list of columns names.\n",
            "    \n",
            "    values : str, object or a list of the previous, optional\n",
            "        Column(s) to use for populating new frame's values. If not\n",
            "        specified, all remaining columns will be used and the result will\n",
            "        have hierarchically indexed columns.\n",
            "    \n",
            "        .. versionchanged:: 0.23.0\n",
            "           Also accept list of column names.\n",
            "    \n",
            "    Returns\n",
            "    -------\n",
            "    DataFrame\n",
            "        Returns reshaped DataFrame.\n",
            "    \n",
            "    Raises\n",
            "    ------\n",
            "    ValueError:\n",
            "        When there are any `index`, `columns` combinations with multiple\n",
            "        values. `DataFrame.pivot_table` when you need to aggregate.\n",
            "    \n",
            "    See Also\n",
            "    --------\n",
            "    DataFrame.pivot_table : Generalization of pivot that can handle\n",
            "        duplicate values for one index/column pair.\n",
            "    DataFrame.unstack : Pivot based on the index values instead of a\n",
            "        column.\n",
            "    \n",
            "    Notes\n",
            "    -----\n",
            "    For finer-tuned control, see hierarchical indexing documentation along\n",
            "    with the related stack/unstack methods.\n",
            "    \n",
            "    Examples\n",
            "    --------\n",
            "    >>> df = pd.DataFrame({'foo': ['one', 'one', 'one', 'two', 'two',\n",
            "    ...                            'two'],\n",
            "    ...                    'bar': ['A', 'B', 'C', 'A', 'B', 'C'],\n",
            "    ...                    'baz': [1, 2, 3, 4, 5, 6],\n",
            "    ...                    'zoo': ['x', 'y', 'z', 'q', 'w', 't']})\n",
            "    >>> df\n",
            "        foo   bar  baz  zoo\n",
            "    0   one   A    1    x\n",
            "    1   one   B    2    y\n",
            "    2   one   C    3    z\n",
            "    3   two   A    4    q\n",
            "    4   two   B    5    w\n",
            "    5   two   C    6    t\n",
            "    \n",
            "    >>> df.pivot(index='foo', columns='bar', values='baz')\n",
            "    bar  A   B   C\n",
            "    foo\n",
            "    one  1   2   3\n",
            "    two  4   5   6\n",
            "    \n",
            "    >>> df.pivot(index='foo', columns='bar')['baz']\n",
            "    bar  A   B   C\n",
            "    foo\n",
            "    one  1   2   3\n",
            "    two  4   5   6\n",
            "    \n",
            "    >>> df.pivot(index='foo', columns='bar', values=['baz', 'zoo'])\n",
            "          baz       zoo\n",
            "    bar   A  B  C   A  B  C\n",
            "    foo\n",
            "    one   1  2  3   x  y  z\n",
            "    two   4  5  6   q  w  t\n",
            "    \n",
            "    You could also assign a list of column names or a list of index names.\n",
            "    \n",
            "    >>> df = pd.DataFrame({\n",
            "    ...        \"lev1\": [1, 1, 1, 2, 2, 2],\n",
            "    ...        \"lev2\": [1, 1, 2, 1, 1, 2],\n",
            "    ...        \"lev3\": [1, 2, 1, 2, 1, 2],\n",
            "    ...        \"lev4\": [1, 2, 3, 4, 5, 6],\n",
            "    ...        \"values\": [0, 1, 2, 3, 4, 5]})\n",
            "    >>> df\n",
            "        lev1 lev2 lev3 lev4 values\n",
            "    0   1    1    1    1    0\n",
            "    1   1    1    2    2    1\n",
            "    2   1    2    1    3    2\n",
            "    3   2    1    2    4    3\n",
            "    4   2    1    1    5    4\n",
            "    5   2    2    2    6    5\n",
            "    \n",
            "    >>> df.pivot(index=\"lev1\", columns=[\"lev2\", \"lev3\"],values=\"values\")\n",
            "    lev2    1         2\n",
            "    lev3    1    2    1    2\n",
            "    lev1\n",
            "    1     0.0  1.0  2.0  NaN\n",
            "    2     4.0  3.0  NaN  5.0\n",
            "    \n",
            "    >>> df.pivot(index=[\"lev1\", \"lev2\"], columns=[\"lev3\"],values=\"values\")\n",
            "          lev3    1    2\n",
            "    lev1  lev2\n",
            "       1     1  0.0  1.0\n",
            "             2  2.0  NaN\n",
            "       2     1  4.0  3.0\n",
            "             2  NaN  5.0\n",
            "    \n",
            "    A ValueError is raised if there are any duplicates.\n",
            "    \n",
            "    >>> df = pd.DataFrame({\"foo\": ['one', 'one', 'two', 'two'],\n",
            "    ...                    \"bar\": ['A', 'A', 'B', 'C'],\n",
            "    ...                    \"baz\": [1, 2, 3, 4]})\n",
            "    >>> df\n",
            "       foo bar  baz\n",
            "    0  one   A    1\n",
            "    1  one   A    2\n",
            "    2  two   B    3\n",
            "    3  two   C    4\n",
            "    \n",
            "    Notice that the first two rows are the same for our `index`\n",
            "    and `columns` arguments.\n",
            "    \n",
            "    >>> df.pivot(index='foo', columns='bar', values='baz')\n",
            "    Traceback (most recent call last):\n",
            "       ...\n",
            "    ValueError: Index contains duplicate entries, cannot reshape\n",
            "\n"
          ],
          "name": "stdout"
        }
      ]
    },
    {
      "cell_type": "code",
      "metadata": {
        "id": "l3aQRlsRfLRe"
      },
      "source": [
        "licenses = df[[\"Company\",\"Product\",\"Licenses\"]]"
      ],
      "execution_count": 87,
      "outputs": []
    },
    {
      "cell_type": "code",
      "metadata": {
        "colab": {
          "base_uri": "https://localhost:8080/",
          "height": 562
        },
        "id": "OPKkdqRkfget",
        "outputId": "afebc186-414c-40e7-ddd1-b86342b794ee"
      },
      "source": [
        "licenses"
      ],
      "execution_count": 88,
      "outputs": [
        {
          "output_type": "execute_result",
          "data": {
            "text/html": [
              "<div>\n",
              "<style scoped>\n",
              "    .dataframe tbody tr th:only-of-type {\n",
              "        vertical-align: middle;\n",
              "    }\n",
              "\n",
              "    .dataframe tbody tr th {\n",
              "        vertical-align: top;\n",
              "    }\n",
              "\n",
              "    .dataframe thead th {\n",
              "        text-align: right;\n",
              "    }\n",
              "</style>\n",
              "<table border=\"1\" class=\"dataframe\">\n",
              "  <thead>\n",
              "    <tr style=\"text-align: right;\">\n",
              "      <th></th>\n",
              "      <th>Company</th>\n",
              "      <th>Product</th>\n",
              "      <th>Licenses</th>\n",
              "    </tr>\n",
              "  </thead>\n",
              "  <tbody>\n",
              "    <tr>\n",
              "      <th>0</th>\n",
              "      <td>Google</td>\n",
              "      <td>Analytics</td>\n",
              "      <td>150</td>\n",
              "    </tr>\n",
              "    <tr>\n",
              "      <th>1</th>\n",
              "      <td>Google</td>\n",
              "      <td>Prediction</td>\n",
              "      <td>150</td>\n",
              "    </tr>\n",
              "    <tr>\n",
              "      <th>2</th>\n",
              "      <td>Google</td>\n",
              "      <td>Tracking</td>\n",
              "      <td>300</td>\n",
              "    </tr>\n",
              "    <tr>\n",
              "      <th>3</th>\n",
              "      <td>BOBO</td>\n",
              "      <td>Analytics</td>\n",
              "      <td>150</td>\n",
              "    </tr>\n",
              "    <tr>\n",
              "      <th>4</th>\n",
              "      <td>IKEA</td>\n",
              "      <td>Analytics</td>\n",
              "      <td>300</td>\n",
              "    </tr>\n",
              "    <tr>\n",
              "      <th>5</th>\n",
              "      <td>Tesla Inc.</td>\n",
              "      <td>Analytics</td>\n",
              "      <td>300</td>\n",
              "    </tr>\n",
              "    <tr>\n",
              "      <th>6</th>\n",
              "      <td>Tesla Inc.</td>\n",
              "      <td>Prediction</td>\n",
              "      <td>150</td>\n",
              "    </tr>\n",
              "    <tr>\n",
              "      <th>7</th>\n",
              "      <td>Microsoft</td>\n",
              "      <td>Tracking</td>\n",
              "      <td>300</td>\n",
              "    </tr>\n",
              "    <tr>\n",
              "      <th>8</th>\n",
              "      <td>Walmart</td>\n",
              "      <td>Analytics</td>\n",
              "      <td>150</td>\n",
              "    </tr>\n",
              "    <tr>\n",
              "      <th>9</th>\n",
              "      <td>Apple</td>\n",
              "      <td>Analytics</td>\n",
              "      <td>300</td>\n",
              "    </tr>\n",
              "    <tr>\n",
              "      <th>10</th>\n",
              "      <td>Exxon Mobile</td>\n",
              "      <td>Analytics</td>\n",
              "      <td>150</td>\n",
              "    </tr>\n",
              "    <tr>\n",
              "      <th>11</th>\n",
              "      <td>ATT</td>\n",
              "      <td>Tracking</td>\n",
              "      <td>150</td>\n",
              "    </tr>\n",
              "    <tr>\n",
              "      <th>12</th>\n",
              "      <td>ATT</td>\n",
              "      <td>Prediction</td>\n",
              "      <td>150</td>\n",
              "    </tr>\n",
              "    <tr>\n",
              "      <th>13</th>\n",
              "      <td>CVS Health</td>\n",
              "      <td>Tracking</td>\n",
              "      <td>450</td>\n",
              "    </tr>\n",
              "    <tr>\n",
              "      <th>14</th>\n",
              "      <td>Salesforce</td>\n",
              "      <td>Analytics</td>\n",
              "      <td>750</td>\n",
              "    </tr>\n",
              "    <tr>\n",
              "      <th>15</th>\n",
              "      <td>Cisco</td>\n",
              "      <td>Analytics</td>\n",
              "      <td>300</td>\n",
              "    </tr>\n",
              "    <tr>\n",
              "      <th>16</th>\n",
              "      <td>Cisco</td>\n",
              "      <td>GPS Positioning</td>\n",
              "      <td>300</td>\n",
              "    </tr>\n",
              "  </tbody>\n",
              "</table>\n",
              "</div>"
            ],
            "text/plain": [
              "         Company          Product  Licenses\n",
              "0         Google        Analytics       150\n",
              "1         Google       Prediction       150\n",
              "2         Google         Tracking       300\n",
              "3           BOBO        Analytics       150\n",
              "4           IKEA        Analytics       300\n",
              "5     Tesla Inc.        Analytics       300\n",
              "6     Tesla Inc.       Prediction       150\n",
              "7      Microsoft         Tracking       300\n",
              "8        Walmart        Analytics       150\n",
              "9          Apple        Analytics       300\n",
              "10  Exxon Mobile        Analytics       150\n",
              "11           ATT         Tracking       150\n",
              "12           ATT       Prediction       150\n",
              "13    CVS Health         Tracking       450\n",
              "14    Salesforce        Analytics       750\n",
              "15         Cisco        Analytics       300\n",
              "16         Cisco  GPS Positioning       300"
            ]
          },
          "metadata": {
            "tags": []
          },
          "execution_count": 88
        }
      ]
    },
    {
      "cell_type": "code",
      "metadata": {
        "colab": {
          "base_uri": "https://localhost:8080/",
          "height": 441
        },
        "id": "CRipVaC9fhF5",
        "outputId": "f55154bf-b324-4339-d051-be986c519583"
      },
      "source": [
        "pd.pivot(data=licenses, index=\"Company\",columns=\"Product\",values=\"Licenses\")"
      ],
      "execution_count": 89,
      "outputs": [
        {
          "output_type": "execute_result",
          "data": {
            "text/html": [
              "<div>\n",
              "<style scoped>\n",
              "    .dataframe tbody tr th:only-of-type {\n",
              "        vertical-align: middle;\n",
              "    }\n",
              "\n",
              "    .dataframe tbody tr th {\n",
              "        vertical-align: top;\n",
              "    }\n",
              "\n",
              "    .dataframe thead th {\n",
              "        text-align: right;\n",
              "    }\n",
              "</style>\n",
              "<table border=\"1\" class=\"dataframe\">\n",
              "  <thead>\n",
              "    <tr style=\"text-align: right;\">\n",
              "      <th>Product</th>\n",
              "      <th>Analytics</th>\n",
              "      <th>GPS Positioning</th>\n",
              "      <th>Prediction</th>\n",
              "      <th>Tracking</th>\n",
              "    </tr>\n",
              "    <tr>\n",
              "      <th>Company</th>\n",
              "      <th></th>\n",
              "      <th></th>\n",
              "      <th></th>\n",
              "      <th></th>\n",
              "    </tr>\n",
              "  </thead>\n",
              "  <tbody>\n",
              "    <tr>\n",
              "      <th>Google</th>\n",
              "      <td>150.0</td>\n",
              "      <td>NaN</td>\n",
              "      <td>150.0</td>\n",
              "      <td>300.0</td>\n",
              "    </tr>\n",
              "    <tr>\n",
              "      <th>ATT</th>\n",
              "      <td>NaN</td>\n",
              "      <td>NaN</td>\n",
              "      <td>150.0</td>\n",
              "      <td>150.0</td>\n",
              "    </tr>\n",
              "    <tr>\n",
              "      <th>Apple</th>\n",
              "      <td>300.0</td>\n",
              "      <td>NaN</td>\n",
              "      <td>NaN</td>\n",
              "      <td>NaN</td>\n",
              "    </tr>\n",
              "    <tr>\n",
              "      <th>BOBO</th>\n",
              "      <td>150.0</td>\n",
              "      <td>NaN</td>\n",
              "      <td>NaN</td>\n",
              "      <td>NaN</td>\n",
              "    </tr>\n",
              "    <tr>\n",
              "      <th>CVS Health</th>\n",
              "      <td>NaN</td>\n",
              "      <td>NaN</td>\n",
              "      <td>NaN</td>\n",
              "      <td>450.0</td>\n",
              "    </tr>\n",
              "    <tr>\n",
              "      <th>Cisco</th>\n",
              "      <td>300.0</td>\n",
              "      <td>300.0</td>\n",
              "      <td>NaN</td>\n",
              "      <td>NaN</td>\n",
              "    </tr>\n",
              "    <tr>\n",
              "      <th>Exxon Mobile</th>\n",
              "      <td>150.0</td>\n",
              "      <td>NaN</td>\n",
              "      <td>NaN</td>\n",
              "      <td>NaN</td>\n",
              "    </tr>\n",
              "    <tr>\n",
              "      <th>IKEA</th>\n",
              "      <td>300.0</td>\n",
              "      <td>NaN</td>\n",
              "      <td>NaN</td>\n",
              "      <td>NaN</td>\n",
              "    </tr>\n",
              "    <tr>\n",
              "      <th>Microsoft</th>\n",
              "      <td>NaN</td>\n",
              "      <td>NaN</td>\n",
              "      <td>NaN</td>\n",
              "      <td>300.0</td>\n",
              "    </tr>\n",
              "    <tr>\n",
              "      <th>Salesforce</th>\n",
              "      <td>750.0</td>\n",
              "      <td>NaN</td>\n",
              "      <td>NaN</td>\n",
              "      <td>NaN</td>\n",
              "    </tr>\n",
              "    <tr>\n",
              "      <th>Tesla Inc.</th>\n",
              "      <td>300.0</td>\n",
              "      <td>NaN</td>\n",
              "      <td>150.0</td>\n",
              "      <td>NaN</td>\n",
              "    </tr>\n",
              "    <tr>\n",
              "      <th>Walmart</th>\n",
              "      <td>150.0</td>\n",
              "      <td>NaN</td>\n",
              "      <td>NaN</td>\n",
              "      <td>NaN</td>\n",
              "    </tr>\n",
              "  </tbody>\n",
              "</table>\n",
              "</div>"
            ],
            "text/plain": [
              "Product       Analytics  GPS Positioning  Prediction  Tracking\n",
              "Company                                                       \n",
              " Google           150.0              NaN       150.0     300.0\n",
              "ATT                 NaN              NaN       150.0     150.0\n",
              "Apple             300.0              NaN         NaN       NaN\n",
              "BOBO              150.0              NaN         NaN       NaN\n",
              "CVS Health          NaN              NaN         NaN     450.0\n",
              "Cisco             300.0            300.0         NaN       NaN\n",
              "Exxon Mobile      150.0              NaN         NaN       NaN\n",
              "IKEA              300.0              NaN         NaN       NaN\n",
              "Microsoft           NaN              NaN         NaN     300.0\n",
              "Salesforce        750.0              NaN         NaN       NaN\n",
              "Tesla Inc.        300.0              NaN       150.0       NaN\n",
              "Walmart           150.0              NaN         NaN       NaN"
            ]
          },
          "metadata": {
            "tags": []
          },
          "execution_count": 89
        }
      ]
    },
    {
      "cell_type": "code",
      "metadata": {
        "colab": {
          "base_uri": "https://localhost:8080/",
          "height": 200
        },
        "id": "-cLt3Oerf1Sd",
        "outputId": "2d72536c-149f-4585-9e23-3f40e9e0e09a"
      },
      "source": [
        "df.head()"
      ],
      "execution_count": 92,
      "outputs": [
        {
          "output_type": "execute_result",
          "data": {
            "text/html": [
              "<div>\n",
              "<style scoped>\n",
              "    .dataframe tbody tr th:only-of-type {\n",
              "        vertical-align: middle;\n",
              "    }\n",
              "\n",
              "    .dataframe tbody tr th {\n",
              "        vertical-align: top;\n",
              "    }\n",
              "\n",
              "    .dataframe thead th {\n",
              "        text-align: right;\n",
              "    }\n",
              "</style>\n",
              "<table border=\"1\" class=\"dataframe\">\n",
              "  <thead>\n",
              "    <tr style=\"text-align: right;\">\n",
              "      <th></th>\n",
              "      <th>Account Number</th>\n",
              "      <th>Company</th>\n",
              "      <th>Contact</th>\n",
              "      <th>Account Manager</th>\n",
              "      <th>Product</th>\n",
              "      <th>Licenses</th>\n",
              "      <th>Sale Price</th>\n",
              "      <th>Status</th>\n",
              "    </tr>\n",
              "  </thead>\n",
              "  <tbody>\n",
              "    <tr>\n",
              "      <th>0</th>\n",
              "      <td>2123398</td>\n",
              "      <td>Google</td>\n",
              "      <td>Larry Pager</td>\n",
              "      <td>Edward Thorp</td>\n",
              "      <td>Analytics</td>\n",
              "      <td>150</td>\n",
              "      <td>2100000</td>\n",
              "      <td>Presented</td>\n",
              "    </tr>\n",
              "    <tr>\n",
              "      <th>1</th>\n",
              "      <td>2123398</td>\n",
              "      <td>Google</td>\n",
              "      <td>Larry Pager</td>\n",
              "      <td>Edward Thorp</td>\n",
              "      <td>Prediction</td>\n",
              "      <td>150</td>\n",
              "      <td>700000</td>\n",
              "      <td>Presented</td>\n",
              "    </tr>\n",
              "    <tr>\n",
              "      <th>2</th>\n",
              "      <td>2123398</td>\n",
              "      <td>Google</td>\n",
              "      <td>Larry Pager</td>\n",
              "      <td>Edward Thorp</td>\n",
              "      <td>Tracking</td>\n",
              "      <td>300</td>\n",
              "      <td>350000</td>\n",
              "      <td>Under Review</td>\n",
              "    </tr>\n",
              "    <tr>\n",
              "      <th>3</th>\n",
              "      <td>2192650</td>\n",
              "      <td>BOBO</td>\n",
              "      <td>Larry Pager</td>\n",
              "      <td>Edward Thorp</td>\n",
              "      <td>Analytics</td>\n",
              "      <td>150</td>\n",
              "      <td>2450000</td>\n",
              "      <td>Lost</td>\n",
              "    </tr>\n",
              "    <tr>\n",
              "      <th>4</th>\n",
              "      <td>420496</td>\n",
              "      <td>IKEA</td>\n",
              "      <td>Elon Tusk</td>\n",
              "      <td>Edward Thorp</td>\n",
              "      <td>Analytics</td>\n",
              "      <td>300</td>\n",
              "      <td>4550000</td>\n",
              "      <td>Won</td>\n",
              "    </tr>\n",
              "  </tbody>\n",
              "</table>\n",
              "</div>"
            ],
            "text/plain": [
              "   Account Number  Company      Contact  ... Licenses Sale Price        Status\n",
              "0         2123398   Google  Larry Pager  ...      150    2100000     Presented\n",
              "1         2123398   Google  Larry Pager  ...      150     700000     Presented\n",
              "2         2123398   Google  Larry Pager  ...      300     350000  Under Review\n",
              "3         2192650     BOBO  Larry Pager  ...      150    2450000          Lost\n",
              "4          420496     IKEA    Elon Tusk  ...      300    4550000           Won\n",
              "\n",
              "[5 rows x 8 columns]"
            ]
          },
          "metadata": {
            "tags": []
          },
          "execution_count": 92
        }
      ]
    },
    {
      "cell_type": "code",
      "metadata": {
        "colab": {
          "base_uri": "https://localhost:8080/",
          "height": 441
        },
        "id": "3K1N2VA2gO8y",
        "outputId": "fb3c0666-fb0e-4d17-c28e-85441388ef2d"
      },
      "source": [
        "pd.pivot_table(df,index=\"Company\", aggfunc=\"sum\")"
      ],
      "execution_count": 93,
      "outputs": [
        {
          "output_type": "execute_result",
          "data": {
            "text/html": [
              "<div>\n",
              "<style scoped>\n",
              "    .dataframe tbody tr th:only-of-type {\n",
              "        vertical-align: middle;\n",
              "    }\n",
              "\n",
              "    .dataframe tbody tr th {\n",
              "        vertical-align: top;\n",
              "    }\n",
              "\n",
              "    .dataframe thead th {\n",
              "        text-align: right;\n",
              "    }\n",
              "</style>\n",
              "<table border=\"1\" class=\"dataframe\">\n",
              "  <thead>\n",
              "    <tr style=\"text-align: right;\">\n",
              "      <th></th>\n",
              "      <th>Account Number</th>\n",
              "      <th>Licenses</th>\n",
              "      <th>Sale Price</th>\n",
              "    </tr>\n",
              "    <tr>\n",
              "      <th>Company</th>\n",
              "      <th></th>\n",
              "      <th></th>\n",
              "      <th></th>\n",
              "    </tr>\n",
              "  </thead>\n",
              "  <tbody>\n",
              "    <tr>\n",
              "      <th>Google</th>\n",
              "      <td>6370194</td>\n",
              "      <td>600</td>\n",
              "      <td>3150000</td>\n",
              "    </tr>\n",
              "    <tr>\n",
              "      <th>ATT</th>\n",
              "      <td>1396064</td>\n",
              "      <td>300</td>\n",
              "      <td>1050000</td>\n",
              "    </tr>\n",
              "    <tr>\n",
              "      <th>Apple</th>\n",
              "      <td>405886</td>\n",
              "      <td>300</td>\n",
              "      <td>4550000</td>\n",
              "    </tr>\n",
              "    <tr>\n",
              "      <th>BOBO</th>\n",
              "      <td>2192650</td>\n",
              "      <td>150</td>\n",
              "      <td>2450000</td>\n",
              "    </tr>\n",
              "    <tr>\n",
              "      <th>CVS Health</th>\n",
              "      <td>902797</td>\n",
              "      <td>450</td>\n",
              "      <td>490000</td>\n",
              "    </tr>\n",
              "    <tr>\n",
              "      <th>Cisco</th>\n",
              "      <td>4338998</td>\n",
              "      <td>600</td>\n",
              "      <td>4900000</td>\n",
              "    </tr>\n",
              "    <tr>\n",
              "      <th>Exxon Mobile</th>\n",
              "      <td>470248</td>\n",
              "      <td>150</td>\n",
              "      <td>2100000</td>\n",
              "    </tr>\n",
              "    <tr>\n",
              "      <th>IKEA</th>\n",
              "      <td>420496</td>\n",
              "      <td>300</td>\n",
              "      <td>4550000</td>\n",
              "    </tr>\n",
              "    <tr>\n",
              "      <th>Microsoft</th>\n",
              "      <td>1216870</td>\n",
              "      <td>300</td>\n",
              "      <td>350000</td>\n",
              "    </tr>\n",
              "    <tr>\n",
              "      <th>Salesforce</th>\n",
              "      <td>2046943</td>\n",
              "      <td>750</td>\n",
              "      <td>7000000</td>\n",
              "    </tr>\n",
              "    <tr>\n",
              "      <th>Tesla Inc.</th>\n",
              "      <td>1273370</td>\n",
              "      <td>450</td>\n",
              "      <td>3500000</td>\n",
              "    </tr>\n",
              "    <tr>\n",
              "      <th>Walmart</th>\n",
              "      <td>2200450</td>\n",
              "      <td>150</td>\n",
              "      <td>2450000</td>\n",
              "    </tr>\n",
              "  </tbody>\n",
              "</table>\n",
              "</div>"
            ],
            "text/plain": [
              "              Account Number  Licenses  Sale Price\n",
              "Company                                           \n",
              " Google              6370194       600     3150000\n",
              "ATT                  1396064       300     1050000\n",
              "Apple                 405886       300     4550000\n",
              "BOBO                 2192650       150     2450000\n",
              "CVS Health            902797       450      490000\n",
              "Cisco                4338998       600     4900000\n",
              "Exxon Mobile          470248       150     2100000\n",
              "IKEA                  420496       300     4550000\n",
              "Microsoft            1216870       300      350000\n",
              "Salesforce           2046943       750     7000000\n",
              "Tesla Inc.           1273370       450     3500000\n",
              "Walmart              2200450       150     2450000"
            ]
          },
          "metadata": {
            "tags": []
          },
          "execution_count": 93
        }
      ]
    },
    {
      "cell_type": "code",
      "metadata": {
        "colab": {
          "base_uri": "https://localhost:8080/",
          "height": 441
        },
        "id": "huuiz46vgmFM",
        "outputId": "8ca31499-3f88-4e2b-afe0-b3288db3a619"
      },
      "source": [
        "df.groupby(\"Company\").sum()  # the same result with the above code"
      ],
      "execution_count": 94,
      "outputs": [
        {
          "output_type": "execute_result",
          "data": {
            "text/html": [
              "<div>\n",
              "<style scoped>\n",
              "    .dataframe tbody tr th:only-of-type {\n",
              "        vertical-align: middle;\n",
              "    }\n",
              "\n",
              "    .dataframe tbody tr th {\n",
              "        vertical-align: top;\n",
              "    }\n",
              "\n",
              "    .dataframe thead th {\n",
              "        text-align: right;\n",
              "    }\n",
              "</style>\n",
              "<table border=\"1\" class=\"dataframe\">\n",
              "  <thead>\n",
              "    <tr style=\"text-align: right;\">\n",
              "      <th></th>\n",
              "      <th>Account Number</th>\n",
              "      <th>Licenses</th>\n",
              "      <th>Sale Price</th>\n",
              "    </tr>\n",
              "    <tr>\n",
              "      <th>Company</th>\n",
              "      <th></th>\n",
              "      <th></th>\n",
              "      <th></th>\n",
              "    </tr>\n",
              "  </thead>\n",
              "  <tbody>\n",
              "    <tr>\n",
              "      <th>Google</th>\n",
              "      <td>6370194</td>\n",
              "      <td>600</td>\n",
              "      <td>3150000</td>\n",
              "    </tr>\n",
              "    <tr>\n",
              "      <th>ATT</th>\n",
              "      <td>1396064</td>\n",
              "      <td>300</td>\n",
              "      <td>1050000</td>\n",
              "    </tr>\n",
              "    <tr>\n",
              "      <th>Apple</th>\n",
              "      <td>405886</td>\n",
              "      <td>300</td>\n",
              "      <td>4550000</td>\n",
              "    </tr>\n",
              "    <tr>\n",
              "      <th>BOBO</th>\n",
              "      <td>2192650</td>\n",
              "      <td>150</td>\n",
              "      <td>2450000</td>\n",
              "    </tr>\n",
              "    <tr>\n",
              "      <th>CVS Health</th>\n",
              "      <td>902797</td>\n",
              "      <td>450</td>\n",
              "      <td>490000</td>\n",
              "    </tr>\n",
              "    <tr>\n",
              "      <th>Cisco</th>\n",
              "      <td>4338998</td>\n",
              "      <td>600</td>\n",
              "      <td>4900000</td>\n",
              "    </tr>\n",
              "    <tr>\n",
              "      <th>Exxon Mobile</th>\n",
              "      <td>470248</td>\n",
              "      <td>150</td>\n",
              "      <td>2100000</td>\n",
              "    </tr>\n",
              "    <tr>\n",
              "      <th>IKEA</th>\n",
              "      <td>420496</td>\n",
              "      <td>300</td>\n",
              "      <td>4550000</td>\n",
              "    </tr>\n",
              "    <tr>\n",
              "      <th>Microsoft</th>\n",
              "      <td>1216870</td>\n",
              "      <td>300</td>\n",
              "      <td>350000</td>\n",
              "    </tr>\n",
              "    <tr>\n",
              "      <th>Salesforce</th>\n",
              "      <td>2046943</td>\n",
              "      <td>750</td>\n",
              "      <td>7000000</td>\n",
              "    </tr>\n",
              "    <tr>\n",
              "      <th>Tesla Inc.</th>\n",
              "      <td>1273370</td>\n",
              "      <td>450</td>\n",
              "      <td>3500000</td>\n",
              "    </tr>\n",
              "    <tr>\n",
              "      <th>Walmart</th>\n",
              "      <td>2200450</td>\n",
              "      <td>150</td>\n",
              "      <td>2450000</td>\n",
              "    </tr>\n",
              "  </tbody>\n",
              "</table>\n",
              "</div>"
            ],
            "text/plain": [
              "              Account Number  Licenses  Sale Price\n",
              "Company                                           \n",
              " Google              6370194       600     3150000\n",
              "ATT                  1396064       300     1050000\n",
              "Apple                 405886       300     4550000\n",
              "BOBO                 2192650       150     2450000\n",
              "CVS Health            902797       450      490000\n",
              "Cisco                4338998       600     4900000\n",
              "Exxon Mobile          470248       150     2100000\n",
              "IKEA                  420496       300     4550000\n",
              "Microsoft            1216870       300      350000\n",
              "Salesforce           2046943       750     7000000\n",
              "Tesla Inc.           1273370       450     3500000\n",
              "Walmart              2200450       150     2450000"
            ]
          },
          "metadata": {
            "tags": []
          },
          "execution_count": 94
        }
      ]
    },
    {
      "cell_type": "code",
      "metadata": {
        "colab": {
          "base_uri": "https://localhost:8080/",
          "height": 441
        },
        "id": "fdlrZG-ggw3k",
        "outputId": "fa399456-7284-4201-bd81-9b20dc28be4a"
      },
      "source": [
        "pd.pivot_table(df,index=\"Company\", aggfunc=\"sum\",values=[\"Licenses\",\"Sale Price\"])"
      ],
      "execution_count": 95,
      "outputs": [
        {
          "output_type": "execute_result",
          "data": {
            "text/html": [
              "<div>\n",
              "<style scoped>\n",
              "    .dataframe tbody tr th:only-of-type {\n",
              "        vertical-align: middle;\n",
              "    }\n",
              "\n",
              "    .dataframe tbody tr th {\n",
              "        vertical-align: top;\n",
              "    }\n",
              "\n",
              "    .dataframe thead th {\n",
              "        text-align: right;\n",
              "    }\n",
              "</style>\n",
              "<table border=\"1\" class=\"dataframe\">\n",
              "  <thead>\n",
              "    <tr style=\"text-align: right;\">\n",
              "      <th></th>\n",
              "      <th>Licenses</th>\n",
              "      <th>Sale Price</th>\n",
              "    </tr>\n",
              "    <tr>\n",
              "      <th>Company</th>\n",
              "      <th></th>\n",
              "      <th></th>\n",
              "    </tr>\n",
              "  </thead>\n",
              "  <tbody>\n",
              "    <tr>\n",
              "      <th>Google</th>\n",
              "      <td>600</td>\n",
              "      <td>3150000</td>\n",
              "    </tr>\n",
              "    <tr>\n",
              "      <th>ATT</th>\n",
              "      <td>300</td>\n",
              "      <td>1050000</td>\n",
              "    </tr>\n",
              "    <tr>\n",
              "      <th>Apple</th>\n",
              "      <td>300</td>\n",
              "      <td>4550000</td>\n",
              "    </tr>\n",
              "    <tr>\n",
              "      <th>BOBO</th>\n",
              "      <td>150</td>\n",
              "      <td>2450000</td>\n",
              "    </tr>\n",
              "    <tr>\n",
              "      <th>CVS Health</th>\n",
              "      <td>450</td>\n",
              "      <td>490000</td>\n",
              "    </tr>\n",
              "    <tr>\n",
              "      <th>Cisco</th>\n",
              "      <td>600</td>\n",
              "      <td>4900000</td>\n",
              "    </tr>\n",
              "    <tr>\n",
              "      <th>Exxon Mobile</th>\n",
              "      <td>150</td>\n",
              "      <td>2100000</td>\n",
              "    </tr>\n",
              "    <tr>\n",
              "      <th>IKEA</th>\n",
              "      <td>300</td>\n",
              "      <td>4550000</td>\n",
              "    </tr>\n",
              "    <tr>\n",
              "      <th>Microsoft</th>\n",
              "      <td>300</td>\n",
              "      <td>350000</td>\n",
              "    </tr>\n",
              "    <tr>\n",
              "      <th>Salesforce</th>\n",
              "      <td>750</td>\n",
              "      <td>7000000</td>\n",
              "    </tr>\n",
              "    <tr>\n",
              "      <th>Tesla Inc.</th>\n",
              "      <td>450</td>\n",
              "      <td>3500000</td>\n",
              "    </tr>\n",
              "    <tr>\n",
              "      <th>Walmart</th>\n",
              "      <td>150</td>\n",
              "      <td>2450000</td>\n",
              "    </tr>\n",
              "  </tbody>\n",
              "</table>\n",
              "</div>"
            ],
            "text/plain": [
              "              Licenses  Sale Price\n",
              "Company                           \n",
              " Google            600     3150000\n",
              "ATT                300     1050000\n",
              "Apple              300     4550000\n",
              "BOBO               150     2450000\n",
              "CVS Health         450      490000\n",
              "Cisco              600     4900000\n",
              "Exxon Mobile       150     2100000\n",
              "IKEA               300     4550000\n",
              "Microsoft          300      350000\n",
              "Salesforce         750     7000000\n",
              "Tesla Inc.         450     3500000\n",
              "Walmart            150     2450000"
            ]
          },
          "metadata": {
            "tags": []
          },
          "execution_count": 95
        }
      ]
    },
    {
      "cell_type": "code",
      "metadata": {
        "colab": {
          "base_uri": "https://localhost:8080/",
          "height": 230
        },
        "id": "1FitaADQhJiP",
        "outputId": "dcb0b520-90ff-4988-a10a-a2d447e5ef5f"
      },
      "source": [
        "pd.pivot_table(df,index=[\"Account Manager\",\"Contact\"],values=[\"Sale Price\"],aggfunc=\"sum\")"
      ],
      "execution_count": 97,
      "outputs": [
        {
          "output_type": "execute_result",
          "data": {
            "text/html": [
              "<div>\n",
              "<style scoped>\n",
              "    .dataframe tbody tr th:only-of-type {\n",
              "        vertical-align: middle;\n",
              "    }\n",
              "\n",
              "    .dataframe tbody tr th {\n",
              "        vertical-align: top;\n",
              "    }\n",
              "\n",
              "    .dataframe thead th {\n",
              "        text-align: right;\n",
              "    }\n",
              "</style>\n",
              "<table border=\"1\" class=\"dataframe\">\n",
              "  <thead>\n",
              "    <tr style=\"text-align: right;\">\n",
              "      <th></th>\n",
              "      <th></th>\n",
              "      <th>Sale Price</th>\n",
              "    </tr>\n",
              "    <tr>\n",
              "      <th>Account Manager</th>\n",
              "      <th>Contact</th>\n",
              "      <th></th>\n",
              "    </tr>\n",
              "  </thead>\n",
              "  <tbody>\n",
              "    <tr>\n",
              "      <th rowspan=\"2\" valign=\"top\">Claude Shannon</th>\n",
              "      <th>Cindy Phoner</th>\n",
              "      <td>7700000</td>\n",
              "    </tr>\n",
              "    <tr>\n",
              "      <th>Emma Gordian</th>\n",
              "      <td>12390000</td>\n",
              "    </tr>\n",
              "    <tr>\n",
              "      <th rowspan=\"3\" valign=\"top\">Edward Thorp</th>\n",
              "      <th>Elon Tusk</th>\n",
              "      <td>8050000</td>\n",
              "    </tr>\n",
              "    <tr>\n",
              "      <th>Larry Pager</th>\n",
              "      <td>5600000</td>\n",
              "    </tr>\n",
              "    <tr>\n",
              "      <th>Will Grates</th>\n",
              "      <td>2800000</td>\n",
              "    </tr>\n",
              "  </tbody>\n",
              "</table>\n",
              "</div>"
            ],
            "text/plain": [
              "                              Sale Price\n",
              "Account Manager Contact                 \n",
              "Claude Shannon  Cindy Phoner     7700000\n",
              "                Emma Gordian    12390000\n",
              "Edward Thorp    Elon Tusk        8050000\n",
              "                Larry Pager      5600000\n",
              "                Will Grates      2800000"
            ]
          },
          "metadata": {
            "tags": []
          },
          "execution_count": 97
        }
      ]
    },
    {
      "cell_type": "code",
      "metadata": {
        "colab": {
          "base_uri": "https://localhost:8080/",
          "height": 260
        },
        "id": "kGvEQSQiht3V",
        "outputId": "0455c424-7064-42d1-d556-030f9c32fcd1"
      },
      "source": [
        "pd.pivot_table(df,index=[\"Account Manager\",\"Contact\"],values=[\"Sale Price\"],columns=[\"Product\"], aggfunc=\"sum\")"
      ],
      "execution_count": 99,
      "outputs": [
        {
          "output_type": "execute_result",
          "data": {
            "text/html": [
              "<div>\n",
              "<style scoped>\n",
              "    .dataframe tbody tr th:only-of-type {\n",
              "        vertical-align: middle;\n",
              "    }\n",
              "\n",
              "    .dataframe tbody tr th {\n",
              "        vertical-align: top;\n",
              "    }\n",
              "\n",
              "    .dataframe thead tr th {\n",
              "        text-align: left;\n",
              "    }\n",
              "\n",
              "    .dataframe thead tr:last-of-type th {\n",
              "        text-align: right;\n",
              "    }\n",
              "</style>\n",
              "<table border=\"1\" class=\"dataframe\">\n",
              "  <thead>\n",
              "    <tr>\n",
              "      <th></th>\n",
              "      <th></th>\n",
              "      <th colspan=\"4\" halign=\"left\">Sale Price</th>\n",
              "    </tr>\n",
              "    <tr>\n",
              "      <th></th>\n",
              "      <th>Product</th>\n",
              "      <th>Analytics</th>\n",
              "      <th>GPS Positioning</th>\n",
              "      <th>Prediction</th>\n",
              "      <th>Tracking</th>\n",
              "    </tr>\n",
              "    <tr>\n",
              "      <th>Account Manager</th>\n",
              "      <th>Contact</th>\n",
              "      <th></th>\n",
              "      <th></th>\n",
              "      <th></th>\n",
              "      <th></th>\n",
              "    </tr>\n",
              "  </thead>\n",
              "  <tbody>\n",
              "    <tr>\n",
              "      <th rowspan=\"2\" valign=\"top\">Claude Shannon</th>\n",
              "      <th>Cindy Phoner</th>\n",
              "      <td>6650000.0</td>\n",
              "      <td>NaN</td>\n",
              "      <td>700000.0</td>\n",
              "      <td>350000.0</td>\n",
              "    </tr>\n",
              "    <tr>\n",
              "      <th>Emma Gordian</th>\n",
              "      <td>11550000.0</td>\n",
              "      <td>350000.0</td>\n",
              "      <td>NaN</td>\n",
              "      <td>490000.0</td>\n",
              "    </tr>\n",
              "    <tr>\n",
              "      <th rowspan=\"3\" valign=\"top\">Edward Thorp</th>\n",
              "      <th>Elon Tusk</th>\n",
              "      <td>7350000.0</td>\n",
              "      <td>NaN</td>\n",
              "      <td>700000.0</td>\n",
              "      <td>NaN</td>\n",
              "    </tr>\n",
              "    <tr>\n",
              "      <th>Larry Pager</th>\n",
              "      <td>4550000.0</td>\n",
              "      <td>NaN</td>\n",
              "      <td>700000.0</td>\n",
              "      <td>350000.0</td>\n",
              "    </tr>\n",
              "    <tr>\n",
              "      <th>Will Grates</th>\n",
              "      <td>2450000.0</td>\n",
              "      <td>NaN</td>\n",
              "      <td>NaN</td>\n",
              "      <td>350000.0</td>\n",
              "    </tr>\n",
              "  </tbody>\n",
              "</table>\n",
              "</div>"
            ],
            "text/plain": [
              "                              Sale Price                                     \n",
              "Product                        Analytics GPS Positioning Prediction  Tracking\n",
              "Account Manager Contact                                                      \n",
              "Claude Shannon  Cindy Phoner   6650000.0             NaN   700000.0  350000.0\n",
              "                Emma Gordian  11550000.0        350000.0        NaN  490000.0\n",
              "Edward Thorp    Elon Tusk      7350000.0             NaN   700000.0       NaN\n",
              "                Larry Pager    4550000.0             NaN   700000.0  350000.0\n",
              "                Will Grates    2450000.0             NaN        NaN  350000.0"
            ]
          },
          "metadata": {
            "tags": []
          },
          "execution_count": 99
        }
      ]
    },
    {
      "cell_type": "code",
      "metadata": {
        "colab": {
          "base_uri": "https://localhost:8080/",
          "height": 260
        },
        "id": "o0GQq3hDiLFW",
        "outputId": "2cc833ac-9fbb-463d-a782-cc628b637717"
      },
      "source": [
        "pd.pivot_table(df,index=[\"Account Manager\",\"Contact\"],values=[\"Sale Price\"],columns=[\"Product\"], aggfunc=\"sum\", fill_value=0)"
      ],
      "execution_count": 100,
      "outputs": [
        {
          "output_type": "execute_result",
          "data": {
            "text/html": [
              "<div>\n",
              "<style scoped>\n",
              "    .dataframe tbody tr th:only-of-type {\n",
              "        vertical-align: middle;\n",
              "    }\n",
              "\n",
              "    .dataframe tbody tr th {\n",
              "        vertical-align: top;\n",
              "    }\n",
              "\n",
              "    .dataframe thead tr th {\n",
              "        text-align: left;\n",
              "    }\n",
              "\n",
              "    .dataframe thead tr:last-of-type th {\n",
              "        text-align: right;\n",
              "    }\n",
              "</style>\n",
              "<table border=\"1\" class=\"dataframe\">\n",
              "  <thead>\n",
              "    <tr>\n",
              "      <th></th>\n",
              "      <th></th>\n",
              "      <th colspan=\"4\" halign=\"left\">Sale Price</th>\n",
              "    </tr>\n",
              "    <tr>\n",
              "      <th></th>\n",
              "      <th>Product</th>\n",
              "      <th>Analytics</th>\n",
              "      <th>GPS Positioning</th>\n",
              "      <th>Prediction</th>\n",
              "      <th>Tracking</th>\n",
              "    </tr>\n",
              "    <tr>\n",
              "      <th>Account Manager</th>\n",
              "      <th>Contact</th>\n",
              "      <th></th>\n",
              "      <th></th>\n",
              "      <th></th>\n",
              "      <th></th>\n",
              "    </tr>\n",
              "  </thead>\n",
              "  <tbody>\n",
              "    <tr>\n",
              "      <th rowspan=\"2\" valign=\"top\">Claude Shannon</th>\n",
              "      <th>Cindy Phoner</th>\n",
              "      <td>6650000</td>\n",
              "      <td>0</td>\n",
              "      <td>700000</td>\n",
              "      <td>350000</td>\n",
              "    </tr>\n",
              "    <tr>\n",
              "      <th>Emma Gordian</th>\n",
              "      <td>11550000</td>\n",
              "      <td>350000</td>\n",
              "      <td>0</td>\n",
              "      <td>490000</td>\n",
              "    </tr>\n",
              "    <tr>\n",
              "      <th rowspan=\"3\" valign=\"top\">Edward Thorp</th>\n",
              "      <th>Elon Tusk</th>\n",
              "      <td>7350000</td>\n",
              "      <td>0</td>\n",
              "      <td>700000</td>\n",
              "      <td>0</td>\n",
              "    </tr>\n",
              "    <tr>\n",
              "      <th>Larry Pager</th>\n",
              "      <td>4550000</td>\n",
              "      <td>0</td>\n",
              "      <td>700000</td>\n",
              "      <td>350000</td>\n",
              "    </tr>\n",
              "    <tr>\n",
              "      <th>Will Grates</th>\n",
              "      <td>2450000</td>\n",
              "      <td>0</td>\n",
              "      <td>0</td>\n",
              "      <td>350000</td>\n",
              "    </tr>\n",
              "  </tbody>\n",
              "</table>\n",
              "</div>"
            ],
            "text/plain": [
              "                             Sale Price                                    \n",
              "Product                       Analytics GPS Positioning Prediction Tracking\n",
              "Account Manager Contact                                                    \n",
              "Claude Shannon  Cindy Phoner    6650000               0     700000   350000\n",
              "                Emma Gordian   11550000          350000          0   490000\n",
              "Edward Thorp    Elon Tusk       7350000               0     700000        0\n",
              "                Larry Pager     4550000               0     700000   350000\n",
              "                Will Grates     2450000               0          0   350000"
            ]
          },
          "metadata": {
            "tags": []
          },
          "execution_count": 100
        }
      ]
    },
    {
      "cell_type": "code",
      "metadata": {
        "colab": {
          "base_uri": "https://localhost:8080/",
          "height": 290
        },
        "id": "j6_Ak5ESiiWy",
        "outputId": "7fbf909c-6376-40a9-d112-0faf4c1c25ba"
      },
      "source": [
        "pd.pivot_table(df,index=[\"Account Manager\",\"Contact\"],values=[\"Sale Price\"],columns=[\"Product\"], aggfunc=[np.sum], fill_value=0)"
      ],
      "execution_count": 101,
      "outputs": [
        {
          "output_type": "execute_result",
          "data": {
            "text/html": [
              "<div>\n",
              "<style scoped>\n",
              "    .dataframe tbody tr th:only-of-type {\n",
              "        vertical-align: middle;\n",
              "    }\n",
              "\n",
              "    .dataframe tbody tr th {\n",
              "        vertical-align: top;\n",
              "    }\n",
              "\n",
              "    .dataframe thead tr th {\n",
              "        text-align: left;\n",
              "    }\n",
              "\n",
              "    .dataframe thead tr:last-of-type th {\n",
              "        text-align: right;\n",
              "    }\n",
              "</style>\n",
              "<table border=\"1\" class=\"dataframe\">\n",
              "  <thead>\n",
              "    <tr>\n",
              "      <th></th>\n",
              "      <th></th>\n",
              "      <th colspan=\"4\" halign=\"left\">sum</th>\n",
              "    </tr>\n",
              "    <tr>\n",
              "      <th></th>\n",
              "      <th></th>\n",
              "      <th colspan=\"4\" halign=\"left\">Sale Price</th>\n",
              "    </tr>\n",
              "    <tr>\n",
              "      <th></th>\n",
              "      <th>Product</th>\n",
              "      <th>Analytics</th>\n",
              "      <th>GPS Positioning</th>\n",
              "      <th>Prediction</th>\n",
              "      <th>Tracking</th>\n",
              "    </tr>\n",
              "    <tr>\n",
              "      <th>Account Manager</th>\n",
              "      <th>Contact</th>\n",
              "      <th></th>\n",
              "      <th></th>\n",
              "      <th></th>\n",
              "      <th></th>\n",
              "    </tr>\n",
              "  </thead>\n",
              "  <tbody>\n",
              "    <tr>\n",
              "      <th rowspan=\"2\" valign=\"top\">Claude Shannon</th>\n",
              "      <th>Cindy Phoner</th>\n",
              "      <td>6650000</td>\n",
              "      <td>0</td>\n",
              "      <td>700000</td>\n",
              "      <td>350000</td>\n",
              "    </tr>\n",
              "    <tr>\n",
              "      <th>Emma Gordian</th>\n",
              "      <td>11550000</td>\n",
              "      <td>350000</td>\n",
              "      <td>0</td>\n",
              "      <td>490000</td>\n",
              "    </tr>\n",
              "    <tr>\n",
              "      <th rowspan=\"3\" valign=\"top\">Edward Thorp</th>\n",
              "      <th>Elon Tusk</th>\n",
              "      <td>7350000</td>\n",
              "      <td>0</td>\n",
              "      <td>700000</td>\n",
              "      <td>0</td>\n",
              "    </tr>\n",
              "    <tr>\n",
              "      <th>Larry Pager</th>\n",
              "      <td>4550000</td>\n",
              "      <td>0</td>\n",
              "      <td>700000</td>\n",
              "      <td>350000</td>\n",
              "    </tr>\n",
              "    <tr>\n",
              "      <th>Will Grates</th>\n",
              "      <td>2450000</td>\n",
              "      <td>0</td>\n",
              "      <td>0</td>\n",
              "      <td>350000</td>\n",
              "    </tr>\n",
              "  </tbody>\n",
              "</table>\n",
              "</div>"
            ],
            "text/plain": [
              "                                    sum                                    \n",
              "                             Sale Price                                    \n",
              "Product                       Analytics GPS Positioning Prediction Tracking\n",
              "Account Manager Contact                                                    \n",
              "Claude Shannon  Cindy Phoner    6650000               0     700000   350000\n",
              "                Emma Gordian   11550000          350000          0   490000\n",
              "Edward Thorp    Elon Tusk       7350000               0     700000        0\n",
              "                Larry Pager     4550000               0     700000   350000\n",
              "                Will Grates     2450000               0          0   350000"
            ]
          },
          "metadata": {
            "tags": []
          },
          "execution_count": 101
        }
      ]
    },
    {
      "cell_type": "code",
      "metadata": {
        "colab": {
          "base_uri": "https://localhost:8080/",
          "height": 290
        },
        "id": "Z-WCGaSkirCf",
        "outputId": "9a63b58e-7fa6-4468-b554-53a4308381c9"
      },
      "source": [
        "pd.pivot_table(df,index=[\"Account Manager\",\"Contact\"],values=[\"Sale Price\"],columns=[\"Product\"], aggfunc=[np.sum,np.mean], fill_value=0)"
      ],
      "execution_count": 102,
      "outputs": [
        {
          "output_type": "execute_result",
          "data": {
            "text/html": [
              "<div>\n",
              "<style scoped>\n",
              "    .dataframe tbody tr th:only-of-type {\n",
              "        vertical-align: middle;\n",
              "    }\n",
              "\n",
              "    .dataframe tbody tr th {\n",
              "        vertical-align: top;\n",
              "    }\n",
              "\n",
              "    .dataframe thead tr th {\n",
              "        text-align: left;\n",
              "    }\n",
              "\n",
              "    .dataframe thead tr:last-of-type th {\n",
              "        text-align: right;\n",
              "    }\n",
              "</style>\n",
              "<table border=\"1\" class=\"dataframe\">\n",
              "  <thead>\n",
              "    <tr>\n",
              "      <th></th>\n",
              "      <th></th>\n",
              "      <th colspan=\"4\" halign=\"left\">sum</th>\n",
              "      <th colspan=\"4\" halign=\"left\">mean</th>\n",
              "    </tr>\n",
              "    <tr>\n",
              "      <th></th>\n",
              "      <th></th>\n",
              "      <th colspan=\"4\" halign=\"left\">Sale Price</th>\n",
              "      <th colspan=\"4\" halign=\"left\">Sale Price</th>\n",
              "    </tr>\n",
              "    <tr>\n",
              "      <th></th>\n",
              "      <th>Product</th>\n",
              "      <th>Analytics</th>\n",
              "      <th>GPS Positioning</th>\n",
              "      <th>Prediction</th>\n",
              "      <th>Tracking</th>\n",
              "      <th>Analytics</th>\n",
              "      <th>GPS Positioning</th>\n",
              "      <th>Prediction</th>\n",
              "      <th>Tracking</th>\n",
              "    </tr>\n",
              "    <tr>\n",
              "      <th>Account Manager</th>\n",
              "      <th>Contact</th>\n",
              "      <th></th>\n",
              "      <th></th>\n",
              "      <th></th>\n",
              "      <th></th>\n",
              "      <th></th>\n",
              "      <th></th>\n",
              "      <th></th>\n",
              "      <th></th>\n",
              "    </tr>\n",
              "  </thead>\n",
              "  <tbody>\n",
              "    <tr>\n",
              "      <th rowspan=\"2\" valign=\"top\">Claude Shannon</th>\n",
              "      <th>Cindy Phoner</th>\n",
              "      <td>6650000</td>\n",
              "      <td>0</td>\n",
              "      <td>700000</td>\n",
              "      <td>350000</td>\n",
              "      <td>3325000</td>\n",
              "      <td>0</td>\n",
              "      <td>700000</td>\n",
              "      <td>350000</td>\n",
              "    </tr>\n",
              "    <tr>\n",
              "      <th>Emma Gordian</th>\n",
              "      <td>11550000</td>\n",
              "      <td>350000</td>\n",
              "      <td>0</td>\n",
              "      <td>490000</td>\n",
              "      <td>5775000</td>\n",
              "      <td>350000</td>\n",
              "      <td>0</td>\n",
              "      <td>490000</td>\n",
              "    </tr>\n",
              "    <tr>\n",
              "      <th rowspan=\"3\" valign=\"top\">Edward Thorp</th>\n",
              "      <th>Elon Tusk</th>\n",
              "      <td>7350000</td>\n",
              "      <td>0</td>\n",
              "      <td>700000</td>\n",
              "      <td>0</td>\n",
              "      <td>3675000</td>\n",
              "      <td>0</td>\n",
              "      <td>700000</td>\n",
              "      <td>0</td>\n",
              "    </tr>\n",
              "    <tr>\n",
              "      <th>Larry Pager</th>\n",
              "      <td>4550000</td>\n",
              "      <td>0</td>\n",
              "      <td>700000</td>\n",
              "      <td>350000</td>\n",
              "      <td>2275000</td>\n",
              "      <td>0</td>\n",
              "      <td>700000</td>\n",
              "      <td>350000</td>\n",
              "    </tr>\n",
              "    <tr>\n",
              "      <th>Will Grates</th>\n",
              "      <td>2450000</td>\n",
              "      <td>0</td>\n",
              "      <td>0</td>\n",
              "      <td>350000</td>\n",
              "      <td>2450000</td>\n",
              "      <td>0</td>\n",
              "      <td>0</td>\n",
              "      <td>350000</td>\n",
              "    </tr>\n",
              "  </tbody>\n",
              "</table>\n",
              "</div>"
            ],
            "text/plain": [
              "                                    sum                  ...       mean         \n",
              "                             Sale Price                  ... Sale Price         \n",
              "Product                       Analytics GPS Positioning  ... Prediction Tracking\n",
              "Account Manager Contact                                  ...                    \n",
              "Claude Shannon  Cindy Phoner    6650000               0  ...     700000   350000\n",
              "                Emma Gordian   11550000          350000  ...          0   490000\n",
              "Edward Thorp    Elon Tusk       7350000               0  ...     700000        0\n",
              "                Larry Pager     4550000               0  ...     700000   350000\n",
              "                Will Grates     2450000               0  ...          0   350000\n",
              "\n",
              "[5 rows x 8 columns]"
            ]
          },
          "metadata": {
            "tags": []
          },
          "execution_count": 102
        }
      ]
    },
    {
      "cell_type": "code",
      "metadata": {
        "colab": {
          "base_uri": "https://localhost:8080/",
          "height": 502
        },
        "id": "I-PkhMcNizZm",
        "outputId": "b52c8df4-8be0-4828-8bde-836d13c949bf"
      },
      "source": [
        "pd.pivot_table(df,index=[\"Account Manager\",\"Contact\",\"Product\"],values=[\"Sale Price\"], aggfunc=[np.sum], fill_value=0)"
      ],
      "execution_count": 103,
      "outputs": [
        {
          "output_type": "execute_result",
          "data": {
            "text/html": [
              "<div>\n",
              "<style scoped>\n",
              "    .dataframe tbody tr th:only-of-type {\n",
              "        vertical-align: middle;\n",
              "    }\n",
              "\n",
              "    .dataframe tbody tr th {\n",
              "        vertical-align: top;\n",
              "    }\n",
              "\n",
              "    .dataframe thead tr th {\n",
              "        text-align: left;\n",
              "    }\n",
              "\n",
              "    .dataframe thead tr:last-of-type th {\n",
              "        text-align: right;\n",
              "    }\n",
              "</style>\n",
              "<table border=\"1\" class=\"dataframe\">\n",
              "  <thead>\n",
              "    <tr>\n",
              "      <th></th>\n",
              "      <th></th>\n",
              "      <th></th>\n",
              "      <th>sum</th>\n",
              "    </tr>\n",
              "    <tr>\n",
              "      <th></th>\n",
              "      <th></th>\n",
              "      <th></th>\n",
              "      <th>Sale Price</th>\n",
              "    </tr>\n",
              "    <tr>\n",
              "      <th>Account Manager</th>\n",
              "      <th>Contact</th>\n",
              "      <th>Product</th>\n",
              "      <th></th>\n",
              "    </tr>\n",
              "  </thead>\n",
              "  <tbody>\n",
              "    <tr>\n",
              "      <th rowspan=\"6\" valign=\"top\">Claude Shannon</th>\n",
              "      <th rowspan=\"3\" valign=\"top\">Cindy Phoner</th>\n",
              "      <th>Analytics</th>\n",
              "      <td>6650000</td>\n",
              "    </tr>\n",
              "    <tr>\n",
              "      <th>Prediction</th>\n",
              "      <td>700000</td>\n",
              "    </tr>\n",
              "    <tr>\n",
              "      <th>Tracking</th>\n",
              "      <td>350000</td>\n",
              "    </tr>\n",
              "    <tr>\n",
              "      <th rowspan=\"3\" valign=\"top\">Emma Gordian</th>\n",
              "      <th>Analytics</th>\n",
              "      <td>11550000</td>\n",
              "    </tr>\n",
              "    <tr>\n",
              "      <th>GPS Positioning</th>\n",
              "      <td>350000</td>\n",
              "    </tr>\n",
              "    <tr>\n",
              "      <th>Tracking</th>\n",
              "      <td>490000</td>\n",
              "    </tr>\n",
              "    <tr>\n",
              "      <th rowspan=\"7\" valign=\"top\">Edward Thorp</th>\n",
              "      <th rowspan=\"2\" valign=\"top\">Elon Tusk</th>\n",
              "      <th>Analytics</th>\n",
              "      <td>7350000</td>\n",
              "    </tr>\n",
              "    <tr>\n",
              "      <th>Prediction</th>\n",
              "      <td>700000</td>\n",
              "    </tr>\n",
              "    <tr>\n",
              "      <th rowspan=\"3\" valign=\"top\">Larry Pager</th>\n",
              "      <th>Analytics</th>\n",
              "      <td>4550000</td>\n",
              "    </tr>\n",
              "    <tr>\n",
              "      <th>Prediction</th>\n",
              "      <td>700000</td>\n",
              "    </tr>\n",
              "    <tr>\n",
              "      <th>Tracking</th>\n",
              "      <td>350000</td>\n",
              "    </tr>\n",
              "    <tr>\n",
              "      <th rowspan=\"2\" valign=\"top\">Will Grates</th>\n",
              "      <th>Analytics</th>\n",
              "      <td>2450000</td>\n",
              "    </tr>\n",
              "    <tr>\n",
              "      <th>Tracking</th>\n",
              "      <td>350000</td>\n",
              "    </tr>\n",
              "  </tbody>\n",
              "</table>\n",
              "</div>"
            ],
            "text/plain": [
              "                                                    sum\n",
              "                                             Sale Price\n",
              "Account Manager Contact      Product                   \n",
              "Claude Shannon  Cindy Phoner Analytics          6650000\n",
              "                             Prediction          700000\n",
              "                             Tracking            350000\n",
              "                Emma Gordian Analytics         11550000\n",
              "                             GPS Positioning     350000\n",
              "                             Tracking            490000\n",
              "Edward Thorp    Elon Tusk    Analytics          7350000\n",
              "                             Prediction          700000\n",
              "                Larry Pager  Analytics          4550000\n",
              "                             Prediction          700000\n",
              "                             Tracking            350000\n",
              "                Will Grates  Analytics          2450000\n",
              "                             Tracking            350000"
            ]
          },
          "metadata": {
            "tags": []
          },
          "execution_count": 103
        }
      ]
    },
    {
      "cell_type": "code",
      "metadata": {
        "colab": {
          "base_uri": "https://localhost:8080/",
          "height": 532
        },
        "id": "4NuQ8jXwjZQ9",
        "outputId": "cf0e72c6-cbb7-4dda-e334-4b16a14b29e2"
      },
      "source": [
        "pd.pivot_table(df,index=[\"Account Manager\",\"Contact\",\"Product\"],values=[\"Sale Price\"], aggfunc=[np.sum], fill_value=0,margins=True) # margins give you a grand total at the very end at the margin."
      ],
      "execution_count": 104,
      "outputs": [
        {
          "output_type": "execute_result",
          "data": {
            "text/html": [
              "<div>\n",
              "<style scoped>\n",
              "    .dataframe tbody tr th:only-of-type {\n",
              "        vertical-align: middle;\n",
              "    }\n",
              "\n",
              "    .dataframe tbody tr th {\n",
              "        vertical-align: top;\n",
              "    }\n",
              "\n",
              "    .dataframe thead tr th {\n",
              "        text-align: left;\n",
              "    }\n",
              "\n",
              "    .dataframe thead tr:last-of-type th {\n",
              "        text-align: right;\n",
              "    }\n",
              "</style>\n",
              "<table border=\"1\" class=\"dataframe\">\n",
              "  <thead>\n",
              "    <tr>\n",
              "      <th></th>\n",
              "      <th></th>\n",
              "      <th></th>\n",
              "      <th>sum</th>\n",
              "    </tr>\n",
              "    <tr>\n",
              "      <th></th>\n",
              "      <th></th>\n",
              "      <th></th>\n",
              "      <th>Sale Price</th>\n",
              "    </tr>\n",
              "    <tr>\n",
              "      <th>Account Manager</th>\n",
              "      <th>Contact</th>\n",
              "      <th>Product</th>\n",
              "      <th></th>\n",
              "    </tr>\n",
              "  </thead>\n",
              "  <tbody>\n",
              "    <tr>\n",
              "      <th rowspan=\"6\" valign=\"top\">Claude Shannon</th>\n",
              "      <th rowspan=\"3\" valign=\"top\">Cindy Phoner</th>\n",
              "      <th>Analytics</th>\n",
              "      <td>6650000</td>\n",
              "    </tr>\n",
              "    <tr>\n",
              "      <th>Prediction</th>\n",
              "      <td>700000</td>\n",
              "    </tr>\n",
              "    <tr>\n",
              "      <th>Tracking</th>\n",
              "      <td>350000</td>\n",
              "    </tr>\n",
              "    <tr>\n",
              "      <th rowspan=\"3\" valign=\"top\">Emma Gordian</th>\n",
              "      <th>Analytics</th>\n",
              "      <td>11550000</td>\n",
              "    </tr>\n",
              "    <tr>\n",
              "      <th>GPS Positioning</th>\n",
              "      <td>350000</td>\n",
              "    </tr>\n",
              "    <tr>\n",
              "      <th>Tracking</th>\n",
              "      <td>490000</td>\n",
              "    </tr>\n",
              "    <tr>\n",
              "      <th rowspan=\"7\" valign=\"top\">Edward Thorp</th>\n",
              "      <th rowspan=\"2\" valign=\"top\">Elon Tusk</th>\n",
              "      <th>Analytics</th>\n",
              "      <td>7350000</td>\n",
              "    </tr>\n",
              "    <tr>\n",
              "      <th>Prediction</th>\n",
              "      <td>700000</td>\n",
              "    </tr>\n",
              "    <tr>\n",
              "      <th rowspan=\"3\" valign=\"top\">Larry Pager</th>\n",
              "      <th>Analytics</th>\n",
              "      <td>4550000</td>\n",
              "    </tr>\n",
              "    <tr>\n",
              "      <th>Prediction</th>\n",
              "      <td>700000</td>\n",
              "    </tr>\n",
              "    <tr>\n",
              "      <th>Tracking</th>\n",
              "      <td>350000</td>\n",
              "    </tr>\n",
              "    <tr>\n",
              "      <th rowspan=\"2\" valign=\"top\">Will Grates</th>\n",
              "      <th>Analytics</th>\n",
              "      <td>2450000</td>\n",
              "    </tr>\n",
              "    <tr>\n",
              "      <th>Tracking</th>\n",
              "      <td>350000</td>\n",
              "    </tr>\n",
              "    <tr>\n",
              "      <th>All</th>\n",
              "      <th></th>\n",
              "      <th></th>\n",
              "      <td>36540000</td>\n",
              "    </tr>\n",
              "  </tbody>\n",
              "</table>\n",
              "</div>"
            ],
            "text/plain": [
              "                                                    sum\n",
              "                                             Sale Price\n",
              "Account Manager Contact      Product                   \n",
              "Claude Shannon  Cindy Phoner Analytics          6650000\n",
              "                             Prediction          700000\n",
              "                             Tracking            350000\n",
              "                Emma Gordian Analytics         11550000\n",
              "                             GPS Positioning     350000\n",
              "                             Tracking            490000\n",
              "Edward Thorp    Elon Tusk    Analytics          7350000\n",
              "                             Prediction          700000\n",
              "                Larry Pager  Analytics          4550000\n",
              "                             Prediction          700000\n",
              "                             Tracking            350000\n",
              "                Will Grates  Analytics          2450000\n",
              "                             Tracking            350000\n",
              "All                                            36540000"
            ]
          },
          "metadata": {
            "tags": []
          },
          "execution_count": 104
        }
      ]
    },
    {
      "cell_type": "code",
      "metadata": {
        "id": "zI7yHeGUjuwi"
      },
      "source": [
        ""
      ],
      "execution_count": null,
      "outputs": []
    }
  ]
}